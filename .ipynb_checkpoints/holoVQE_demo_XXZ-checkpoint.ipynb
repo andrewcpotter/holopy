{
 "cells": [
  {
   "cell_type": "code",
   "execution_count": 1,
   "metadata": {},
   "outputs": [],
   "source": [
    "# standards\n",
    "import numpy as np\n",
    "from scipy.optimize import minimize\n",
    "import matplotlib.pyplot as plt\n",
    "\n",
    "# 3rd party packages\n",
    "import qiskit as qk\n",
    "import networkx as nx\n",
    "import tenpy\n",
    "\n",
    "## custom things\n",
    "import networks.networks as networks\n",
    "import circuits.basic_circuits as circuits"
   ]
  },
  {
   "cell_type": "markdown",
   "metadata": {},
   "source": [
    "## HoloPy demo: XXZ-chain\n",
    "$$H=\\sum_{i=1}^{L-1} \\sigma^x_{i}\\sigma^x_{i+1}+\\sigma^y_{i}\\sigma^y_{i+1} + \\Delta \\sigma^z_i\\sigma^z_{i+1}$$"
   ]
  },
  {
   "cell_type": "code",
   "execution_count": 2,
   "metadata": {},
   "outputs": [],
   "source": [
    "## Define model parameters ## \n",
    "L = 10 # length of chain\n",
    "Delta = 1.5 # Ising anisotropy \n",
    "nb = 2 # number of bond-qubits "
   ]
  },
  {
   "cell_type": "code",
   "execution_count": 5,
   "metadata": {},
   "outputs": [
    {
     "ename": "NameError",
     "evalue": "name 'pcircs' is not defined",
     "output_type": "error",
     "traceback": [
      "\u001b[0;31m---------------------------------------------------------------------------\u001b[0m",
      "\u001b[0;31mNameError\u001b[0m                                 Traceback (most recent call last)",
      "\u001b[0;32m<ipython-input-5-a54c90278f93>\u001b[0m in \u001b[0;36m<module>\u001b[0;34m\u001b[0m\n\u001b[1;32m      9\u001b[0m \u001b[0;34m\u001b[0m\u001b[0m\n\u001b[1;32m     10\u001b[0m \u001b[0;31m# setup isoMPS\u001b[0m\u001b[0;34m\u001b[0m\u001b[0;34m\u001b[0m\u001b[0;34m\u001b[0m\u001b[0m\n\u001b[0;32m---> 11\u001b[0;31m \u001b[0mpsi_mps\u001b[0m \u001b[0;34m=\u001b[0m \u001b[0mnetworks\u001b[0m\u001b[0;34m.\u001b[0m\u001b[0mIsoMPS\u001b[0m\u001b[0;34m(\u001b[0m\u001b[0mpreg\u001b[0m\u001b[0;34m,\u001b[0m\u001b[0mbreg\u001b[0m\u001b[0;34m,\u001b[0m\u001b[0mpcircs\u001b[0m\u001b[0;34m,\u001b[0m\u001b[0mbases\u001b[0m\u001b[0;34m=\u001b[0m\u001b[0;34m[\u001b[0m\u001b[0;34m'zzzzzzzzxx'\u001b[0m\u001b[0;34m]\u001b[0m\u001b[0;34m)\u001b[0m\u001b[0;34m\u001b[0m\u001b[0;34m\u001b[0m\u001b[0m\n\u001b[0m",
      "\u001b[0;31mNameError\u001b[0m: name 'pcircs' is not defined"
     ]
    }
   ],
   "source": [
    "## Setup HoloMPS ##\n",
    "preg = qk.QuantumRegister(1,'p')\n",
    "breg = qk.QuantumRegister(nb,'b')\n",
    "creg = qk.ClassicalRegister(L,'m')\n",
    "\n",
    "# parameterized circuit\n",
    "circ,params = circuits.star_circ(preg,breg,'c',circ_type='xxz')\n",
    "circ.circ.draw('mpl')\n",
    "pcircs = \n",
    "\n",
    "# setup isoMPS\n",
    "psi_mps = networks.IsoMPS(preg,breg,pcircs,bases=['zzzzzzzzxx'])"
   ]
  },
  {
   "cell_type": "code",
   "execution_count": null,
   "metadata": {},
   "outputs": [],
   "source": []
  }
 ],
 "metadata": {
  "kernelspec": {
   "display_name": "Python 3",
   "language": "python",
   "name": "python3"
  },
  "language_info": {
   "codemirror_mode": {
    "name": "ipython",
    "version": 3
   },
   "file_extension": ".py",
   "mimetype": "text/x-python",
   "name": "python",
   "nbconvert_exporter": "python",
   "pygments_lexer": "ipython3",
   "version": "3.8.5"
  }
 },
 "nbformat": 4,
 "nbformat_minor": 4
}
