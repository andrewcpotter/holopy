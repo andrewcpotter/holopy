{
 "cells": [
  {
   "cell_type": "code",
   "execution_count": 1,
   "metadata": {},
   "outputs": [],
   "source": [
    "# standards\n",
    "import numpy as np\n",
    "from scipy.optimize import minimize\n",
    "import matplotlib.pyplot as plt\n",
    "\n",
    "# 3rd party packages\n",
    "import qiskit as qk\n",
    "import networkx as nx\n",
    "import tenpy\n",
    "\n",
    "## custom things\n",
    "from networks.networks import IsoMPS\n",
    "from networks.isonetwork import QKParamCircuit\n",
    "import circuits.basic_circuits as circuits"
   ]
  },
  {
   "cell_type": "markdown",
   "metadata": {},
   "source": [
    "## HoloPy demo: XXZ-chain\n",
    "$$H=\\sum_{i=1}^{L-1} \\sigma^x_{i}\\sigma^x_{i+1}+\\sigma^y_{i}\\sigma^y_{i+1} + \\Delta \\sigma^z_i\\sigma^z_{i+1}$$"
   ]
  },
  {
   "cell_type": "code",
   "execution_count": 5,
   "metadata": {},
   "outputs": [],
   "source": [
    "## Define model parameters ## \n",
    "Delta = 1.5 # Ising anisotropy \n",
    "nb = 2 # number of bond-qubits \n",
    "\n",
    "# ansatz parameters\n",
    "L = 5 # number of unit cells\n",
    "l_uc = 2 # number of sites in unit cell"
   ]
  },
  {
   "cell_type": "code",
   "execution_count": 12,
   "metadata": {},
   "outputs": [],
   "source": [
    "## Setup IsoMPS ##\n",
    "# initialize registers\n",
    "preg = qk.QuantumRegister(1,'p') # physical qubits\n",
    "breg = qk.QuantumRegister(nb,'b') # bond qubits\n",
    "creg = qk.ClassicalRegister(L*l_uc,'m') # classical register to hold measurement outcomes\n",
    "\n",
    "## Initialize parameterized circuits\n",
    "# bond-prep circuit (sets left-boundary vector of MPS)\n",
    "bond_prep_circ = QKParamCircuit(qk.QuantumCircuit(breg),[])\n",
    "pcircs = [bond_prep_circ]\n",
    "\n",
    "# circuits that generate tensors\n",
    "params = [] # list of circuit parameters\n",
    "for j in range(l_uc):\n",
    "    circ_tmp,params_tmp = circuits.star_circ(preg,\n",
    "                                             breg,\n",
    "                                             label='[c{}]'.format(j),\n",
    "                                             circ_type='xxz') \n",
    "    pcircs+=[circ_tmp]\n",
    "    params+=[params_tmp]\n",
    "\n",
    "# setup circuit-generated isoMPS\n",
    "psi_mps = IsoMPS(preg,breg,pcircs)"
   ]
  },
  {
   "cell_type": "markdown",
   "metadata": {},
   "source": [
    "## 1. Compute energy by exporting to tenpy"
   ]
  },
  {
   "cell_type": "code",
   "execution_count": 13,
   "metadata": {},
   "outputs": [
    {
     "ename": "NameError",
     "evalue": "name 'param_list' is not defined",
     "output_type": "error",
     "traceback": [
      "\u001b[0;31m---------------------------------------------------------------------------\u001b[0m",
      "\u001b[0;31mNameError\u001b[0m                                 Traceback (most recent call last)",
      "\u001b[0;32m<ipython-input-13-f15a9bac3e5e>\u001b[0m in \u001b[0;36m<module>\u001b[0;34m\u001b[0m\n\u001b[1;32m      1\u001b[0m \u001b[0mparam_values\u001b[0m \u001b[0;34m=\u001b[0m \u001b[0mnp\u001b[0m\u001b[0;34m.\u001b[0m\u001b[0mrandom\u001b[0m\u001b[0;34m.\u001b[0m\u001b[0mrandn\u001b[0m\u001b[0;34m(\u001b[0m\u001b[0;34m)\u001b[0m\u001b[0;34m\u001b[0m\u001b[0;34m\u001b[0m\u001b[0m\n\u001b[0;32m----> 2\u001b[0;31m \u001b[0mparam_dict\u001b[0m \u001b[0;34m=\u001b[0m \u001b[0mdict\u001b[0m\u001b[0;34m(\u001b[0m\u001b[0mzip\u001b[0m\u001b[0;34m(\u001b[0m\u001b[0mparam_list\u001b[0m\u001b[0;34m,\u001b[0m\u001b[0;34m)\u001b[0m\u001b[0;34m)\u001b[0m\u001b[0;34m\u001b[0m\u001b[0;34m\u001b[0m\u001b[0m\n\u001b[0m",
      "\u001b[0;31mNameError\u001b[0m: name 'param_list' is not defined"
     ]
    }
   ],
   "source": [
    "param_values = np.random.randn(len(params))\n",
    "param_dict = dict(zip(param_list,))"
   ]
  },
  {
   "cell_type": "code",
   "execution_count": 11,
   "metadata": {},
   "outputs": [
    {
     "data": {
      "text/plain": [
       "[[Parameter([0]0),\n",
       "  Parameter([0]1),\n",
       "  Parameter([0]2),\n",
       "  Parameter([0]3),\n",
       "  Parameter([0]4),\n",
       "  Parameter([0]5)],\n",
       " [Parameter([1]0),\n",
       "  Parameter([1]1),\n",
       "  Parameter([1]2),\n",
       "  Parameter([1]3),\n",
       "  Parameter([1]4),\n",
       "  Parameter([1]5)]]"
      ]
     },
     "execution_count": 11,
     "metadata": {},
     "output_type": "execute_result"
    }
   ],
   "source": [
    "params"
   ]
  },
  {
   "cell_type": "code",
   "execution_count": null,
   "metadata": {},
   "outputs": [],
   "source": []
  }
 ],
 "metadata": {
  "kernelspec": {
   "display_name": "Python 3",
   "language": "python",
   "name": "python3"
  },
  "language_info": {
   "codemirror_mode": {
    "name": "ipython",
    "version": 3
   },
   "file_extension": ".py",
   "mimetype": "text/x-python",
   "name": "python",
   "nbconvert_exporter": "python",
   "pygments_lexer": "ipython3",
   "version": "3.8.5"
  }
 },
 "nbformat": 4,
 "nbformat_minor": 4
}
