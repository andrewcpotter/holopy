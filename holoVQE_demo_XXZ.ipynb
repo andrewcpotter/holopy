{
 "cells": [
  {
   "cell_type": "code",
   "execution_count": 9,
   "metadata": {},
   "outputs": [],
   "source": [
    "# standards\n",
    "import numpy as np\n",
    "from scipy.optimize import minimize\n",
    "import matplotlib.pyplot as plt\n",
    "\n",
    "# 3rd party packages\n",
    "import qiskit as qk\n",
    "import networkx as nx\n",
    "import tenpy\n",
    "\n",
    "## custom things\n",
    "from networks.networks import IsoMPS\n",
    "from networks.isonetwork import QKParamCircuit\n",
    "import circuits.basic_circuits as circuits"
   ]
  },
  {
   "cell_type": "markdown",
   "metadata": {},
   "source": [
    "## HoloPy demo: XXZ-chain\n",
    "$$H=\\sum_{i=1}^{L-1} \\sigma^x_{i}\\sigma^x_{i+1}+\\sigma^y_{i}\\sigma^y_{i+1} + \\Delta \\sigma^z_i\\sigma^z_{i+1}$$"
   ]
  },
  {
   "cell_type": "code",
   "execution_count": 12,
   "metadata": {},
   "outputs": [],
   "source": [
    "## Define model parameters ## \n",
    "Delta = 1.5 # Ising anisotropy \n",
    "nb = 2 # number of bond-qubits \n",
    "\n",
    "# ansatz parameters\n",
    "l_uc = 2 # number of sites in unit cell"
   ]
  },
  {
   "cell_type": "code",
   "execution_count": 18,
   "metadata": {},
   "outputs": [
    {
     "ename": "AttributeError",
     "evalue": "'IsoMPS' object has no attribute 'circ'",
     "output_type": "error",
     "traceback": [
      "\u001b[0;31m---------------------------------------------------------------------------\u001b[0m",
      "\u001b[0;31mAttributeError\u001b[0m                            Traceback (most recent call last)",
      "\u001b[0;32m<ipython-input-18-bd0c1a1c9c1d>\u001b[0m in \u001b[0;36m<module>\u001b[0;34m\u001b[0m\n\u001b[1;32m     19\u001b[0m \u001b[0;31m# setup circuit-generated isoMPS\u001b[0m\u001b[0;34m\u001b[0m\u001b[0;34m\u001b[0m\u001b[0;34m\u001b[0m\u001b[0m\n\u001b[1;32m     20\u001b[0m \u001b[0mpsi_mps\u001b[0m \u001b[0;34m=\u001b[0m \u001b[0mIsoMPS\u001b[0m\u001b[0;34m(\u001b[0m\u001b[0mpreg\u001b[0m\u001b[0;34m,\u001b[0m\u001b[0mbreg\u001b[0m\u001b[0;34m,\u001b[0m\u001b[0mpcircs\u001b[0m\u001b[0;34m)\u001b[0m\u001b[0;34m\u001b[0m\u001b[0;34m\u001b[0m\u001b[0m\n\u001b[0;32m---> 21\u001b[0;31m \u001b[0mpsi_mps\u001b[0m\u001b[0;34m.\u001b[0m\u001b[0mcirc\u001b[0m\u001b[0;34m.\u001b[0m\u001b[0mdraw\u001b[0m\u001b[0;34m(\u001b[0m\u001b[0;34m'mpl'\u001b[0m\u001b[0;34m)\u001b[0m\u001b[0;34m\u001b[0m\u001b[0;34m\u001b[0m\u001b[0m\n\u001b[0m",
      "\u001b[0;31mAttributeError\u001b[0m: 'IsoMPS' object has no attribute 'circ'"
     ]
    }
   ],
   "source": [
    "## Setup IsoMPS ##\n",
    "# initialize registers\n",
    "preg = qk.QuantumRegister(1,'p') # physical qubits\n",
    "breg = qk.QuantumRegister(nb,'b') # bond qubits\n",
    "creg = qk.ClassicalRegister(L,'m') # classical register to hold measurement outcomes\n",
    "\n",
    "## Initialize parameterized circuits\n",
    "# bond-prep circuit (sets left-boundary vector of MPS)\n",
    "bond_prep_circ = QKParamCircuit(qk.QuantumCircuit(breg),[])\n",
    "pcircs = [bond_prep_circ]\n",
    "\n",
    "# circuits that generate tensors\n",
    "param_list = []\n",
    "for j in range(l_uc):\n",
    "    circ,params = circuits.star_circ(preg,breg,'c',circ_type='xxz') \n",
    "    pcircs+=[circ]\n",
    "    param_list+=params\n",
    "\n",
    "# setup circuit-generated isoMPS\n",
    "psi_mps = IsoMPS(preg,breg,pcircs)\n",
    "psi_mps.circ.draw('mpl')"
   ]
  },
  {
   "cell_type": "markdown",
   "metadata": {},
   "source": []
  }
 ],
 "metadata": {
  "kernelspec": {
   "display_name": "Python 3",
   "language": "python",
   "name": "python3"
  },
  "language_info": {
   "codemirror_mode": {
    "name": "ipython",
    "version": 3
   },
   "file_extension": ".py",
   "mimetype": "text/x-python",
   "name": "python",
   "nbconvert_exporter": "python",
   "pygments_lexer": "ipython3",
   "version": "3.8.5"
  }
 },
 "nbformat": 4,
 "nbformat_minor": 4
}
