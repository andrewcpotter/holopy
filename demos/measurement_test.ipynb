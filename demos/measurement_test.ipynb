{
 "cells": [
  {
   "cell_type": "code",
   "execution_count": 1,
   "metadata": {},
   "outputs": [],
   "source": [
    "import sys\n",
    "sys.path.append(\"..\") # import one subdirectory up in files\n",
    "#sys.path.append(\"..\") # import one subdirectory up in files`\n",
    "#os.chdir(\"../holopy/\")\n",
    "\n",
    "# standard imports\n",
    "import numpy as np\n",
    "from scipy.optimize import minimize\n",
    "import matplotlib.pyplot as plt\n",
    "import matplotlib\n",
    "import time as time\n",
    "#import json\n",
    "import pickle\n",
    "\n",
    "# 3rd party packages\n",
    "import qiskit as qk\n",
    "import qiskit.providers.aer.noise as noise\n",
    "import tenpy as tp\n",
    "\n",
    "## custom things\n",
    "from networks.networks import IsoMPS\n",
    "from networks.isonetwork import QKParamCircuit\n",
    "import circuits.basic_circuits as circuits"
   ]
  },
  {
   "cell_type": "code",
   "execution_count": 39,
   "metadata": {},
   "outputs": [
    {
     "name": "stdout",
     "output_type": "stream",
     "text": [
      "[0.48   0.47   0.515  0.535  0.515  0.525  0.4975 0.465  0.485  0.4575]\n",
      "[0.5225 0.5    0.5175 0.5525 0.4975 0.5225 0.5575 0.495  0.5275 0.475 ]\n",
      "[0.5575 0.51   0.475  0.53   0.5275 0.49   0.5275 0.5075 0.4825 0.485 ]\n",
      "[0.4875 0.55   0.5    0.5    0.48   0.4975 0.5    0.5225 0.5025 0.48  ]\n",
      "[0.4775 0.4625 0.435  0.4975 0.475  0.5    0.535  0.4825 0.51   0.485 ]\n",
      "[0.5175 0.485  0.49   0.515  0.5375 0.5325 0.495  0.4575 0.4675 0.44  ]\n",
      "[0.49   0.49   0.475  0.4575 0.535  0.4925 0.4875 0.4475 0.52   0.515 ]\n",
      "[0.46   0.51   0.4775 0.495  0.47   0.495  0.505  0.4975 0.4875 0.4875]\n",
      "[0.49   0.4925 0.4825 0.4825 0.5275 0.49   0.51   0.515  0.4575 0.5375]\n",
      "[0.485  0.5125 0.47   0.5275 0.495  0.4925 0.51   0.48   0.4975 0.5275]\n"
     ]
    }
   ],
   "source": [
    "L=10\n",
    "shots = 400\n",
    "\n",
    "theta = np.pi/2 # circuit parametert\n",
    "params = [qk.circuit.Parameter('theta')]\n",
    "param_dict = {params[0]:theta}\n",
    "\n",
    "preg = qk.QuantumRegister(1,'p') # physical qubits\n",
    "breg = qk.QuantumRegister(1,'b') # bond qubits\n",
    "circ = qk.QuantumCircuit(preg,breg)\n",
    "circ.rx(0,preg[0])\n",
    "circ.rx(0,breg[0])\n",
    "circ.rxx(params[0],preg[0],breg[0])\n",
    "pcirc = QKParamCircuit(circ,params)\n",
    "psi = IsoMPS(preg,breg,[pcirc],L=L,bases=['x']*L)\n",
    "\n",
    "sim_circ = psi.construct_circuit(param_dict)\n",
    "simulator = qk.Aer.get_backend('qasm_simulator')\n",
    "\n",
    "for j in range(10):\n",
    "    result = qk.execute(sim_circ,\n",
    "               simulator,\n",
    "               shots=shots).result()\n",
    "    counts = result.get_counts()\n",
    "    ms = np.zeros(L)\n",
    "    for k in counts.keys():\n",
    "        m_sample = np.array([np.int(x) for x in k.split(\" \")])\n",
    "        ms += counts[k]/shots * m_sample\n",
    "    print(ms)"
   ]
  },
  {
   "cell_type": "code",
   "execution_count": null,
   "metadata": {},
   "outputs": [],
   "source": []
  },
  {
   "cell_type": "code",
   "execution_count": 23,
   "metadata": {},
   "outputs": [
    {
     "ename": "TypeError",
     "evalue": "int() argument must be a string, a bytes-like object or a number, not 'list'",
     "output_type": "error",
     "traceback": [
      "\u001b[0;31m---------------------------------------------------------------------------\u001b[0m",
      "\u001b[0;31mTypeError\u001b[0m                                 Traceback (most recent call last)",
      "\u001b[0;32m<ipython-input-23-89f5fb4f9557>\u001b[0m in \u001b[0;36m<module>\u001b[0;34m\u001b[0m\n\u001b[1;32m      1\u001b[0m \u001b[0mmz\u001b[0m \u001b[0;34m=\u001b[0m \u001b[0mnp\u001b[0m\u001b[0;34m.\u001b[0m\u001b[0mzeros\u001b[0m\u001b[0;34m(\u001b[0m\u001b[0mL\u001b[0m\u001b[0;34m)\u001b[0m\u001b[0;34m\u001b[0m\u001b[0;34m\u001b[0m\u001b[0m\n\u001b[1;32m      2\u001b[0m \u001b[0;32mfor\u001b[0m \u001b[0mk\u001b[0m \u001b[0;32min\u001b[0m \u001b[0mcounts\u001b[0m\u001b[0;34m.\u001b[0m\u001b[0mkeys\u001b[0m\u001b[0;34m(\u001b[0m\u001b[0;34m)\u001b[0m\u001b[0;34m:\u001b[0m\u001b[0;34m\u001b[0m\u001b[0;34m\u001b[0m\u001b[0m\n\u001b[0;32m----> 3\u001b[0;31m     \u001b[0mnp\u001b[0m\u001b[0;34m.\u001b[0m\u001b[0mint\u001b[0m\u001b[0;34m(\u001b[0m\u001b[0mk\u001b[0m\u001b[0;34m.\u001b[0m\u001b[0msplit\u001b[0m\u001b[0;34m(\u001b[0m\u001b[0;34m\" \"\u001b[0m\u001b[0;34m)\u001b[0m\u001b[0;34m)\u001b[0m\u001b[0;34m\u001b[0m\u001b[0;34m\u001b[0m\u001b[0m\n\u001b[0m",
      "\u001b[0;31mTypeError\u001b[0m: int() argument must be a string, a bytes-like object or a number, not 'list'"
     ]
    }
   ],
   "source": [
    "mz = np.zeros(L)\n",
    "for k in counts.keys():\n",
    "    k.split(\" \")"
   ]
  },
  {
   "cell_type": "code",
   "execution_count": null,
   "metadata": {},
   "outputs": [],
   "source": []
  }
 ],
 "metadata": {
  "kernelspec": {
   "display_name": "Python 3",
   "language": "python",
   "name": "python3"
  },
  "language_info": {
   "codemirror_mode": {
    "name": "ipython",
    "version": 3
   },
   "file_extension": ".py",
   "mimetype": "text/x-python",
   "name": "python",
   "nbconvert_exporter": "python",
   "pygments_lexer": "ipython3",
   "version": "3.7.7"
  }
 },
 "nbformat": 4,
 "nbformat_minor": 4
}
