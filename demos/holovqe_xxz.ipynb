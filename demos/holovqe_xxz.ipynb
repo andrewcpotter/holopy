{
 "cells": [
  {
   "cell_type": "code",
   "execution_count": 184,
   "metadata": {},
   "outputs": [],
   "source": [
    "# standard imports\n",
    "import numpy as np\n",
    "from scipy.optimize import minimize\n",
    "import matplotlib.pyplot as plt\n",
    "import time as time\n",
    "#import json\n",
    "import pickle\n",
    "\n",
    "# 3rd party packages\n",
    "import qiskit as qk\n",
    "import qiskit.providers.aer.noise as noise\n",
    "import networkx as nx\n",
    "import tenpy as tp\n",
    "\n",
    "## custom things\n",
    "from networks.networks import IsoMPS\n",
    "from networks.isonetwork import QKParamCircuit\n",
    "import circuits.basic_circuits as circuits"
   ]
  },
  {
   "cell_type": "markdown",
   "metadata": {},
   "source": [
    "## HoloPy demo: spin-chain\n",
    "\n",
    "XXZ: $$H_\\text{XXZ}=\\sum_{i}J\\left(\\sigma^x_{i}\\sigma^x_{i+1}+\\sigma^y_{i}\\sigma^y_{i+1} + \\Delta \\sigma^z_i\\sigma^z_{i+1}\\right)+h_z\\sigma^z_i$$\n",
    "\n",
    "Ising: $$H_\\text{TFIM}=\\sum_i -J\\sigma^x_i\\sigma^x_{i+1}-h\\sigma^x_{i}$$"
   ]
  },
  {
   "cell_type": "code",
   "execution_count": 198,
   "metadata": {},
   "outputs": [],
   "source": [
    "# ansatz parameters\n",
    "nb = 1 # number of bond-qubits \n",
    "L = 1 # number of unit cells\n",
    "l_uc = 2 # number of sites in unit cell"
   ]
  },
  {
   "cell_type": "code",
   "execution_count": 199,
   "metadata": {},
   "outputs": [],
   "source": [
    "## Setup IsoMPS ##\n",
    "# initialize registers\n",
    "preg = qk.QuantumRegister(1,'p') # physical qubits\n",
    "breg = qk.QuantumRegister(nb,'b') # bond qubits\n",
    "creg = qk.ClassicalRegister(L*l_uc+nb,'m') # classical register to hold measurement outcomes\n",
    "\n",
    "## Initialize parameterized circuits\n",
    "# bond-prep circuit (sets left-boundary vector of MPS)\n",
    "bond_prep_circ = QKParamCircuit(qk.QuantumCircuit(breg),[])\n",
    "circs = []#[bond_prep_circ]\n",
    "\n",
    "# circuits that generate tensors\n",
    "param_names= [] # list of circuit parameters\n",
    "for j in range(l_uc):\n",
    "    # circuit to initialize state (start in state 101010101...)\n",
    "    init_circ = qk.QuantumCircuit(preg)\n",
    "    init_circ.h(preg)\n",
    "    #if j%2==0: init_circ.x(preg)\n",
    "    \n",
    "    circ_tmp,params_tmp = circuits.star_circ(preg,\n",
    "                                             breg,\n",
    "                                             label='[c{}]'.format(j),\n",
    "                                             circ_type='xxz',\n",
    "                                             init_circ=init_circ)   \n",
    "    circs+=[circ_tmp]\n",
    "    param_names+=params_tmp\n",
    "\n",
    "# setup circuit-generated isoMPS\n",
    "psi = IsoMPS(preg,breg,circs,L=L)"
   ]
  },
  {
   "cell_type": "code",
   "execution_count": 200,
   "metadata": {},
   "outputs": [
    {
     "name": "stdout",
     "output_type": "stream",
     "text": [
      "{Parameter([c0]0): 8.65423162115167, Parameter([c0]1): 6.388833145419409, Parameter([c0]2): 7.334354665707347, Parameter([c1]0): 9.68797977519582, Parameter([c1]1): 11.867018216017309, Parameter([c1]2): 2.776867556104753}\n"
     ]
    },
    {
     "data": {
      "image/png": "[encoded data removed]",
      "text/plain": [
       "<Figure size 1591.45x325.08 with 1 Axes>"
      ]
     },
     "execution_count": 200,
     "metadata": {},
     "output_type": "execute_result"
    }
   ],
   "source": [
    "## Example (resolve parameters => random values and print circuit)\n",
    "# pick some random parameter values\n",
    "param_vals = [4*np.pi*np.random.rand() for j in range(len(param_names))]\n",
    "param_dict = dict(zip(param_names,param_vals))\n",
    "psi.construct_circuit(param_dict,include_measurements=False)\n",
    "print(param_dict)\n",
    "psi.circ.draw('mpl')"
   ]
  },
  {
   "cell_type": "markdown",
   "metadata": {},
   "source": [
    "## 1. Compute energy by exporting to tenpy"
   ]
  },
  {
   "cell_type": "code",
   "execution_count": 201,
   "metadata": {},
   "outputs": [],
   "source": [
    "## Functions to create tenpy models\n",
    "def ising_impo(J, h):\n",
    "    site = tp.networks.site.SpinHalfSite(conserve=None)\n",
    "    #Id, Sp, Sm, Sz = site.Id, site.Sp, site.Sm, 2*site.Sz\n",
    "    #Sx = Sp + Sm\n",
    "    Id, Sx, Sz = site.Id, site.Sigmax, site.Sigmaz\n",
    "    W = [[Id,Sx,-h*Sz], \n",
    "         [None,None,-J*Sx], \n",
    "         [None,None,Id]]\n",
    "    H = tp.networks.mpo.MPO.from_grids([site], [W], bc='infinite', IdL=0, IdR=-1)\n",
    "    return H\n",
    "\n",
    "def xxz_impo(Delta):\n",
    "    \"\"\"\n",
    "    Doesn't work! (leg-charge error?)\n",
    "    \"\"\"\n",
    "    site = tp.networks.site.SpinHalfSite(conserve=None)\n",
    "    Id, Sp, Sm, Sz = site.Id, site.Sp, site.Sm, site.Sigmaz\n",
    "    Sx = Sp + Sm\n",
    "    W = [[Id,Sp,Sm,Sz], \n",
    "         [None,None,None,1/2*Sm],\n",
    "         [None,None,None,1/2*Sp],\n",
    "         [None,None,None,Delta*Sz],\n",
    "         [None,None,None,Id]]\n",
    "    H = tp.networks.mpo.MPO.from_grids([site], [W], bc='infinite', IdL=0, IdR=-1)\n",
    "    return H\n",
    "\n",
    "def xxz_mpo(J=1.0, Delta=1.0, hz=0.0, N=1, bc='infinite'):\n",
    "    site = tp.networks.site.SpinHalfSite(None)\n",
    "    Id, Sp, Sm, Sz = site.Id, site.Sp, site.Sm, 2*site.Sz\n",
    "    W_bulk = [[Id, Sp, Sm, Sz, -hz * Sz],\n",
    "              [None, None, None, None, 0.5 * J * Sm],\n",
    "              [None, None, None, None, 0.5 * J * Sp],\n",
    "              [None, None, None, None, J * Delta * Sz],\n",
    "              [None, None, None, None, Id]]\n",
    "    #W_first = [W_bulk[0]]  # first row\n",
    "    #W_last = [[row[-1]] for row in W_bulk]  # last column\n",
    "    #Ws = [W_first] + [W_bulk]*(N - 2) + [W_last]\n",
    "    #H = tp.networks.mpo.MPO.from_grids([site]*N, Ws, bc, IdL=0, IdR=-1) # (probably leave the IdL,IdR)\n",
    "    H = tp.networks.mpo.MPO.from_grids([site], [W_bulk], bc, IdL=0, IdR=-1) # (probably leave the IdL,IdR)\n",
    "    return H\n",
    "\n",
    "test = xxz_mpo()\n",
    "\n",
    "# energy calculator\n",
    "def energy_tp(param_vals,*args):\n",
    "    \"\"\"\n",
    "    function to calculate energy using MPO/MPS contraction in tenpy\n",
    "    inputs:\n",
    "        - param_vals = dict {parameter:value}\n",
    "        - *args, \n",
    "            args[0] should be psi: state as IsoMPS\n",
    "            args[1] should be H_mpo: Hamiltonian as MPO\n",
    "        (input made this way to be compatible w/ scipy.optimize)\n",
    "    outputs:\n",
    "        - float, <psi|H|psi> computed w/ tenpy\n",
    "    \"\"\"\n",
    "    # parse inputs\n",
    "    psi=args[0] # state as isoMPS    \n",
    "    H_mpo = args[1] # Hamiltonian as tenpy MPO\n",
    "    param_dict = dict(zip(param_names,param_vals))\n",
    "    \n",
    "    # convert state from holoPy isoMPS to tenpy MPS\n",
    "    psi_tp = psi.to_tenpy(param_dict,L=np.inf)\n",
    "    \n",
    "    # compute energy\n",
    "    E = (H_mpo.expectation_value(psi_tp)).real\n",
    "    return E"
   ]
  },
  {
   "cell_type": "markdown",
   "metadata": {},
   "source": [
    "## Define the Model"
   ]
  },
  {
   "cell_type": "code",
   "execution_count": 202,
   "metadata": {},
   "outputs": [],
   "source": [
    "## define model ##\n",
    "J = -1.0\n",
    "Delta = 1.3\n",
    "hz = 0.0"
   ]
  },
  {
   "cell_type": "markdown",
   "metadata": {},
   "source": [
    "### classically optimize the variational circuit using tenpy"
   ]
  },
  {
   "cell_type": "code",
   "execution_count": 203,
   "metadata": {
    "scrolled": false
   },
   "outputs": [
    {
     "ename": "TypeError",
     "evalue": "can't multiply sequence by non-int of type 'float'",
     "output_type": "error",
     "traceback": [
      "\u001b[0;31m---------------------------------------------------------------------------\u001b[0m",
      "\u001b[0;31mTypeError\u001b[0m                                 Traceback (most recent call last)",
      "\u001b[0;32m<ipython-input-203-ca43df04b4ef>\u001b[0m in \u001b[0;36m<module>\u001b[0;34m\u001b[0m\n\u001b[1;32m      8\u001b[0m \u001b[0mx0\u001b[0m \u001b[0;34m=\u001b[0m \u001b[0;36m0.03\u001b[0m\u001b[0;34m*\u001b[0m\u001b[0mnp\u001b[0m\u001b[0;34m.\u001b[0m\u001b[0mrandom\u001b[0m\u001b[0;34m.\u001b[0m\u001b[0mrandn\u001b[0m\u001b[0;34m(\u001b[0m\u001b[0mlen\u001b[0m\u001b[0;34m(\u001b[0m\u001b[0mparam_names\u001b[0m\u001b[0;34m)\u001b[0m\u001b[0;34m)\u001b[0m \u001b[0;31m# starting point for parameters\u001b[0m\u001b[0;34m\u001b[0m\u001b[0;34m\u001b[0m\u001b[0m\n\u001b[1;32m      9\u001b[0m \u001b[0mt0\u001b[0m \u001b[0;34m=\u001b[0m \u001b[0mtime\u001b[0m\u001b[0;34m.\u001b[0m\u001b[0mtime\u001b[0m\u001b[0;34m(\u001b[0m\u001b[0;34m)\u001b[0m\u001b[0;34m\u001b[0m\u001b[0;34m\u001b[0m\u001b[0m\n\u001b[0;32m---> 10\u001b[0;31m opt_result = minimize(energy_tp, # function to minimize\n\u001b[0m\u001b[1;32m     11\u001b[0m                       \u001b[0mx0\u001b[0m\u001b[0;34m,\u001b[0m \u001b[0;31m# starting point for parameters\u001b[0m\u001b[0;34m\u001b[0m\u001b[0;34m\u001b[0m\u001b[0m\n\u001b[1;32m     12\u001b[0m                       \u001b[0margs\u001b[0m\u001b[0;34m=\u001b[0m\u001b[0;34m(\u001b[0m\u001b[0mpsi\u001b[0m\u001b[0;34m,\u001b[0m\u001b[0mH_mpo\u001b[0m\u001b[0;34m)\u001b[0m\u001b[0;34m,\u001b[0m \u001b[0;31m# must take form (isoMPS,tenpy MPO)\u001b[0m\u001b[0;34m\u001b[0m\u001b[0;34m\u001b[0m\u001b[0m\n",
      "\u001b[0;32m~/anaconda3/envs/tenpy/lib/python3.9/site-packages/scipy/optimize/_minimize.py\u001b[0m in \u001b[0;36mminimize\u001b[0;34m(fun, x0, args, method, jac, hess, hessp, bounds, constraints, tol, callback, options)\u001b[0m\n\u001b[1;32m    612\u001b[0m         \u001b[0;32mreturn\u001b[0m \u001b[0m_minimize_cg\u001b[0m\u001b[0;34m(\u001b[0m\u001b[0mfun\u001b[0m\u001b[0;34m,\u001b[0m \u001b[0mx0\u001b[0m\u001b[0;34m,\u001b[0m \u001b[0margs\u001b[0m\u001b[0;34m,\u001b[0m \u001b[0mjac\u001b[0m\u001b[0;34m,\u001b[0m \u001b[0mcallback\u001b[0m\u001b[0;34m,\u001b[0m \u001b[0;34m**\u001b[0m\u001b[0moptions\u001b[0m\u001b[0;34m)\u001b[0m\u001b[0;34m\u001b[0m\u001b[0;34m\u001b[0m\u001b[0m\n\u001b[1;32m    613\u001b[0m     \u001b[0;32melif\u001b[0m \u001b[0mmeth\u001b[0m \u001b[0;34m==\u001b[0m \u001b[0;34m'bfgs'\u001b[0m\u001b[0;34m:\u001b[0m\u001b[0;34m\u001b[0m\u001b[0;34m\u001b[0m\u001b[0m\n\u001b[0;32m--> 614\u001b[0;31m         \u001b[0;32mreturn\u001b[0m \u001b[0m_minimize_bfgs\u001b[0m\u001b[0;34m(\u001b[0m\u001b[0mfun\u001b[0m\u001b[0;34m,\u001b[0m \u001b[0mx0\u001b[0m\u001b[0;34m,\u001b[0m \u001b[0margs\u001b[0m\u001b[0;34m,\u001b[0m \u001b[0mjac\u001b[0m\u001b[0;34m,\u001b[0m \u001b[0mcallback\u001b[0m\u001b[0;34m,\u001b[0m \u001b[0;34m**\u001b[0m\u001b[0moptions\u001b[0m\u001b[0;34m)\u001b[0m\u001b[0;34m\u001b[0m\u001b[0;34m\u001b[0m\u001b[0m\n\u001b[0m\u001b[1;32m    615\u001b[0m     \u001b[0;32melif\u001b[0m \u001b[0mmeth\u001b[0m \u001b[0;34m==\u001b[0m \u001b[0;34m'newton-cg'\u001b[0m\u001b[0;34m:\u001b[0m\u001b[0;34m\u001b[0m\u001b[0;34m\u001b[0m\u001b[0m\n\u001b[1;32m    616\u001b[0m         return _minimize_newtoncg(fun, x0, args, jac, hess, hessp, callback,\n",
      "\u001b[0;32m~/anaconda3/envs/tenpy/lib/python3.9/site-packages/scipy/optimize/optimize.py\u001b[0m in \u001b[0;36m_minimize_bfgs\u001b[0;34m(fun, x0, args, jac, callback, gtol, norm, eps, maxiter, disp, return_all, finite_diff_rel_step, **unknown_options)\u001b[0m\n\u001b[1;32m   1133\u001b[0m         \u001b[0mmaxiter\u001b[0m \u001b[0;34m=\u001b[0m \u001b[0mlen\u001b[0m\u001b[0;34m(\u001b[0m\u001b[0mx0\u001b[0m\u001b[0;34m)\u001b[0m \u001b[0;34m*\u001b[0m \u001b[0;36m200\u001b[0m\u001b[0;34m\u001b[0m\u001b[0;34m\u001b[0m\u001b[0m\n\u001b[1;32m   1134\u001b[0m \u001b[0;34m\u001b[0m\u001b[0m\n\u001b[0;32m-> 1135\u001b[0;31m     sf = _prepare_scalar_function(fun, x0, jac, args=args, epsilon=eps,\n\u001b[0m\u001b[1;32m   1136\u001b[0m                                   finite_diff_rel_step=finite_diff_rel_step)\n\u001b[1;32m   1137\u001b[0m \u001b[0;34m\u001b[0m\u001b[0m\n",
      "\u001b[0;32m~/anaconda3/envs/tenpy/lib/python3.9/site-packages/scipy/optimize/optimize.py\u001b[0m in \u001b[0;36m_prepare_scalar_function\u001b[0;34m(fun, x0, jac, args, bounds, epsilon, finite_diff_rel_step, hess)\u001b[0m\n\u001b[1;32m    259\u001b[0m     \u001b[0;31m# ScalarFunction caches. Reuse of fun(x) during grad\u001b[0m\u001b[0;34m\u001b[0m\u001b[0;34m\u001b[0m\u001b[0;34m\u001b[0m\u001b[0m\n\u001b[1;32m    260\u001b[0m     \u001b[0;31m# calculation reduces overall function evaluations.\u001b[0m\u001b[0;34m\u001b[0m\u001b[0;34m\u001b[0m\u001b[0;34m\u001b[0m\u001b[0m\n\u001b[0;32m--> 261\u001b[0;31m     sf = ScalarFunction(fun, x0, args, grad, hess,\n\u001b[0m\u001b[1;32m    262\u001b[0m                         finite_diff_rel_step, bounds, epsilon=epsilon)\n\u001b[1;32m    263\u001b[0m \u001b[0;34m\u001b[0m\u001b[0m\n",
      "\u001b[0;32m~/anaconda3/envs/tenpy/lib/python3.9/site-packages/scipy/optimize/_differentiable_functions.py\u001b[0m in \u001b[0;36m__init__\u001b[0;34m(self, fun, x0, args, grad, hess, finite_diff_rel_step, finite_diff_bounds, epsilon)\u001b[0m\n\u001b[1;32m    134\u001b[0m \u001b[0;34m\u001b[0m\u001b[0m\n\u001b[1;32m    135\u001b[0m         \u001b[0mself\u001b[0m\u001b[0;34m.\u001b[0m\u001b[0m_update_fun_impl\u001b[0m \u001b[0;34m=\u001b[0m \u001b[0mupdate_fun\u001b[0m\u001b[0;34m\u001b[0m\u001b[0;34m\u001b[0m\u001b[0m\n\u001b[0;32m--> 136\u001b[0;31m         \u001b[0mself\u001b[0m\u001b[0;34m.\u001b[0m\u001b[0m_update_fun\u001b[0m\u001b[0;34m(\u001b[0m\u001b[0;34m)\u001b[0m\u001b[0;34m\u001b[0m\u001b[0;34m\u001b[0m\u001b[0m\n\u001b[0m\u001b[1;32m    137\u001b[0m \u001b[0;34m\u001b[0m\u001b[0m\n\u001b[1;32m    138\u001b[0m         \u001b[0;31m# Gradient evaluation\u001b[0m\u001b[0;34m\u001b[0m\u001b[0;34m\u001b[0m\u001b[0;34m\u001b[0m\u001b[0m\n",
      "\u001b[0;32m~/anaconda3/envs/tenpy/lib/python3.9/site-packages/scipy/optimize/_differentiable_functions.py\u001b[0m in \u001b[0;36m_update_fun\u001b[0;34m(self)\u001b[0m\n\u001b[1;32m    224\u001b[0m     \u001b[0;32mdef\u001b[0m \u001b[0m_update_fun\u001b[0m\u001b[0;34m(\u001b[0m\u001b[0mself\u001b[0m\u001b[0;34m)\u001b[0m\u001b[0;34m:\u001b[0m\u001b[0;34m\u001b[0m\u001b[0;34m\u001b[0m\u001b[0m\n\u001b[1;32m    225\u001b[0m         \u001b[0;32mif\u001b[0m \u001b[0;32mnot\u001b[0m \u001b[0mself\u001b[0m\u001b[0;34m.\u001b[0m\u001b[0mf_updated\u001b[0m\u001b[0;34m:\u001b[0m\u001b[0;34m\u001b[0m\u001b[0;34m\u001b[0m\u001b[0m\n\u001b[0;32m--> 226\u001b[0;31m             \u001b[0mself\u001b[0m\u001b[0;34m.\u001b[0m\u001b[0m_update_fun_impl\u001b[0m\u001b[0;34m(\u001b[0m\u001b[0;34m)\u001b[0m\u001b[0;34m\u001b[0m\u001b[0;34m\u001b[0m\u001b[0m\n\u001b[0m\u001b[1;32m    227\u001b[0m             \u001b[0mself\u001b[0m\u001b[0;34m.\u001b[0m\u001b[0mf_updated\u001b[0m \u001b[0;34m=\u001b[0m \u001b[0;32mTrue\u001b[0m\u001b[0;34m\u001b[0m\u001b[0;34m\u001b[0m\u001b[0m\n\u001b[1;32m    228\u001b[0m \u001b[0;34m\u001b[0m\u001b[0m\n",
      "\u001b[0;32m~/anaconda3/envs/tenpy/lib/python3.9/site-packages/scipy/optimize/_differentiable_functions.py\u001b[0m in \u001b[0;36mupdate_fun\u001b[0;34m()\u001b[0m\n\u001b[1;32m    131\u001b[0m \u001b[0;34m\u001b[0m\u001b[0m\n\u001b[1;32m    132\u001b[0m         \u001b[0;32mdef\u001b[0m \u001b[0mupdate_fun\u001b[0m\u001b[0;34m(\u001b[0m\u001b[0;34m)\u001b[0m\u001b[0;34m:\u001b[0m\u001b[0;34m\u001b[0m\u001b[0;34m\u001b[0m\u001b[0m\n\u001b[0;32m--> 133\u001b[0;31m             \u001b[0mself\u001b[0m\u001b[0;34m.\u001b[0m\u001b[0mf\u001b[0m \u001b[0;34m=\u001b[0m \u001b[0mfun_wrapped\u001b[0m\u001b[0;34m(\u001b[0m\u001b[0mself\u001b[0m\u001b[0;34m.\u001b[0m\u001b[0mx\u001b[0m\u001b[0;34m)\u001b[0m\u001b[0;34m\u001b[0m\u001b[0;34m\u001b[0m\u001b[0m\n\u001b[0m\u001b[1;32m    134\u001b[0m \u001b[0;34m\u001b[0m\u001b[0m\n\u001b[1;32m    135\u001b[0m         \u001b[0mself\u001b[0m\u001b[0;34m.\u001b[0m\u001b[0m_update_fun_impl\u001b[0m \u001b[0;34m=\u001b[0m \u001b[0mupdate_fun\u001b[0m\u001b[0;34m\u001b[0m\u001b[0;34m\u001b[0m\u001b[0m\n",
      "\u001b[0;32m~/anaconda3/envs/tenpy/lib/python3.9/site-packages/scipy/optimize/_differentiable_functions.py\u001b[0m in \u001b[0;36mfun_wrapped\u001b[0;34m(x)\u001b[0m\n\u001b[1;32m    128\u001b[0m         \u001b[0;32mdef\u001b[0m \u001b[0mfun_wrapped\u001b[0m\u001b[0;34m(\u001b[0m\u001b[0mx\u001b[0m\u001b[0;34m)\u001b[0m\u001b[0;34m:\u001b[0m\u001b[0;34m\u001b[0m\u001b[0;34m\u001b[0m\u001b[0m\n\u001b[1;32m    129\u001b[0m             \u001b[0mself\u001b[0m\u001b[0;34m.\u001b[0m\u001b[0mnfev\u001b[0m \u001b[0;34m+=\u001b[0m \u001b[0;36m1\u001b[0m\u001b[0;34m\u001b[0m\u001b[0;34m\u001b[0m\u001b[0m\n\u001b[0;32m--> 130\u001b[0;31m             \u001b[0;32mreturn\u001b[0m \u001b[0mfun\u001b[0m\u001b[0;34m(\u001b[0m\u001b[0mx\u001b[0m\u001b[0;34m,\u001b[0m \u001b[0;34m*\u001b[0m\u001b[0margs\u001b[0m\u001b[0;34m)\u001b[0m\u001b[0;34m\u001b[0m\u001b[0;34m\u001b[0m\u001b[0m\n\u001b[0m\u001b[1;32m    131\u001b[0m \u001b[0;34m\u001b[0m\u001b[0m\n\u001b[1;32m    132\u001b[0m         \u001b[0;32mdef\u001b[0m \u001b[0mupdate_fun\u001b[0m\u001b[0;34m(\u001b[0m\u001b[0;34m)\u001b[0m\u001b[0;34m:\u001b[0m\u001b[0;34m\u001b[0m\u001b[0;34m\u001b[0m\u001b[0m\n",
      "\u001b[0;32m<ipython-input-201-58c638764016>\u001b[0m in \u001b[0;36menergy_tp\u001b[0;34m(param_vals, *args)\u001b[0m\n\u001b[1;32m     62\u001b[0m \u001b[0;34m\u001b[0m\u001b[0m\n\u001b[1;32m     63\u001b[0m     \u001b[0;31m# convert state from holoPy isoMPS to tenpy MPS\u001b[0m\u001b[0;34m\u001b[0m\u001b[0;34m\u001b[0m\u001b[0;34m\u001b[0m\u001b[0m\n\u001b[0;32m---> 64\u001b[0;31m     \u001b[0mpsi_tp\u001b[0m \u001b[0;34m=\u001b[0m \u001b[0mpsi\u001b[0m\u001b[0;34m.\u001b[0m\u001b[0mto_tenpy\u001b[0m\u001b[0;34m(\u001b[0m\u001b[0mparam_dict\u001b[0m\u001b[0;34m,\u001b[0m\u001b[0mL\u001b[0m\u001b[0;34m=\u001b[0m\u001b[0mnp\u001b[0m\u001b[0;34m.\u001b[0m\u001b[0minf\u001b[0m\u001b[0;34m)\u001b[0m\u001b[0;34m\u001b[0m\u001b[0;34m\u001b[0m\u001b[0m\n\u001b[0m\u001b[1;32m     65\u001b[0m \u001b[0;34m\u001b[0m\u001b[0m\n\u001b[1;32m     66\u001b[0m     \u001b[0;31m# compute energy\u001b[0m\u001b[0;34m\u001b[0m\u001b[0;34m\u001b[0m\u001b[0;34m\u001b[0m\u001b[0m\n",
      "\u001b[0;32m~/Dropbox/holopy/holopy/networks/networks.py\u001b[0m in \u001b[0;36mto_tenpy\u001b[0;34m(self, params, L)\u001b[0m\n\u001b[1;32m    212\u001b[0m                                                 \u001b[0mbc\u001b[0m\u001b[0;34m=\u001b[0m\u001b[0;34m'infinite'\u001b[0m\u001b[0;34m,\u001b[0m\u001b[0;34m\u001b[0m\u001b[0;34m\u001b[0m\u001b[0m\n\u001b[1;32m    213\u001b[0m                                                 \u001b[0mdtype\u001b[0m\u001b[0;34m=\u001b[0m\u001b[0mcomplex\u001b[0m\u001b[0;34m,\u001b[0m\u001b[0;34m\u001b[0m\u001b[0;34m\u001b[0m\u001b[0m\n\u001b[0;32m--> 214\u001b[0;31m                                                 form=None)\n\u001b[0m\u001b[1;32m    215\u001b[0m         \u001b[0;31m# elif (L==np.inf):\u001b[0m\u001b[0;34m\u001b[0m\u001b[0;34m\u001b[0m\u001b[0;34m\u001b[0m\u001b[0m\n\u001b[1;32m    216\u001b[0m         \u001b[0;31m#     B_arrs = [np.swapaxes(tensor,1,2) for tensor in self.tensors(params)[0]]\u001b[0m\u001b[0;34m\u001b[0m\u001b[0;34m\u001b[0m\u001b[0;34m\u001b[0m\u001b[0m\n",
      "\u001b[0;31mTypeError\u001b[0m: can't multiply sequence by non-int of type 'float'"
     ]
    }
   ],
   "source": [
    "H_mpo = xxz_mpo(J=J,hz=hz,Delta=Delta,N=1)#ising_impo(J=1,h=1) # Hamiltonian as tenpy MPO\n",
    "# file saving info\n",
    "subdir = 'test_data' # subfolder to hold data\n",
    "filename = 'xxzjobs_Delta1p3.dat'.format(np.round(Delta)) # file name for saved data\n",
    "\n",
    "\n",
    "# optimize ansatz using tenpy\n",
    "x0 = 0.03*np.random.randn(len(param_names)) # starting point for parameters\n",
    "t0 = time.time()\n",
    "opt_result = minimize(energy_tp, # function to minimize\n",
    "                      x0, # starting point for parameters \n",
    "                      args=(psi,H_mpo), # must take form (isoMPS,tenpy MPO)\n",
    "                      method='BFGS'\n",
    "                     )\n",
    "tf = time.time()\n",
    "# set parameters to previously optimized values\n",
    "opt_vals = opt_result.x\n",
    "opt_params = dict(zip(param_names,opt_vals))\n",
    "\n",
    "print('Optimization done, elapsed time: {}'.format(tf-t0))\n",
    "print('Optimized energy = {}'.format(opt_result.fun))"
   ]
  },
  {
   "cell_type": "markdown",
   "metadata": {},
   "source": [
    "## 2. Qiskit simulations\n",
    "Now, compute the energy for the optimized parameter values in qiskit"
   ]
  },
  {
   "cell_type": "code",
   "execution_count": 191,
   "metadata": {},
   "outputs": [],
   "source": [
    "## Specify hyperparameters ##\n",
    "L=10 # length of chain to simulate\n",
    "shots = 1000 # number of shots for each measurement\n",
    "\n",
    "# list of Pauli strings to measure\n",
    "# example format for L = 3, l_uc = 4: [['xxxy'],['zzzz'],['yzxz']]\n",
    "measurement_strings = [['x']*L,\n",
    "                       ['y']*L,\n",
    "                       ['z']*L] \n",
    "\n",
    "\n",
    "# Create meta-data\n",
    "model_data = {'type':'xxz',\n",
    "              'J':J,\n",
    "              'Delta':Delta,\n",
    "              'hz':hz,\n",
    "              'L':L,\n",
    "              'shots':shots,\n",
    "             }\n",
    "vqe_data = {'architecture':'su4_star',\n",
    "                'nb':nb,\n",
    "                'params':opt_params}"
   ]
  },
  {
   "cell_type": "code",
   "execution_count": 192,
   "metadata": {},
   "outputs": [],
   "source": [
    "## Create jobs ##\n",
    "# loop through measurement strings, and create list of jobs to run\n",
    "jobs = []\n",
    "for m in measurement_strings:\n",
    "    psi_curr = IsoMPS(preg,breg,circs,bases=m,L=L)\n",
    "    circ_curr = psi_curr.construct_circuit(opt_params)\n",
    "    jobs += [{'name':'xxz_xxzstar_hz{}'.format(hz)+'_basis_'+m[0],\n",
    "              'isoMPS':psi_curr,\n",
    "              'vqe_data':vqe_data,\n",
    "              'qiskit_circuit':circ_curr,\n",
    "              'qasm':circ_curr.qasm(),\n",
    "              'model':model_data,\n",
    "              'basis':m,\n",
    "              'shots':shots,\n",
    "              'job_id':None, # job-id when submitted to honeywell\n",
    "              'qiskit_results':None, # qiskit simultor results\n",
    "              'results':None # Honeywell results\n",
    "              }]\n",
    "\n",
    "# save jobs dict to pickle file\n",
    "file = open(subdir+'/' + filename, 'wb') \n",
    "pickle.dump(jobs, file)                      \n",
    "file.close() "
   ]
  },
  {
   "cell_type": "markdown",
   "metadata": {},
   "source": [
    "### Qiskit Simulation"
   ]
  },
  {
   "cell_type": "code",
   "execution_count": 193,
   "metadata": {},
   "outputs": [],
   "source": [
    "## Define Noise Model ##\n",
    "# errors (simulation)\n",
    "perr_1q = 0.000 # 1-qubit gate error\n",
    "perr_2q = 0.00 # 2-qubit gate error\n",
    "# depolarizaing errors\n",
    "depol_1q = noise.depolarizing_error(perr_1q, 1)\n",
    "depol_2q = noise.depolarizing_error(perr_2q, 2)\n",
    "noise_model = noise.NoiseModel()\n",
    "noise_model.add_all_qubit_quantum_error(depol_1q, ['u1', 'u2', 'u3'])\n",
    "noise_model.add_all_qubit_quantum_error(depol_2q, ['cx','cz'])"
   ]
  },
  {
   "cell_type": "code",
   "execution_count": 194,
   "metadata": {},
   "outputs": [],
   "source": [
    "## Run Jobs (qiskit version) ##\n",
    "# load job files\n",
    "file = open(subdir+'/' + filename, 'rb') \n",
    "jobs = pickle.load(file)\n",
    "file.close() \n",
    "\n",
    "# setup qiskit simulator\n",
    "simulator = qk.Aer.get_backend('qasm_simulator')\n",
    "for job in jobs:\n",
    "    shots = job['shots']\n",
    "    job['qiskit_results'] = qk.execute(job['qiskit_circuit'], \n",
    "                               simulator, \n",
    "                               shots=shots,\n",
    "                               noise_model=noise_model).result()\n",
    "\n",
    "# save jobs dict to pickle file\n",
    "file = open(subdir+'/' + filename, 'wb') \n",
    "pickle.dump(jobs, file)                      \n",
    "file.close()     "
   ]
  },
  {
   "cell_type": "markdown",
   "metadata": {},
   "source": [
    "# Post-processing\n",
    "\n",
    "First define some functions to extract one- and two- point correlators from counts dictionary\n",
    "\n",
    "### (Note that, this will have to be adjusted depending on the structure of registers in the circuit)"
   ]
  },
  {
   "cell_type": "code",
   "execution_count": 195,
   "metadata": {},
   "outputs": [],
   "source": [
    "def counts_to_correlators(counts,shots):\n",
    "    \"\"\"\n",
    "    converts qiskit-style counts result \n",
    "    to NxN numpy array of 2-point correlatrs\n",
    "    w/ N = # of sites in isoMPS = L*l_uc\n",
    "    \"\"\"\n",
    "    # number of sites (compute from input dictionary shape)\n",
    "    N = len(list(counts.keys())[0].split(\" \")) \n",
    "    C = np.zeros((N,N))\n",
    "    # loop over each measurement outcome\n",
    "    for k in counts.keys(): \n",
    "        split_list = k.split(\" \")[::-1] # split bits from each register\n",
    "        # note that qiskit typically orders in reverse order \n",
    "        # NOTE: WILL NEED TO REVISIT CREG ORDERING IF WE HAVE OTHER CREGs\n",
    "        \n",
    "        # compute up all pairs of correlators\n",
    "        for x in range(N):\n",
    "            for y in range(x+1,N): # use symmetry C[x,y]=C[y,x] to only compute 1/2 of entries\n",
    "               C[x,y] += counts[k] * (2.0*(split_list[x]==split_list[y])-1.0)\n",
    "    C /= shots # normalize\n",
    "    C += C.T + np.eye(N) # we've constructed only the upper-right triangular part\n",
    "    return C\n",
    "\n",
    "def counts_to_mean(counts,shots):\n",
    "    \"\"\"\n",
    "    converts qiskit-type counts result to \n",
    "    one point correlator (mean spin component)\n",
    "    on each site\n",
    "    \"\"\"\n",
    "    N = len(list(counts.keys())[0].split(\" \"))\n",
    "    m = np.zeros(N)\n",
    "    for k in counts.keys(): \n",
    "        split_array = np.array(k.split(\" \")[::-1]) # split bits from each register\n",
    "        m += 2.0*(split_array=='1')-1.0\n",
    "    m /= shots\n",
    "    return m"
   ]
  },
  {
   "cell_type": "markdown",
   "metadata": {},
   "source": [
    "### Example: Compute E from correlators"
   ]
  },
  {
   "cell_type": "code",
   "execution_count": 196,
   "metadata": {},
   "outputs": [
    {
     "name": "stdout",
     "output_type": "stream",
     "text": [
      "Energy density - estimate = -1.329\n"
     ]
    }
   ],
   "source": [
    "## Post-process results ##\n",
    "# load job files\n",
    "file = open(subdir+'/' + filename, 'rb') \n",
    "jobs = pickle.load(file)\n",
    "file.close() \n",
    "\n",
    "# compute two-point correlators from counts\n",
    "Cs = {} # dictionary of 2-point correlators\n",
    "ms = {} # dictionary of 1-spin correlators ('magnetizations')\n",
    "for job in jobs:\n",
    "    counts = job['qiskit_results'].get_counts()\n",
    "    key = job['basis'][0] #'x','y',or'z' (assumes measurements are same type on each bond)\n",
    "    Cs[key] = counts_to_correlators(counts,job['shots'])\n",
    "    ms[key] = counts_to_mean(counts,job['shots'])\n",
    "N = len(list(counts.keys())[0].split(\" \"))\n",
    "\n",
    "\n",
    "# estimate <H>\n",
    "burn_in = 4 # number of sites to \"burn in\" MPS channel before measuring\n",
    "sites = np.arange(burn_in,L*l_uc-1) # remaining sites\n",
    "E = 0\n",
    "for j in sites:\n",
    "    E += job['model']['J']*(Cs['x'][j,j+1]+Cs['y'][j,j+1])\n",
    "    E += job['model']['J'] * job['model']['Delta']*Cs['z'][j,j+1]\n",
    "E += job['model']['hz'] * np.sum(ms['z'])\n",
    "E = E/sites.size # convert to energy density\n",
    "print('Energy density - estimate = {}'.format(E))\n",
    "\n",
    "# save jobs dict to pickle file\n",
    "#file = open(subdir+'/' + filename, 'wb') \n",
    "#pickle.dump(jobs, file)                      \n",
    "#file.close()  "
   ]
  },
  {
   "cell_type": "code",
   "execution_count": 197,
   "metadata": {},
   "outputs": [],
   "source": [
    "## Plot results ##\n"
   ]
  },
  {
   "cell_type": "code",
   "execution_count": null,
   "metadata": {},
   "outputs": [],
   "source": []
  }
 ],
 "metadata": {
  "kernelspec": {
   "display_name": "Python 3",
   "language": "python",
   "name": "python3"
  },
  "language_info": {
   "codemirror_mode": {
    "name": "ipython",
    "version": 3
   },
   "file_extension": ".py",
   "mimetype": "text/x-python",
   "name": "python",
   "nbconvert_exporter": "python",
   "pygments_lexer": "ipython3",
   "version": "3.9.1"
  }
 },
 "nbformat": 4,
 "nbformat_minor": 4
}
