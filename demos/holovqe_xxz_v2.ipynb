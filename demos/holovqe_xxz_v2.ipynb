{
 "cells": [
  {
   "cell_type": "markdown",
   "id": "eight-secret",
   "metadata": {
    "toc": true
   },
   "source": [
    "<h1>Table of Contents<span class=\"tocSkip\"></span></h1>\n",
    "<div class=\"toc\"><ul class=\"toc-item\"><li><span><a href=\"#Tenpy-optimization\" data-toc-modified-id=\"Tenpy-optimization-1\"><span class=\"toc-item-num\">1&nbsp;&nbsp;</span>Tenpy optimization</a></span><ul class=\"toc-item\"><li><span><a href=\"#Model-definitions\" data-toc-modified-id=\"Model-definitions-1.1\"><span class=\"toc-item-num\">1.1&nbsp;&nbsp;</span>Model definitions</a></span><ul class=\"toc-item\"><li><span><a href=\"#Def.-XXZ-MPO\" data-toc-modified-id=\"Def.-XXZ-MPO-1.1.1\"><span class=\"toc-item-num\">1.1.1&nbsp;&nbsp;</span>Def. XXZ MPO</a></span></li></ul></li><li><span><a href=\"#Setup-variational-circuit-ansatz\" data-toc-modified-id=\"Setup-variational-circuit-ansatz-1.2\"><span class=\"toc-item-num\">1.2&nbsp;&nbsp;</span>Setup variational circuit ansatz</a></span></li><li><span><a href=\"#Optimize-the-variational-parameters\" data-toc-modified-id=\"Optimize-the-variational-parameters-1.3\"><span class=\"toc-item-num\">1.3&nbsp;&nbsp;</span>Optimize the variational parameters</a></span><ul class=\"toc-item\"><li><span><a href=\"#Compare-to-DMRG-results-at-same-bond-dimension\" data-toc-modified-id=\"Compare-to-DMRG-results-at-same-bond-dimension-1.3.1\"><span class=\"toc-item-num\">1.3.1&nbsp;&nbsp;</span>Compare to DMRG results at same bond-dimension</a></span></li><li><span><a href=\"#Look-at-correlation-functions\" data-toc-modified-id=\"Look-at-correlation-functions-1.3.2\"><span class=\"toc-item-num\">1.3.2&nbsp;&nbsp;</span>Look at correlation functions</a></span></li></ul></li><li><span><a href=\"#Optimize-bond-prep-circuit\" data-toc-modified-id=\"Optimize-bond-prep-circuit-1.4\"><span class=\"toc-item-num\">1.4&nbsp;&nbsp;</span>Optimize bond-prep circuit</a></span></li></ul></li><li><span><a href=\"#Simulate-in-Qiskit\" data-toc-modified-id=\"Simulate-in-Qiskit-2\"><span class=\"toc-item-num\">2&nbsp;&nbsp;</span>Simulate in Qiskit</a></span><ul class=\"toc-item\"><li><span><a href=\"#Simulate-implementation-in-qiskit-(without-noise)\" data-toc-modified-id=\"Simulate-implementation-in-qiskit-(without-noise)-2.1\"><span class=\"toc-item-num\">2.1&nbsp;&nbsp;</span>Simulate implementation in qiskit (without noise)</a></span><ul class=\"toc-item\"><li><span><a href=\"#Postprocessing-functions\" data-toc-modified-id=\"Postprocessing-functions-2.1.1\"><span class=\"toc-item-num\">2.1.1&nbsp;&nbsp;</span>Postprocessing functions</a></span></li><li><span><a href=\"#Simulation-Parameters\" data-toc-modified-id=\"Simulation-Parameters-2.1.2\"><span class=\"toc-item-num\">2.1.2&nbsp;&nbsp;</span>Simulation Parameters</a></span></li><li><span><a href=\"#Run-Sims-(Noiseless)\" data-toc-modified-id=\"Run-Sims-(Noiseless)-2.1.3\"><span class=\"toc-item-num\">2.1.3&nbsp;&nbsp;</span>Run Sims (Noiseless)</a></span></li></ul></li><li><span><a href=\"#Compare-Qiskit-and-Tenpy-results\" data-toc-modified-id=\"Compare-Qiskit-and-Tenpy-results-2.2\"><span class=\"toc-item-num\">2.2&nbsp;&nbsp;</span>Compare Qiskit and Tenpy results</a></span></li><li><span><a href=\"#Correlation-functions\" data-toc-modified-id=\"Correlation-functions-2.3\"><span class=\"toc-item-num\">2.3&nbsp;&nbsp;</span>Correlation functions</a></span></li><li><span><a href=\"#Noisy-Qiskit-Simulations\" data-toc-modified-id=\"Noisy-Qiskit-Simulations-2.4\"><span class=\"toc-item-num\">2.4&nbsp;&nbsp;</span>Noisy Qiskit Simulations</a></span><ul class=\"toc-item\"><li><span><a href=\"#Noise-model\" data-toc-modified-id=\"Noise-model-2.4.1\"><span class=\"toc-item-num\">2.4.1&nbsp;&nbsp;</span>Noise model</a></span></li><li><span><a href=\"#Run-Simulation\" data-toc-modified-id=\"Run-Simulation-2.4.2\"><span class=\"toc-item-num\">2.4.2&nbsp;&nbsp;</span>Run Simulation</a></span></li></ul></li></ul></li><li><span><a href=\"#Thermal-state\" data-toc-modified-id=\"Thermal-state-3\"><span class=\"toc-item-num\">3&nbsp;&nbsp;</span>Thermal state</a></span><ul class=\"toc-item\"><li><span><a href=\"#Functions-to-compute-free-energy\" data-toc-modified-id=\"Functions-to-compute-free-energy-3.1\"><span class=\"toc-item-num\">3.1&nbsp;&nbsp;</span>Functions to compute free energy</a></span><ul class=\"toc-item\"><li><span><a href=\"#Gradient-descent-function\" data-toc-modified-id=\"Gradient-descent-function-3.1.1\"><span class=\"toc-item-num\">3.1.1&nbsp;&nbsp;</span>Gradient descent function</a></span></li></ul></li><li><span><a href=\"#Optimize-free-energy\" data-toc-modified-id=\"Optimize-free-energy-3.2\"><span class=\"toc-item-num\">3.2&nbsp;&nbsp;</span>Optimize free energy</a></span></li></ul></li><li><span><a href=\"#Dynamics\" data-toc-modified-id=\"Dynamics-4\"><span class=\"toc-item-num\">4&nbsp;&nbsp;</span>Dynamics</a></span></li></ul></div>"
   ]
  },
  {
   "cell_type": "code",
   "execution_count": 12,
   "id": "novel-doctor",
   "metadata": {},
   "outputs": [
    {
     "name": "stdout",
     "output_type": "stream",
     "text": [
      "The autoreload extension is already loaded. To reload it, use:\n",
      "  %reload_ext autoreload\n"
     ]
    }
   ],
   "source": [
    "%load_ext autoreload\n",
    "%reload_ext autoreload\n",
    "%autoreload 2"
   ]
  },
  {
   "cell_type": "code",
   "execution_count": 13,
   "id": "scheduled-grove",
   "metadata": {},
   "outputs": [],
   "source": [
    "import sys\n",
    "sys.path.append(\"..\") # import one subdirectory up in files\n",
    "#sys.path.append(\"..\") # import one subdirectory up in files\n",
    "#os.chdir(\"../holopy/\")\n",
    "\n",
    "# standard imports\n",
    "import numpy as np\n",
    "from scipy.optimize import minimize\n",
    "import scipy.linalg as la\n",
    "import matplotlib.pyplot as plt\n",
    "import matplotlib\n",
    "import time as time\n",
    "#import json\n",
    "import pickle\n",
    "\n",
    "# 3rd party packages\n",
    "import qiskit as qk\n",
    "import qiskit.providers.aer.noise as noise\n",
    "import tenpy as tp\n",
    "\n",
    "## custom things\n",
    "from networks.networks import IsoMPS\n",
    "from networks.isonetwork import QKParamCircuit, IsoTensor\n",
    "import circuits.basic_circuits as circuits\n",
    "import mps.mps as mps\n",
    "\n"
   ]
  },
  {
   "cell_type": "markdown",
   "id": "processed-victor",
   "metadata": {},
   "source": [
    "# Tenpy optimization\n",
    "## Model definitions\n",
    "Define some functions to create tenpy MPO for xxz model"
   ]
  },
  {
   "cell_type": "markdown",
   "id": "alpine-sampling",
   "metadata": {},
   "source": [
    "### Def. XXZ MPO"
   ]
  },
  {
   "cell_type": "code",
   "execution_count": 128,
   "id": "peripheral-russia",
   "metadata": {},
   "outputs": [],
   "source": [
    "## TENPY FUNCTION DEFINITIONS ##\n",
    "\n",
    "from tenpy.models.model import CouplingMPOModel, NearestNeighborModel\n",
    "from tenpy.tools.params import asConfig\n",
    "from tenpy.networks.site import SpinHalfSite\n",
    "from tenpy.networks.mps import MPS\n",
    "\n",
    "__all__ = ['XXZModel', 'XXChain']\n",
    "class XXZModel(CouplingMPOModel):\n",
    "    def init_sites(self, model_params):\n",
    "        conserve = model_params.get('conserve', 'parity')\n",
    "        assert conserve != 'Sz'\n",
    "        if conserve == 'best':\n",
    "            conserve = 'parity'\n",
    "            if self.verbose >= 1.:\n",
    "                print(self.name + \": set conserve to\", conserve)\n",
    "        site = SpinHalfSite(conserve=conserve)\n",
    "        return site\n",
    "    def init_terms(self, model_params):\n",
    "        J = np.asarray(model_params.get('J', 1.))\n",
    "        d = np.asarray(model_params.get('d', 1.))\n",
    "        for u1, u2, dx in self.lat.pairs['nearest_neighbors']:\n",
    "            self.add_coupling(J, u1, 'Sigmax', u2, 'Sigmax', dx)\n",
    "            self.add_coupling(J, u1, 'Sigmay', u2, 'Sigmay', dx)\n",
    "            self.add_coupling(J*d, u1, 'Sigmaz', u2, 'Sigmaz', dx)\n",
    "        # done\n",
    "class XXZChain(XXZModel, NearestNeighborModel):\n",
    "    def __init__(self, model_params):\n",
    "        model_params = asConfig(model_params, self.__class__.__name__)\n",
    "        model_params.setdefault('lattice', \"Chain\")\n",
    "        CouplingMPOModel.__init__(self, model_params)\n",
    "        \n",
    "def DMRG_xxz_infinite(J,Delta,chi_max = 4, verbose=False):\n",
    "    model_params = dict(L=2, J=J, d=Delta, bc_MPS='infinite', conserve=None, verbose=verbose)\n",
    "    M = XXZChain(model_params)\n",
    "    product_state = [\"down\"] * M.lat.N_sites\n",
    "    psi = MPS.from_product_state(M.lat.mps_sites(), product_state, bc=M.lat.bc_MPS)\n",
    "    dmrg_params = {\n",
    "        'mixer': True,  # setting this to True helps to escape local minima\n",
    "        'trunc_params': {\n",
    "            'chi_max': chi_max,\n",
    "            'svd_min': 1.e-6\n",
    "        },\n",
    "        'max_E_err': 1.e-6,\n",
    "        'verbose': verbose,\n",
    "    }\n",
    "    # Sometimes, we want to call a 'DMRG engine' explicitly\n",
    "    eng = tp.algorithms.dmrg.TwoSiteDMRGEngine(psi, M, dmrg_params)\n",
    "    E, psi = eng.run()  # equivalent to dmrg.run() up to the return parameters.\n",
    "    print(\"E = {E:.13f}\".format(E=E))\n",
    "    print(\"final bond dimensions: \", psi.chi)\n",
    "    mag_x = np.mean(psi.expectation_value(\"Sigmax\"))\n",
    "    mag_z = np.mean(psi.expectation_value(\"Sigmaz\"))\n",
    "    print(\"<sigma_x> = {mag_x:.5f}\".format(mag_x=mag_x))\n",
    "    print(\"<sigma_z> = {mag_z:.5f}\".format(mag_z=mag_z))\n",
    "    print(\"correlation length:\", psi.correlation_length())\n",
    "    return E, psi, M\n",
    "\n",
    "def xxz_mpo(J,Delta,hz=0,L=1):\n",
    "    model_params = dict(J=J, d=Delta, bc_MPS='infinite', conserve=None, verbose=False)\n",
    "    return XXZChain(model_params).H_MPO\n",
    "\n",
    "def xxz_mpo_finite(J,Delta,hz,L):\n",
    "    model_params = dict(L=L,\n",
    "                        J=J, \n",
    "                        d=Delta, \n",
    "                        bc_MPS='finite', \n",
    "                        conserve=None, verbose=False)\n",
    "    return XXZChain(model_params).H_MPO\n",
    "\n",
    "#def xxz_mpo(J, Delta, hz, N=1, bc='infinite'):\n",
    "#    site = tp.networks.site.SpinHalfSite(None)\n",
    "#    Id, Sp, Sm, Sz = site.Id, site.Sp, site.Sm, 2*site.Sz\n",
    "#    W_bulk = [[Id, Sp, Sm, Sz, -hz * Sz],\n",
    "#              [None, None, None, None, 0.5 * J * Sm],\n",
    "#              [None, None, None, None, 0.5 * J * Sp],\n",
    "#              [None, None, None, None, J * Delta * Sz],\n",
    "#              [None, None, None, None, Id]]\n",
    "#    H = tp.networks.mpo.MPO.from_grids([site], [W_bulk], bc, IdL=0, IdR=-1) # (probably leave the IdL,IdR)\n",
    "#    return H\n",
    "\n",
    "#def xxz_mpo(J, Delta, hz, N=1, bc='infinite'):\n",
    "#    site = tp.networks.site.SpinHalfSite(None)\n",
    "#    Id, Sp, Sm, Sz = site.Id, site.Sp, site.Sm, 2*site.Sz\n",
    "#    W_bulk = [[Id, Sp, Sm, Sz, -hz * Sz],\n",
    "#              [None, None, None, None, 0.5 * J * Sm],\n",
    "#              [None, None, None, None, 0.5 * J * Sp],\n",
    "#              [None, None, None, None, J * Delta * Sz],\n",
    "#              [None, None, None, None, Id]]\n",
    "    #W_first = [W_bulk[0]]  # first row\n",
    "    #W_last = [[row[-1]] for row in W_bulk]  # last column\n",
    "    #Ws = [W_first] + [W_bulk]*(N - 2) + [W_last]\n",
    "#    H = tp.networks.mpo.MPO.from_grids([site]*N, [W_bulk]*N, bc, IdL=0, IdR=-1) # (probably leave the IdL,IdR)\n",
    "#    return H\n",
    "\n",
    "# tenpy energy calculator\n",
    "def energy_tp(param_vals,*args):\n",
    "    \"\"\"\n",
    "    function to calculate energy using MPO/MPS contraction in tenpy\n",
    "    inputs:\n",
    "        - param_vals = dict {parameter:value}\n",
    "        - *args, \n",
    "            args[0] should be psi: state as IsoMPS\n",
    "            args[1] should be H_mpo: Hamiltonian as MPO\n",
    "        (input made this way to be compatible w/ scipy.optimize)\n",
    "    outputs:\n",
    "        - float, <psi|H|psi> computed w/ tenpy\n",
    "    \"\"\"\n",
    "    # parse inputs\n",
    "    psi=args[0] # state as isoMPS    \n",
    "    H_mpo = args[1] # Hamiltonian as tenpy MPO\n",
    "    param_dict = dict(zip(psi.param_list,param_vals))\n",
    "    \n",
    "    # convert state from holoPy isoMPS to tenpy MPS\n",
    "    psi_tp = psi.to_tenpy(param_dict,L=np.inf)\n",
    "    \n",
    "    # compute energy\n",
    "    E = (H_mpo.expectation_value(psi_tp)).real\n",
    "    return E\n",
    "\n",
    "def energy_tp_corr(param_vals,*args):\n",
    "    psi=args[0]\n",
    "    J,Delta,h = args[1]\n",
    "    psi_tp=psi.to_tenpy(opt_params,L=np.inf)\n",
    "    Cxx_tp = np.mean([4*psi_tp.correlation_function(\"Sx\", \"Sx\", \n",
    "                                                 sites1=[j], \n",
    "                                                 sites2=[j+1],\n",
    "                                                 opstr=None, str_on_first=False, hermitian=False, autoJW=False)\n",
    "                      for j in range(l_uc)])\n",
    "    Cyy_tp = np.mean([4*psi_tp.correlation_function(\"Sy\", \"Sy\", \n",
    "                                                 sites1=[j], \n",
    "                                                 sites2=[j+1],\n",
    "                                                 opstr=None, str_on_first=False, hermitian=False, autoJW=False)\n",
    "                      for j in range(l_uc)])\n",
    "    Czz_tp = np.mean([4*psi_tp.correlation_function(\"Sz\", \"Sz\", \n",
    "                                                 sites1=[j], \n",
    "                                                 sites2=[j+1],\n",
    "                                                 opstr=None, str_on_first=False, hermitian=False, autoJW=False)\n",
    "                      for j in range(l_uc)])\n",
    "    return J*(Cxx_tp+Cyy_tp+Delta*Czz_tp)"
   ]
  },
  {
   "cell_type": "markdown",
   "id": "noted-samba",
   "metadata": {},
   "source": [
    "## Setup variational circuit ansatz\n",
    "Setup variational circuit ansatz\n",
    "Strategy: two-site unit-cell, with star-circuit of xxz-gates:\n",
    "\n",
    "$$U_{xxz}(\\theta,\\phi) = \\exp[-i\\theta/2 (X_1X_2+Y_1Y_2) - i\\phi/2(Z_1Z_2)] $$\n",
    "\n",
    "and initial state for qubits alternates between $|\\uparrow\\rangle$, $|\\downarrow\\rangle$ on even/odd sites of the unit-cell\n",
    "\n",
    "First, define the parameters of the model and circuit:"
   ]
  },
  {
   "cell_type": "code",
   "execution_count": 15,
   "id": "subsequent-sponsorship",
   "metadata": {},
   "outputs": [],
   "source": [
    "## HYPERPARAMETERS ##\n",
    "# model (xxz)\n",
    "J = 1.0 # spin-exchange\n",
    "Delta = 1.25 # Ising-anisotropy\n",
    "hz = 0.0 # z-field\n",
    "\n",
    "# ansatz parameters\n",
    "nb = 2 # number of bond-qubits \n",
    "L = 1 # number of unit cells\n",
    "l_uc = 2 # number of sites in unit cell\n",
    "n_site_param = 2*nb # number of circuit parameters per site\n"
   ]
  },
  {
   "cell_type": "markdown",
   "id": "hybrid-finger",
   "metadata": {},
   "source": [
    "Next, setup the circuit as a parameterized circuit in qiskit (which we package as a QKParamCircuit, and create a holopy IsoMPS object from)\n",
    "\n",
    "Note: here, I haven't setup the bond-qubit initialization circuit (bond_prep_circ): this doesn't effect tenpy-part which computes for infinite boundary conditions.\n",
    "\n",
    "To-do: optimize bond-qubit initialization circuit to minimize required burn-in"
   ]
  },
  {
   "cell_type": "code",
   "execution_count": 16,
   "id": "finished-pierce",
   "metadata": {},
   "outputs": [
    {
     "name": "stdout",
     "output_type": "stream",
     "text": [
      "circuits for each site in uc:\n"
     ]
    }
   ],
   "source": [
    "## CREATE ISOMPS FROM PARAMETERIZED CIRCUIT ANSATZ ##\n",
    "# initialize registers\n",
    "preg = qk.QuantumRegister(1,'p') # physical qubits\n",
    "breg = qk.QuantumRegister(nb,'b') # bond qubits\n",
    "#creg = qk.ClassicalRegister(L*l_uc+nb,'m') # classical register to hold measurement outcomes\n",
    "\n",
    "## Site Circuits ##\n",
    "site_pcircs=[]\n",
    "\n",
    "# create list of circuits, one for each site in the unit cell (uc)\n",
    "site_circs = [qk.QuantumCircuit(preg,breg) for j in range(l_uc)]\n",
    "# create a list of parameter-lists, (one list of parameters per site in uc)\n",
    "site_circ_params = [[qk.circuit.Parameter('s'+str(j)+'_'+str(k))\n",
    "                     for k in range(n_site_param)] \n",
    "                    for j in range(l_uc)]\n",
    "site_pcircs=[] # list of QKParamCirc's for each site in uc\n",
    "for j in range(l_uc):\n",
    "    if j%2==0: site_circs[j].x(preg[0]) # alternating 10101010... for physical qubit\n",
    "    \n",
    "    # star circuit of xxz-type 2-qubit gates\n",
    "    for k in range(nb): \n",
    "        circuits.add_xxz_circ(site_circs[j], \n",
    "                              preg[0], breg[k], \n",
    "                              site_circ_params[j][2*k:2*(k+1)])\n",
    "    # combine into parameterized circuit\n",
    "    site_pcircs += [QKParamCircuit(site_circs[j], site_circ_params[j])]\n",
    "\n",
    "# create holopy isoMPS \n",
    "#(without boundary circuit for now, since we'll optimize energy as iMPS)\n",
    "psi = IsoMPS(preg,breg,site_pcircs,L=1)#,boundary_circuit=bond_prep_pcirc,L=1)\n",
    "\n",
    "print('circuits for each site in uc:')\n",
    "#site_circs[1].draw('mpl')"
   ]
  },
  {
   "cell_type": "code",
   "execution_count": 177,
   "id": "outer-needle",
   "metadata": {},
   "outputs": [
    {
     "data": {
      "text/plain": [
       "{Parameter(s0_0): 0.8033245104290663,\n",
       " Parameter(s0_1): 3.302975774422488,\n",
       " Parameter(s0_2): -1.9564106796421945,\n",
       " Parameter(s0_3): 1.1970864458728199,\n",
       " Parameter(s1_0): -1.4880491771638977,\n",
       " Parameter(s1_1): 3.4588469972715243,\n",
       " Parameter(s1_2): -0.710149038859055,\n",
       " Parameter(s1_3): -2.6195049624258258}"
      ]
     },
     "execution_count": 177,
     "metadata": {},
     "output_type": "execute_result"
    }
   ],
   "source": [
    "params = dict(zip(psi.param_list,np.random.randn(len(psi.param_list))))\n",
    "psi.tensors(params)[0].shape"
   ]
  },
  {
   "cell_type": "markdown",
   "id": "above-advertising",
   "metadata": {},
   "source": [
    "## Optimize the variational parameters \n",
    "Minmize the variational energy using scipy.optimize"
   ]
  },
  {
   "cell_type": "code",
   "execution_count": 169,
   "id": "dressed-dryer",
   "metadata": {
    "scrolled": true
   },
   "outputs": [
    {
     "name": "stdout",
     "output_type": "stream",
     "text": [
      "Optimization done, elapsed time: 130.029443025589\n",
      "Optimized energy = -1.901016250587692\n",
      "Optimized parameters\n",
      "{Parameter(s0_0): 0.8033245104290663, Parameter(s0_1): 3.302975774422488, Parameter(s0_2): -1.9564106796421945, Parameter(s0_3): 1.1970864458728199, Parameter(s1_0): -1.4880491771638977, Parameter(s1_1): 3.4588469972715243, Parameter(s1_2): -0.710149038859055, Parameter(s1_3): -2.6195049624258258}\n"
     ]
    }
   ],
   "source": [
    "## OPTIMIZE CIRCUIT PARAMETERS CLASSICALLY IN TENPY ##\n",
    "# create tenpy mpo\n",
    "H_mpo = xxz_mpo(J=J,hz=hz,Delta=Delta)\n",
    "\n",
    "\n",
    "x0 = np.pi*np.random.randn(psi.n_params) # starting point for parameters\n",
    "t0 = time.time()\n",
    "opt_result = minimize(energy_tp, # function to minimize\n",
    "                      x0, # starting point for parameters \n",
    "                      args=(psi,H_mpo), # must take form (isoMPS,tenpy MPO, Length)\n",
    "                      method='BFGS'\n",
    "                     )\n",
    "tf = time.time()\n",
    "# set parameters to previously optimized values\n",
    "opt_vals = opt_result.x\n",
    "opt_params = dict(zip(psi.param_list,opt_vals))\n",
    "E_gs_tp = opt_result.fun\n",
    "print('Optimization done, elapsed time: {}'.format(tf-t0))\n",
    "print('Optimized energy = {}'.format(E_gs_tp))\n",
    "print('Optimized parameters')\n",
    "print(opt_params)"
   ]
  },
  {
   "cell_type": "code",
   "execution_count": 19,
   "id": "thorough-intro",
   "metadata": {},
   "outputs": [
    {
     "name": "stdout",
     "output_type": "stream",
     "text": [
      "{Parameter(s0_0): 4.7951409361757005, Parameter(s0_1): -3.4588934903886415, Parameter(s0_2): -6.993335158295649, Parameter(s0_3): 5.76110894059765, Parameter(s1_0): 0.8033237920324279, Parameter(s1_1): 2.980129522695707, Parameter(s1_2): 8.23960271603997, Parameter(s1_3): -4.338695218607367}\n"
     ]
    }
   ],
   "source": [
    "## good variational parameters for nb=2=l_uc\n",
    "# saved from previous optimization run\n",
    "## chosen from a couple of runs based on matching dmrg\n",
    "good_param_vals = np.array([-5.47986438,-2.98024345, -1.18519139,\n",
    "                            1.19707353, -1.48805789,  3.45880091,\n",
    "                            2.43144225,  3.66370337])\n",
    "#if use_bond_prep:\n",
    "#    good_param_vals = np.concatenate((np.zeros(n_bond_params),good_param_vals))\n",
    "#opt_params = dict(zip(psi.param_list,good_param_vals))\n",
    "print(opt_params)"
   ]
  },
  {
   "cell_type": "markdown",
   "id": "joint-orientation",
   "metadata": {},
   "source": [
    "### Compare to DMRG results at same bond-dimension"
   ]
  },
  {
   "cell_type": "code",
   "execution_count": 20,
   "id": "basic-improvement",
   "metadata": {
    "scrolled": true
   },
   "outputs": [
    {
     "name": "stdout",
     "output_type": "stream",
     "text": [
      "Reading 'bc_MPS'='infinite' for config XXZChain\n",
      "Reading 'conserve'=None for config XXZChain\n",
      "Reading 'L'=2 for config XXZChain\n",
      "Reading 'J'=1.0 for config XXZChain\n",
      "Reading 'd'=1.25 for config XXZChain\n",
      "Subconfig 'trunc_params'=Config(<3 options>, 'trunc_params') for config TwoSiteDMRGEngine\n",
      "Initial sweeps...\n",
      "Updating environment\n",
      ".\n",
      "Reading 'max_E_err'=1e-06 for config TwoSiteDMRGEngine\n",
      "Reading 'mixer'=True for config TwoSiteDMRGEngine\n",
      "Updating environment\n",
      ".....\n",
      "================================================================================\n",
      "sweep 10, age = 128\n",
      "Energy = -1.9128677841849466, S = nan, norm_err = 2.9e-05\n",
      "Current memory usage 215528.0 MB, time elapsed: 3.5 s\n",
      "Delta E = nan, Delta S = 0.0000e+00 (per sweep)\n",
      "max_trunc_err = 2.6159e-03, max_E_trunc = 1.4462e-02\n",
      "MPS bond dimensions: [4, 4]\n",
      "disable mixer after 15 sweeps, final amplitude 3.05e-10\n",
      "Updating environment\n",
      ".....\n",
      "================================================================================\n",
      "sweep 20, age = 248\n",
      "Energy = -1.9128693727109720, S = 0.5971810004699853, norm_err = 3.8e-09\n",
      "Current memory usage 215528.0 MB, time elapsed: 5.5 s\n",
      "Delta E = -1.5885e-07, Delta S = nan (per sweep)\n",
      "max_trunc_err = 1.3090e-03, max_E_trunc = 1.4472e-02\n",
      "MPS bond dimensions: [4, 4]\n",
      "Updating environment\n",
      ".....\n",
      "================================================================================\n",
      "sweep 30, age = 368\n",
      "Energy = -1.9128693727109862, S = 0.5971810004704703, norm_err = 4.1e-11\n",
      "Current memory usage 215528.0 MB, time elapsed: 7.0 s\n",
      "Delta E = -1.4211e-15, Delta S = 4.8495e-14 (per sweep)\n",
      "max_trunc_err = 1.3090e-03, max_E_trunc = 1.4472e-02\n",
      "MPS bond dimensions: [4, 4]\n",
      "================================================================================\n",
      "DMRG finished after 30 sweeps.\n",
      "total size = 368, maximum chi = 4\n",
      "================================================================================\n",
      "E = -1.9128693727110\n",
      "final bond dimensions:  [4, 4]\n",
      "<sigma_x> = -0.00000\n",
      "<sigma_z> = -0.00000\n",
      "correlation length: 4.055304862029468\n",
      "\n",
      "-- done --\n",
      "DMRG GS energy = -1.91\n",
      "Tenpy-vqe GS energy = -1.90\n",
      "Relative percent error = 0.62%\n"
     ]
    },
    {
     "name": "stderr",
     "output_type": "stream",
     "text": [
      "/Users/acpotter/anaconda3/envs/tenpy/lib/python3.9/site-packages/tenpy/tools/params.py:225: UserWarning: unused option ['P_tol'] for config lanczos_params\n",
      "\n",
      "  warnings.warn(msg.format(keys=sorted(unused), name=self.name))\n"
     ]
    }
   ],
   "source": [
    "chi = 2**nb # DMRG w/ same bond-dimension as vqe\n",
    "#chi = 32 # DMRG w/ larger bond dimension (\"exact\")\n",
    "E_dmrg,psi_dmrg,H_mpo = DMRG_xxz_infinite(J,Delta,chi_max = chi, verbose=True)\n",
    "\n",
    "print()\n",
    "print('-- done --')\n",
    "print('DMRG GS energy = {:0.2F}'.format(E_dmrg))\n",
    "print('Tenpy-vqe GS energy = {:0.2F}'.format(E_gs_tp))\n",
    "print('Relative percent error = {:0.2F}%'.format(100*(1-E_gs_tp/E_dmrg)))"
   ]
  },
  {
   "cell_type": "markdown",
   "id": "interpreted-silly",
   "metadata": {},
   "source": [
    "### Look at correlation functions"
   ]
  },
  {
   "cell_type": "code",
   "execution_count": 21,
   "id": "innovative-repository",
   "metadata": {
    "scrolled": true
   },
   "outputs": [
    {
     "data": {
      "image/png": "[encoded data removed]",
      "text/plain": [
       "<Figure size 1080x288 with 3 Axes>"
      ]
     },
     "metadata": {
      "needs_background": "light"
     },
     "output_type": "display_data"
    }
   ],
   "source": [
    "sites1 = [0]\n",
    "sites2 = [j for j in range(1,20)]\n",
    "\n",
    "# Correlators from DMRG\n",
    "C_dmrg = {}\n",
    "C_dmrg['x'] = 4*psi_dmrg.correlation_function(\"Sx\", \"Sx\",sites1=sites1,sites2=sites2)\n",
    "C_dmrg['y'] = 4*psi_dmrg.correlation_function(\"Sx\", \"Sx\",sites1=sites1,sites2=sites2)\n",
    "C_dmrg['z'] = 4*psi_dmrg.correlation_function(\"Sz\", \"Sz\",sites1=sites1,sites2=sites2)\n",
    "\n",
    "# correlators from qMPS/vqe\n",
    "psi_tp=psi.to_tenpy(opt_params,L=np.inf)\n",
    "C_tpvqe = {}\n",
    "C_tpvqe['x'] = 4*psi_tp.correlation_function(\"Sx\", \"Sx\",sites1=sites1,sites2=sites2)\n",
    "C_tpvqe['y'] = 4*psi_tp.correlation_function(\"Sx\", \"Sx\",sites1=sites1,sites2=sites2)\n",
    "C_tpvqe['z'] = 4*psi_tp.correlation_function(\"Sz\", \"Sz\",sites1=sites1,sites2=sites2)\n",
    "\n",
    "plt.figure(figsize=(15,4))\n",
    "for j,b in enumerate(['x','y','z']):\n",
    "    plt.subplot(1,3,j+1)\n",
    "    plt.plot(C_dmrg[b][0],'--')\n",
    "    plt.plot(C_tpvqe[b][0],'.-')\n",
    "    plt.legend(['dmrg $\\chi$={}'.format(chi),'vqe (tenpy)'])\n",
    "    plt.title('DMRG results: $C_'+b+'(0,r)$ correlators, r=0')\n",
    "    plt.ylim([-1,1])\n",
    "    plt.xlabel('r')"
   ]
  },
  {
   "cell_type": "markdown",
   "id": "adequate-apparatus",
   "metadata": {},
   "source": [
    "## Optimize bond-prep circuit"
   ]
  },
  {
   "cell_type": "code",
   "execution_count": 22,
   "id": "changing-richmond",
   "metadata": {},
   "outputs": [],
   "source": [
    "## Create Bond-Prep circuit\n",
    "if nb==1: n_bond_params=3\n",
    "elif nb==2: n_bond_params=15 \n",
    "    \n",
    "# setup parameters\n",
    "bond_prep_params = [qk.circuit.Parameter('bp_'+str(j)) \n",
    "                    for j in range(n_bond_params)]\n",
    "bond_prep_circ = qk.QuantumCircuit(breg)\n",
    "# use arbitrary one or two-qubit gates for \n",
    "if nb==1: circuits.add_1q_circ(bond_prep_circ, breg[0], bond_prep_params) \n",
    "elif nb==2: circuits.add_su4_circ(bond_prep_circ, breg[0],breg[1], bond_prep_params) \n",
    "\n",
    "# turn into custom parameterized circuit object\n",
    "bond_prep_pcirc = QKParamCircuit(bond_prep_circ,bond_prep_params)\n",
    "\n",
    "# create isoMPS with boundary circuit\n",
    "psi_bdry = IsoMPS(preg,breg,site_pcircs,L=1,boundary_circuit = bond_prep_pcirc)\n",
    "bdry_node = psi_bdry.nodes[0]\n",
    "bdry_param_list = psi_bdry.param_assignments[bdry_node]"
   ]
  },
  {
   "cell_type": "code",
   "execution_count": 23,
   "id": "coordinate-swing",
   "metadata": {},
   "outputs": [
    {
     "name": "stdout",
     "output_type": "stream",
     "text": [
      "Boundary Optimization done, elapsed time: 3.43s\n",
      "Optimized infidelity = 0.0019\n",
      "Optimized parameters:\n",
      "{Parameter(bp_0): 0.3534305526035827, Parameter(bp_1): 0.8037922104552571, Parameter(bp_2): 0.2522638388694913, Parameter(bp_3): 1.0174945664641688, Parameter(bp_4): -0.02297798484865196, Parameter(bp_5): 0.7729683115421263, Parameter(bp_6): 1.4128179529910285, Parameter(bp_7): 0.28011437505831305, Parameter(bp_8): -0.0559167896061694, Parameter(bp_9): -0.36622821907691044, Parameter(bp_10): 0.5110062464806993, Parameter(bp_11): 0.3813229441949826, Parameter(bp_12): 0.7149251962287178, Parameter(bp_13): 0.8466008971827528, Parameter(bp_14): 0.6204905669144978}\n"
     ]
    }
   ],
   "source": [
    "## Extract transfer matrix and bond-steady-state from optimized mps ##\n",
    "psi_mps = psi.as_mps(opt_params,include_left_bdry=False) # psi_mps as custom mps object\n",
    "tmat = psi_mps.transfer_matrix() # transfer matrix for unit cell\n",
    "vals,vecs = la.eig(tmat) # eigenvalues\n",
    "rho_ss = vecs[:,0].reshape(2**nb,2**nb) # steady state\n",
    "\n",
    "## Optimize overlap with steady state\n",
    "x0 = np.random.rand(len(bond_prep_params))\n",
    "\n",
    "def compute_infidelity(x,*args):\n",
    "    psi = args[0]\n",
    "    rho_ss = args[1] # target steady state \n",
    "    bdry_node = psi.nodes[0] # 0th node is bdry vector node\n",
    "    bond_prep_params = psi.param_assignments[bdry_node]\n",
    "    \n",
    "    bond_params = dict(zip(bond_prep_params,x))\n",
    "    u = bdry_node.unitary(bond_params)\n",
    "    bond_state = u[:,0] # (pure) state of bonds\n",
    "    overlap = bond_state.conj().T @ rho_ss @ bond_state\n",
    "    return 1-np.real(overlap)\n",
    "\n",
    "t0 = time.time()\n",
    "bdry_opt_result = minimize(compute_infidelity, # function to minimize\n",
    "                      x0, # starting point for parameters \n",
    "                      args=(psi_bdry,rho_ss), # must take form (isoMPS,tenpy MPO, Length)\n",
    "                      method='BFGS'\n",
    "                     )\n",
    "tf = time.time()\n",
    "bdry_opt_vals = bdry_opt_result.x\n",
    "bdry_opt_params = dict(zip(bdry_param_list,bdry_opt_vals))\n",
    "infidelity = bdry_opt_result.fun\n",
    "print('Boundary Optimization done, elapsed time: {:0.2f}s'.format(tf-t0))\n",
    "print('Optimized infidelity = {:0.4f}'.format(infidelity))\n",
    "print('Optimized parameters:')\n",
    "print(bdry_opt_params)\n",
    "\n",
    "opt_params_with_bdry = {**bdry_opt_params,**opt_params}"
   ]
  },
  {
   "cell_type": "markdown",
   "id": "mature-wesley",
   "metadata": {},
   "source": [
    "# Simulate in Qiskit\n",
    "## Simulate implementation in qiskit (without noise)"
   ]
  },
  {
   "cell_type": "markdown",
   "id": "smooth-conclusion",
   "metadata": {},
   "source": [
    "### Postprocessing functions"
   ]
  },
  {
   "cell_type": "code",
   "execution_count": 24,
   "id": "narrative-stream",
   "metadata": {},
   "outputs": [],
   "source": [
    "## POSTPROCESSING FUNCTIONS ##\n",
    "def counts_to_correlators(counts,shots):\n",
    "    \"\"\"\n",
    "    converts qiskit-style counts result \n",
    "    to NxN numpy array of 2-point correlatrs\n",
    "    w/ N = # of sites in isoMPS = L*l_uc\n",
    "    \"\"\"\n",
    "    # number of sites (compute from input dictionary shape)\n",
    "    N = len(list(counts.keys())[0].split(\" \")) \n",
    "    C = np.zeros((N,N))\n",
    "    # loop over each measurement outcome\n",
    "    for k in counts.keys(): \n",
    "        split_list = k.split(\" \")[:] # split bits from each register\n",
    "        # note that qiskit typically orders in reverse order \n",
    "        # NOTE: WILL NEED TO REVISIT CREG ORDERING IF WE HAVE OTHER CREGs\n",
    "\n",
    "        # compute up all pairs of correlators\n",
    "        for x in range(N):\n",
    "            for y in range(x+1,N): # use symmetry C[x,y]=C[y,x] to only compute 1/2 of entries\n",
    "               C[x,y] += counts[k] * (2.0*(split_list[x]==split_list[y])-1.0)\n",
    "    C /= shots # normalize\n",
    "    C += C.T + np.eye(N) # we've constructed only the upper-right triangular part\n",
    "    return C\n",
    "\n",
    "def counts_to_mean(counts,shots):\n",
    "    \"\"\"\n",
    "    converts qiskit-type counts result to \n",
    "    one point correlator (mean spin component)\n",
    "    on each site\n",
    "    \"\"\"\n",
    "    N = len(list(counts.keys())[0].split(\" \"))\n",
    "    m = np.zeros(N)\n",
    "    for k in counts.keys(): \n",
    "        split_array = np.array(k.split(\" \")[:]) # split bits from each register\n",
    "        m += 2.0*(split_array=='1')-1.0\n",
    "    m /= shots\n",
    "    return m"
   ]
  },
  {
   "cell_type": "markdown",
   "id": "universal-polyester",
   "metadata": {},
   "source": [
    "### Simulation Parameters"
   ]
  },
  {
   "cell_type": "code",
   "execution_count": 25,
   "id": "ethical-holder",
   "metadata": {},
   "outputs": [],
   "source": [
    "## QISKIT SIMULATION ##\n",
    "L=20 # length of chain to simulate\n",
    "shots = 400 # number of shots for each measurement"
   ]
  },
  {
   "cell_type": "markdown",
   "id": "exempt-singer",
   "metadata": {},
   "source": [
    "### Run Sims (Noiseless)"
   ]
  },
  {
   "cell_type": "code",
   "execution_count": 26,
   "id": "arranged-villa",
   "metadata": {},
   "outputs": [
    {
     "name": "stdout",
     "output_type": "stream",
     "text": [
      "xx\n",
      "yy\n",
      "zz\n",
      "Qiskit Energy density - estimate = -1.789008620689655\n",
      "Tenpy Optimized energy = -1.9010162504487136\n"
     ]
    }
   ],
   "source": [
    "# list of Pauli strings to measure\n",
    "# example format for L = 3, l_uc = 4: [['xxxy'],['zzzz'],['yzxz']]\n",
    "measurement_strings = [['x'*l_uc]*L,\n",
    "                       ['y'*l_uc]*L,\n",
    "                       ['z'*l_uc]*L] \n",
    "\n",
    "# Create meta-data\n",
    "model_data = {'type':'xxz',\n",
    "              'J':J,\n",
    "              'Delta':Delta,\n",
    "              'hz':hz,\n",
    "              'L':L,\n",
    "              'shots':shots,\n",
    "             }\n",
    "vqe_data = {'architecture':'xxz_star',\n",
    "                'nb':nb,\n",
    "                'params':opt_params}\n",
    "\n",
    "# loop through measurement strings, and create list of jobs to run\n",
    "jobs = []\n",
    "for m in measurement_strings:\n",
    "    psi_curr = IsoMPS(preg,breg,\n",
    "                      site_pcircs,\n",
    "                      boundary_circuit=bond_prep_pcirc,\n",
    "                     L=L,\n",
    "                     bases=m)\n",
    "    circ_curr = psi_curr.construct_circuit(opt_params_with_bdry)\n",
    "    jobs += [{'name':'xxz_xxzstar_hz{}'.format(hz)+'_basis_'+m[0],\n",
    "              'isoMPS':psi_curr,\n",
    "              'vqe_data':vqe_data,\n",
    "              'qiskit_circuit':circ_curr,\n",
    "              'qasm':circ_curr.qasm(),\n",
    "              'model':model_data,\n",
    "              'basis':m,\n",
    "              'shots':shots,\n",
    "              'job_id':None, # job-id when submitted to honeywell\n",
    "              'qiskit_results':None, # qiskit simultor results\n",
    "              'results':None # Honeywell results\n",
    "              }]    \n",
    "    \n",
    "# setup qiskit simulator\n",
    "simulator = qk.Aer.get_backend('qasm_simulator')\n",
    "for job in jobs:\n",
    "    shots = job['shots']\n",
    "    job['qiskit_results'] = qk.execute(job['qiskit_circuit'], \n",
    "                               simulator, \n",
    "                               shots=shots#,noise_model=noise_model\n",
    "                                      ).result()\n",
    "    \n",
    "# compute two-point correlators from counts\n",
    "Cs = {} # dictionary of 2-point correlators\n",
    "ms = {} # dictionary of 1-spin correlators ('magnetizations')\n",
    "for job in jobs:\n",
    "    print(job['basis'][0])\n",
    "    counts = job['qiskit_results'].get_counts()\n",
    "    key = job['basis'][0][0] #'x','y',or'z' (assumes measurements are same type on each bond)\n",
    "    Cs[key] = counts_to_correlators(counts,job['shots'])\n",
    "    ms[key] = counts_to_mean(counts,job['shots'])\n",
    "N = len(list(counts.keys())[0].split(\" \"))\n",
    "\n",
    "# estimate <H>\n",
    "burn_in = l_uc*L//4 # number of sites to \"burn in\" MPS channel before measuring\n",
    "sites = np.arange(burn_in,L*l_uc-1) # remaining sites\n",
    "E = 0\n",
    "Cxx_qk = np.mean([Cs['x'][j,j+1] for j in sites])\n",
    "Cyy_qk = np.mean([Cs['y'][j,j+1] for j in sites])\n",
    "Czz_qk = np.mean([Cs['z'][j,j+1] for j in sites])\n",
    "mz_qk = np.mean(ms['z'])\n",
    "\n",
    "#for j in sites:    \n",
    "#    E += job['model']['J']*(Cs['x'][j,j+1]+Cs['y'][j,j+1])\n",
    "#    E += job['model']['J'] * job['model']['Delta']*Cs['z'][j,j+1]\n",
    "#E += job['model']['hz'] * np.sum(ms['z'])\n",
    "#E = E/sites.size # convert to energy density\n",
    "E_gs_qk = job['model']['J']*(Cxx_qk+Cyy_qk+job['model']['Delta']*Czz_qk)+job['model']['hz']*mz_qk\n",
    "print('Qiskit Energy density - estimate = {}'.format(E_gs_qk))\n",
    "print('Tenpy Optimized energy = {}'.format(E_gs_tp))"
   ]
  },
  {
   "cell_type": "markdown",
   "id": "current-screening",
   "metadata": {},
   "source": [
    "## Compare Qiskit and Tenpy results\n",
    "Compute: $$\\langle X_iX_{i+1} \\rangle ,~\\langle Y_iY_{i+1} \\rangle ,~\\langle Z_iZ_{i+1} \\rangle $$ and use them to compute $$\\langle H_{xxz}\\rangle$$\n",
    "\n",
    "Since we have a two-site unit-cell, it's important to average the energy density over the unit cell"
   ]
  },
  {
   "cell_type": "code",
   "execution_count": 27,
   "id": "reserved-column",
   "metadata": {},
   "outputs": [
    {
     "name": "stdout",
     "output_type": "stream",
     "text": [
      "Correlators\n",
      "Tenpy: (<xx>,<yy>,<zz>)=(-0.5493876959050046, -0.5493876959050046, -0.6417926869109629)\n",
      "Qiskit: (<xx>,<yy>,<zz>)=(-0.49120689655172406, -0.5139655172413792, -0.6270689655172413)\n",
      "Energies\n",
      "Qiskit Energy density - estimate = -1.789008620689655\n",
      "Tenpy Optimized energy (mpo calculation) = -1.9010162504487136\n",
      "Tenpy energy (correlator calculation): -1.9010162504487127\n"
     ]
    }
   ],
   "source": [
    "## compare correlators to tenpy version\n",
    "psi_tp=psi.to_tenpy(opt_params,L=np.inf)\n",
    "Cxx_tp = np.mean([4*psi_tp.correlation_function(\"Sx\", \"Sx\", \n",
    "                                             sites1=[j], \n",
    "                                             sites2=[j+1],\n",
    "                                             opstr=None, str_on_first=False, hermitian=False, autoJW=False)\n",
    "                  for j in range(l_uc)])\n",
    "Cyy_tp = np.mean([4*psi_tp.correlation_function(\"Sy\", \"Sy\", \n",
    "                                             sites1=[j], \n",
    "                                             sites2=[j+1],\n",
    "                                             opstr=None, str_on_first=False, hermitian=False, autoJW=False)\n",
    "                  for j in range(l_uc)])\n",
    "Czz_tp = np.mean([4*psi_tp.correlation_function(\"Sz\", \"Sz\", \n",
    "                                             sites1=[j], \n",
    "                                             sites2=[j+1],\n",
    "                                             opstr=None, str_on_first=False, hermitian=False, autoJW=False)\n",
    "                  for j in range(l_uc)])\n",
    "\n",
    "print('Correlators')\n",
    "print('Tenpy: (<xx>,<yy>,<zz>)={}'.format((Cxx_tp,Cyy_tp,Czz_tp)))\n",
    "print('Qiskit: (<xx>,<yy>,<zz>)={}'.format((Cxx_qk,Cyy_qk,Czz_qk)))\n",
    "\n",
    "print('Energies')\n",
    "print('Qiskit Energy density - estimate = {}'.format(E_gs_qk))\n",
    "print('Tenpy Optimized energy (mpo calculation) = {}'.format(E_gs_tp))\n",
    "\n",
    "E_gs_tp_corr = job['model']['J']*(Cxx_tp+Cyy_tp+job['model']['Delta']*Czz_tp)#+job['model']['hz']*mz_tp\n",
    "print('Tenpy energy (correlator calculation): {}'.format(E_gs_tp_corr))"
   ]
  },
  {
   "cell_type": "markdown",
   "id": "different-painting",
   "metadata": {},
   "source": [
    "## Correlation functions\n",
    "Plot $$C_\\alpha(r,r') = \\langle \\sigma^\\alpha_{r}\\sigma^\\alpha_{r'}\\rangle$$ for $\\alpha \\in \\{x,y,z\\}$ from qiskit results"
   ]
  },
  {
   "cell_type": "code",
   "execution_count": 28,
   "id": "discrete-length",
   "metadata": {},
   "outputs": [
    {
     "data": {
      "image/png": "[encoded data removed]",
      "text/plain": [
       "<Figure size 1080x288 with 3 Axes>"
      ]
     },
     "metadata": {
      "needs_background": "light"
     },
     "output_type": "display_data"
    }
   ],
   "source": [
    "## Plot Correlations\n",
    "basis_names = ['x','y','z']\n",
    "plt.figure(figsize=(15,4))\n",
    "\n",
    "\n",
    "r = 0#l_uc*L//4\n",
    "x_pts_dmrg = [j for j in range(r+1,r+1+len(C_dmrg[b][0]))]\n",
    "for j,b in enumerate(['x','y','z']):\n",
    "    plt.subplot(1,3,j+1)\n",
    "    plt.plot(Cs[b][r,:],'.-')\n",
    "    plt.plot(x_pts_dmrg,C_dmrg[b][0],'--')\n",
    "    #plt.plot(Cs_noise[b][r,:])\n",
    "    plt.legend(['no-noise','DMRG'])\n",
    "    plt.title('$C_'+b+'(r,r\\')$ correlators, r={}'.format(r))\n",
    "    plt.xlabel('r\\'')\n",
    "    \n",
    "    \n",
    "#plt.legend(['x','y','z'])\n",
    "plt.show()\n"
   ]
  },
  {
   "cell_type": "markdown",
   "id": "democratic-potential",
   "metadata": {},
   "source": [
    "## Noisy Qiskit Simulations\n",
    "Next, simulate with some realistic noise to see how it impacts energy estimates\n",
    "\n",
    "Note: it's crucial to limit L to minimal possible (otherwise result degrades by about 15%)"
   ]
  },
  {
   "cell_type": "markdown",
   "id": "spatial-canadian",
   "metadata": {},
   "source": [
    "### Noise model"
   ]
  },
  {
   "cell_type": "code",
   "execution_count": 29,
   "id": "hollywood-commonwealth",
   "metadata": {},
   "outputs": [],
   "source": [
    "## Define Noise Model ##\n",
    "# errors (simulation)\n",
    "perr_1q = 0.0005 # 1-qubit gate error\n",
    "perr_2q = 0.005 # 2-qubit gate error\n",
    "# depolarizaing errors\n",
    "depol_1q = noise.depolarizing_error(perr_1q, 1)\n",
    "depol_2q = noise.depolarizing_error(perr_2q, 2)\n",
    "noise_model = noise.NoiseModel()\n",
    "noise_model.add_all_qubit_quantum_error(depol_1q, ['u1', 'u2', 'u3','rx','ry','rz'])\n",
    "noise_model.add_all_qubit_quantum_error(depol_2q, ['cx','cz','rxx'])"
   ]
  },
  {
   "cell_type": "markdown",
   "id": "developed-mirror",
   "metadata": {},
   "source": [
    "### Run Simulation"
   ]
  },
  {
   "cell_type": "code",
   "execution_count": 30,
   "id": "recovered-hollow",
   "metadata": {},
   "outputs": [
    {
     "name": "stdout",
     "output_type": "stream",
     "text": [
      "xx\n",
      "yy\n",
      "zz\n",
      "Qiskit Energy density (noiseless,noisy) = (-1.789008620689655, -1.6041776315789473)\n",
      "Rel. Error from noise: +10.33%\n",
      "Tenpy Optimized energy = -1.90\n"
     ]
    },
    {
     "data": {
      "image/png": "[encoded data removed]",
      "text/plain": [
       "<Figure size 1080x288 with 3 Axes>"
      ]
     },
     "metadata": {
      "needs_background": "light"
     },
     "output_type": "display_data"
    },
    {
     "data": {
      "image/png": "[encoded data removed]",
      "text/plain": [
       "<Figure size 1080x288 with 3 Axes>"
      ]
     },
     "metadata": {
      "needs_background": "light"
     },
     "output_type": "display_data"
    }
   ],
   "source": [
    "## QISKIT SIMULATION ##\n",
    "L=20 # length of chain to simulate\n",
    "burn_in = 1 # number of sites to \"burn in\" MPS channel before measuring\n",
    "shots = 400 # number of shots for each measurement\n",
    "\n",
    "# list of Pauli strings to measure\n",
    "# example format for L = 3, l_uc = 4: [['xxxy'],['zzzz'],['yzxz']]\n",
    "measurement_strings = [['x'*l_uc]*L,\n",
    "                       ['y'*l_uc]*L,\n",
    "                       ['z'*l_uc]*L] \n",
    "\n",
    "# Create meta-data\n",
    "model_data = {'type':'xxz',\n",
    "              'J':J,\n",
    "              'Delta':Delta,\n",
    "              'hz':hz,\n",
    "              'L':L,\n",
    "              'shots':shots,\n",
    "             }\n",
    "vqe_data = {'architecture':'su4_star',\n",
    "                'nb':nb,\n",
    "                'params':opt_params}\n",
    "\n",
    "# loop through measurement strings, and create list of jobs to run\n",
    "jobs_noise = []\n",
    "for m in measurement_strings:\n",
    "    psi_curr = IsoMPS(preg,breg,\n",
    "                      site_pcircs,\n",
    "                      boundary_circuit=bond_prep_pcirc,\n",
    "                     L=L,\n",
    "                     bases=m)\n",
    "    circ_curr = psi_curr.construct_circuit(opt_params_with_bdry)\n",
    "    jobs_noise += [{'name':'xxz_xxzstar_hz{}'.format(hz)+'_basis_'+m[0],\n",
    "              'isoMPS':psi_curr,\n",
    "              'vqe_data':vqe_data,\n",
    "              'qiskit_circuit':circ_curr,\n",
    "              'qasm':circ_curr.qasm(),\n",
    "              'model':model_data,\n",
    "              'basis':m,\n",
    "              'shots':shots,\n",
    "              'job_id':None, # job-id when submitted to honeywell\n",
    "              'qiskit_results':None, # qiskit simultor results\n",
    "              'results':None # Honeywell results\n",
    "              }]    \n",
    "    \n",
    "# setup qiskit simulator\n",
    "simulator = qk.Aer.get_backend('qasm_simulator')\n",
    "for job in jobs_noise:\n",
    "    shots = job['shots']\n",
    "    job['qiskit_results'] = qk.execute(job['qiskit_circuit'], \n",
    "                               simulator, \n",
    "                               shots=shots,\n",
    "                               noise_model=noise_model).result()\n",
    "    \n",
    "# compute two-point correlators from counts\n",
    "Cs_noise = {} # dictionary of 2-point correlators\n",
    "ms_noise = {} # dictionary of 1-spin correlators ('magnetizations')\n",
    "for job in jobs_noise:\n",
    "    print(job['basis'][0])\n",
    "    counts = job['qiskit_results'].get_counts()\n",
    "    key = job['basis'][0][0] #'x','y',or'z' (assumes measurements are same type on each bond)\n",
    "    Cs_noise[key] = counts_to_correlators(counts,job['shots'])\n",
    "    ms_noise[key] = counts_to_mean(counts,job['shots'])\n",
    "N = len(list(counts.keys())[0].split(\" \"))\n",
    "\n",
    "# estimate <H>\n",
    "sites = np.arange(burn_in,L*l_uc-1) # remaining sites\n",
    "E = 0\n",
    "Cxx_qk_noise = np.mean([Cs_noise['x'][j,j+1] for j in sites])\n",
    "Cyy_qk_noise = np.mean([Cs_noise['y'][j,j+1] for j in sites])\n",
    "Czz_qk_noise = np.mean([Cs_noise['z'][j,j+1] for j in sites])\n",
    "mz_qk_noise = np.mean(ms_noise['z'])\n",
    "\n",
    "#for j in sites:    \n",
    "#    E += job['model']['J']*(Cs['x'][j,j+1]+Cs['y'][j,j+1])\n",
    "#    E += job['model']['J'] * job['model']['Delta']*Cs['z'][j,j+1]\n",
    "#E += job['model']['hz'] * np.sum(ms['z'])\n",
    "#E = E/sites.size # convert to energy density\n",
    "E_gs_qk_noise = job['model']['J']*(Cxx_qk_noise+Cyy_qk_noise+job['model']['Delta']*Czz_qk_noise)+job['model']['hz']*mz_qk\n",
    "print('Qiskit Energy density (noiseless,noisy) = {}'.format((E_gs_qk,E_gs_qk_noise)))\n",
    "print('Rel. Error from noise: {:+.2f}%'.format((1-E_gs_qk_noise/E_gs_qk)*100))\n",
    "print('Tenpy Optimized energy = {:+.2f}'.format(E_gs_tp))\n",
    "\n",
    "## Plot Correlations\n",
    "basis_names = ['x','y','z']\n",
    "plt.figure(figsize=(15,4))\n",
    "r = burn_in+1#l_uc*L//2\n",
    "for j,b in enumerate(['x','y','z']):\n",
    "    plt.subplot(1,3,j+1)\n",
    "    plt.plot(Cs[b][r,:],'--')\n",
    "    plt.plot(Cs_noise[b][r,:])\n",
    "    plt.legend(['perfect','w/ noise'])\n",
    "    plt.title('$C_'+b+'(r,r\\')$ correlators, r={}'.format(r))\n",
    "    plt.xlabel('r\\'')\n",
    "    \n",
    "#plt.legend(['x','y','z'])\n",
    "plt.show()\n",
    "\n",
    "## Plot Correlations\n",
    "basis_names = ['x','y','z']\n",
    "plt.figure(figsize=(15,4))\n",
    "r = l_uc*L//2\n",
    "for j,b in enumerate(['x','y','z']):\n",
    "    plt.subplot(1,3,j+1)\n",
    "    plt.plot(Cs[b][r,:],'--')\n",
    "    plt.plot(Cs_noise[b][r,:])\n",
    "    plt.legend(['perfect','w/ noise'])\n",
    "    plt.title('$C_'+b+'(r,r\\')$ correlators, r={}'.format(r))\n",
    "    plt.xlabel('r\\'')\n",
    "    \n",
    "#plt.legend(['x','y','z'])\n",
    "plt.show()"
   ]
  },
  {
   "cell_type": "markdown",
   "id": "prompt-plymouth",
   "metadata": {},
   "source": [
    "From the above correlator plots, you can see that the correlations for spins early in the chain (top row) tend to be more accurate than those in the middle of the chain (though errors do seem to saturate deep in the chain)"
   ]
  },
  {
   "cell_type": "markdown",
   "id": "qualified-union",
   "metadata": {},
   "source": [
    "# Thermal state"
   ]
  },
  {
   "cell_type": "markdown",
   "id": "editorial-labor",
   "metadata": {},
   "source": [
    "## Functions to compute free energy"
   ]
  },
  {
   "cell_type": "code",
   "execution_count": 350,
   "id": "regular-representation",
   "metadata": {},
   "outputs": [
    {
     "name": "stdout",
     "output_type": "stream",
     "text": [
      "Random state (Energy,Free-energy): 1.1874951580522184\n",
      "Pure state Energy: -1.901016250587692\n"
     ]
    }
   ],
   "source": [
    "# inputs\n",
    "T= 1.0\n",
    "N_samples = 10 # number of random states to average over\n",
    "L_th = 10 # number of unit cells to draw random samples for\n",
    "N = l_uc*L_th # length of finite-chain MPS that we'll construct\n",
    "\n",
    "# unitaries\n",
    "us = psi.unitaries(opt_params)\n",
    "H_mpo_finite = xxz_mpo_finite(J=J,hz=hz,Delta=Delta,L=N)\n",
    "\n",
    "\n",
    "# single sample\n",
    "def compute_energy_sample(N,prob_therm,params,psi,H_mpo):\n",
    "    # draw a random number\n",
    "    init_states = []\n",
    "    prob_therm = np.nan_to_num(prob_therm)\n",
    "    for j in range(psi.l_uc):\n",
    "        if prob_therm[j]<0 or prob_therm[j]>1 or np.isnan(prob_therm[j]):\n",
    "            prob_therm[j]=1e-8\n",
    "        init_states += [np.random.binomial(1,prob_therm[j],L_th)]\n",
    "    init_states = np.array(init_states).flatten('F') # interleaved list of initial states\n",
    "\n",
    "    # site tensors for random state\n",
    "    site = tp.networks.site.SpinHalfSite(None)\n",
    "    us = psi.unitaries(params)\n",
    "    \n",
    "    # create site tensors with appropriate initial state\n",
    "    tensors = [us[j%l_uc][:,:,init_states[j],:] for j in range(N)] \n",
    "\n",
    "    # code basically copied from IsoMPS.to_tenpy()\n",
    "    B_arrs = [np.swapaxes(tensor,1,2) for tensor in tensors]\n",
    "    B_arrs[0] = B_arrs[0][:,0:1,:]\n",
    "    B_arrs[-1] = B_arrs[-1][:,:,0:1]\n",
    "    psi_rand_tp = tp.networks.mps.MPS.from_Bflat([site]*N,\n",
    "                                            B_arrs, \n",
    "                                            bc = 'finite', \n",
    "                                            dtype=complex, \n",
    "                                            form=None) \n",
    "    psi_rand_tp.canonical_form()\n",
    "    psi_rand_tp.convert_form(psi_rand_tp.form)\n",
    "    E_sample = (H_mpo_finite.expectation_value(psi_rand_tp)).real/N\n",
    "    return E_sample\n",
    "\n",
    "#def energy_random_state(x,*args):\n",
    "#def energy_random_state(prob_therm,param_dict,psi,H_mpo,N_samples,N):\n",
    "#    Es = [compute_energy_sample(N,param_dict,psi,H_mpo) for j in range(N_samples)]\n",
    "#    return np.mean(Es)\n",
    "\n",
    "def entropy(x):\n",
    "    x=(x<(1-1e-15))*(x>1e-15)*x+5e-15 # trim x to be 0<x<1\n",
    "    ent = (-x*np.log(x)-(1.0-x)*np.log(1.0-x))\n",
    "    return np.nan_to_num(ent,nan=0.0)\n",
    "\n",
    "def free_energy_random_state(x,*args):\n",
    "    psi=args[0]\n",
    "    H_mpo = args[1]\n",
    "    N_samples = args[2]\n",
    "    N = args[3]\n",
    "    T = args[4]\n",
    "    \n",
    "    prob_therm = np.abs(np.sin(x[0:psi.l_uc]))**2 \n",
    "    circ_param_vals = x[psi.l_uc:]\n",
    "    param_dict = dict(zip(psi.param_list,circ_param_vals))\n",
    "\n",
    "    #E = energy_random_state(x,args)/N\n",
    "    #E = energy_random_state(prob_therm,param_dict,psi,H_mpo,N_samples,N)/N\n",
    "    Es = [compute_energy_sample(N,prob_therm,param_dict,psi,H_mpo) for j in range(N_samples)]\n",
    "    E = np.mean(Es)\n",
    "    F = E - T*np.mean(entropy(np.array(prob_therm)))\n",
    "    return F\n",
    "\n",
    "x0 = [-1.57,0.0] + list(opt_vals)\n",
    "args = (psi,H_mpo,N_samples,N,T)\n",
    "print('Random state (Energy,Free-energy): {}'.format(free_energy_random_state(x0,psi,H_mpo_finite,N_samples,N,T)))\n",
    "# Compare to pure state result at T=0\n",
    "#H_mpo = xxz_mpo(J=J,hz=hz,Delta=Delta)\n",
    "print('Pure state Energy: {}'.format(energy_tp(opt_vals,psi,H_mpo)))"
   ]
  },
  {
   "cell_type": "code",
   "execution_count": 348,
   "id": "breeding-grass",
   "metadata": {},
   "outputs": [
    {
     "name": "stdout",
     "output_type": "stream",
     "text": [
      "x 5e-15 5e-15\n"
     ]
    },
    {
     "data": {
      "text/plain": [
       "1.6964269602319614e-13"
      ]
     },
     "execution_count": 348,
     "metadata": {},
     "output_type": "execute_result"
    }
   ],
   "source": [
    "entropy(0)"
   ]
  },
  {
   "cell_type": "markdown",
   "id": "disturbed-hands",
   "metadata": {},
   "source": [
    "### Gradient descent function"
   ]
  },
  {
   "cell_type": "code",
   "execution_count": 316,
   "id": "surprising-measurement",
   "metadata": {
    "scrolled": true
   },
   "outputs": [],
   "source": [
    "# finite difference gradient\n",
    "def grad_fd(fun,x,dx,*args):\n",
    "    \"\"\"\n",
    "    fun - function of \\mathbb{R}^D\n",
    "    x - point to differentiate (np array)\n",
    "    dx - step size (scalar)\n",
    "    returns:\n",
    "        gradient (np.array), f0 - value of function at starting point\n",
    "    \"\"\"\n",
    "    D = x.size\n",
    "    f0 = fun(x,*args)\n",
    "    grad = np.zeros(D)\n",
    "    for j in range(D):\n",
    "        x_new = x.copy()\n",
    "        x_new[j] = x[j]+dx\n",
    "        grad[j] = (fun(x_new,*args)-f0)/dx\n",
    "    return grad,f0\n",
    "\n",
    "def grad_desc(fun,x0,a,dx,n_steps,*args):\n",
    "    \"\"\"\n",
    "    does n_steps (int) iterations of gradient descent on function: fun\n",
    "    with step size a, and gradient finite-difference step dx,\n",
    "    starting from point x0\n",
    "    \"\"\"\n",
    "    xs = []\n",
    "    fs = []\n",
    "    x_curr = x0\n",
    "    for j in range(n_steps):\n",
    "        grad,f = grad_fd(fun,x_curr,dx,*args)\n",
    "        xs+=[x_curr]\n",
    "        fs+=[f]\n",
    "        print('----')\n",
    "        print('Iteration {}'.format(j)+', f={}'.format(f))\n",
    "        print(xs[0:2])\n",
    "        x_curr -= a*grad#/(1+np.sqrt(np.sum(np.abs(grad)**2))\n",
    "    f_final = fun(x_curr,*args)\n",
    "    return xs,fs,f_final\n",
    "\n",
    "def test_fun(x,*args):\n",
    "    return (x[0]-1)**2+(x[1]-2)**2\n"
   ]
  },
  {
   "cell_type": "code",
   "execution_count": 321,
   "id": "tribal-buying",
   "metadata": {
    "scrolled": false
   },
   "outputs": [
    {
     "name": "stdout",
     "output_type": "stream",
     "text": [
      "----\n",
      "Iteration 0, f=-6.159583055371348\n",
      "[array([ 0.25      ,  0.25      ,  0.80332451,  3.30297577, -1.95641068,\n",
      "        1.19708645, -1.48804918,  3.458847  , -0.71014904, -2.61950496])]\n",
      "----\n",
      "Iteration 1, f=-6.024355993185164\n",
      "[array([ 0.31794892,  0.19355759,  0.78536986,  3.2539378 , -1.96092009,\n",
      "        1.15658243, -1.50192887,  3.3994267 , -0.72181061, -2.59848474]), array([ 0.31794892,  0.19355759,  0.78536986,  3.2539378 , -1.96092009,\n",
      "        1.15658243, -1.50192887,  3.3994267 , -0.72181061, -2.59848474])]\n",
      "----\n",
      "Iteration 2, f=-6.605858216878567\n",
      "[array([ 0.39288785,  0.34416521,  0.81266811,  3.20232953, -1.97949306,\n",
      "        1.17347045, -1.47006432,  3.33599312, -0.67487504, -2.51591487]), array([ 0.39288785,  0.34416521,  0.81266811,  3.20232953, -1.97949306,\n",
      "        1.17347045, -1.47006432,  3.33599312, -0.67487504, -2.51591487])]\n",
      "----\n",
      "Iteration 3, f=-6.751230119355725\n",
      "[array([ 0.41953464,  0.35644909,  0.79878657,  3.29213912, -1.98603574,\n",
      "        1.22442046, -1.40232219,  3.31776854, -0.61373712, -2.5375684 ]), array([ 0.41953464,  0.35644909,  0.79878657,  3.29213912, -1.98603574,\n",
      "        1.22442046, -1.40232219,  3.31776854, -0.61373712, -2.5375684 ])]\n",
      "----\n",
      "Iteration 4, f=-6.565147750905698\n",
      "[array([ 0.42222174,  0.34615571,  0.81597478,  3.30462617, -1.99966779,\n",
      "        1.22157002, -1.39006408,  3.27987686, -0.68123145, -2.51173774]), array([ 0.42222174,  0.34615571,  0.81597478,  3.30462617, -1.99966779,\n",
      "        1.22157002, -1.39006408,  3.27987686, -0.68123145, -2.51173774])]\n",
      "----\n",
      "Iteration 5, f=-6.796519578371052\n",
      "[array([ 0.41218527,  0.34272269,  0.86477161,  3.3615291 , -1.96521157,\n",
      "        1.1927528 , -1.33447087,  3.37474882, -0.63509505, -2.43474646]), array([ 0.41218527,  0.34272269,  0.86477161,  3.3615291 , -1.96521157,\n",
      "        1.1927528 , -1.33447087,  3.37474882, -0.63509505, -2.43474646])]\n",
      "----\n",
      "Iteration 6, f=-6.670052278278237\n",
      "[array([ 0.34601342,  0.33420943,  0.81681557,  3.34272353, -1.98731702,\n",
      "        1.23020897, -1.35346122,  3.34436027, -0.69855246, -2.46682459]), array([ 0.34601342,  0.33420943,  0.81681557,  3.34272353, -1.98731702,\n",
      "        1.23020897, -1.35346122,  3.34436027, -0.69855246, -2.46682459])]\n",
      "----\n",
      "Iteration 7, f=-6.439832376246979\n",
      "[array([ 0.31254776,  0.33415003,  0.75937622,  3.35389172, -2.07071358,\n",
      "        1.18567842, -1.37222566,  3.35789768, -0.71993252, -2.55059961]), array([ 0.31254776,  0.33415003,  0.75937622,  3.35389172, -2.07071358,\n",
      "        1.18567842, -1.37222566,  3.35789768, -0.71993252, -2.55059961])]\n",
      "----\n",
      "Iteration 8, f=-6.525182601488869\n",
      "[array([ 0.35627994,  0.35999004,  0.79324447,  3.37156522, -2.04339402,\n",
      "        1.13981483, -1.36258427,  3.32428767, -0.66198423, -2.58094557]), array([ 0.35627994,  0.35999004,  0.79324447,  3.37156522, -2.04339402,\n",
      "        1.13981483, -1.36258427,  3.32428767, -0.66198423, -2.58094557])]\n",
      "----\n",
      "Iteration 9, f=-6.729305488086438\n",
      "[array([ 0.42814726,  0.37344065,  0.89506755,  3.37843252, -1.95766772,\n",
      "        1.23429205, -1.38067565,  3.33989351, -0.60854597, -2.60514443]), array([ 0.42814726,  0.37344065,  0.89506755,  3.37843252, -1.95766772,\n",
      "        1.23429205, -1.38067565,  3.33989351, -0.60854597, -2.60514443])]\n",
      "grad-desc done, final f: -6.584157418915498\n"
     ]
    }
   ],
   "source": [
    "x0 = np.array([0.25,0.25] + list(opt_params.values())) # starting point for parameters\n",
    "xs,fs,f_final = grad_desc(free_energy_random_state,\n",
    "                         x0,\n",
    "                         0.03, #grad-desc step size\n",
    "                         0.1, # finite-difference size\n",
    "                         10, # number of grad-desc steps\n",
    "                         psi,H_mpo_finite,N_samples,N,T)\n",
    "print('grad-desc done, final f: {}'.format(f_final))\n"
   ]
  },
  {
   "cell_type": "markdown",
   "id": "historic-marketplace",
   "metadata": {},
   "source": [
    "## Optimize free energy"
   ]
  },
  {
   "cell_type": "code",
   "execution_count": 362,
   "id": "worse-investigator",
   "metadata": {},
   "outputs": [
    {
     "name": "stdout",
     "output_type": "stream",
     "text": [
      "Optimization done, elapsed time: 272.4131848812103\n",
      "Optimized free-energy = -1.8080322918281921\n",
      "Optimized parameters\n",
      "{Parameter(s0_0): 0.09999832127448328, Parameter(s0_1): 0.09999933258826105, Parameter(s0_2): 0.8033247582322092, Parameter(s0_3): 3.302974265037784, Parameter(s1_0): -1.9564117445290488, Parameter(s1_1): 1.197086432037039, Parameter(s1_2): -1.488049189311719, Parameter(s1_3): 3.458846329859802}\n"
     ]
    }
   ],
   "source": [
    "T=0\n",
    "x0 = [0.1,0.1] + list(opt_params.values()) # starting point for parameters\n",
    "t0 = time.time()\n",
    "\n",
    "options = {'gtol': 0.03, \n",
    "           'eps': 0.03, \n",
    "           'maxiter': 10, \n",
    "           'disp': True, \n",
    "           'finite_diff_rel_step': 0.03}\n",
    "\n",
    "thermal_opt_result = minimize(free_energy_random_state, # function to minimize\n",
    "                      x0, # starting point for parameters \n",
    "                      args=(psi,H_mpo_finite,N_samples,N,T), # must take form (isoMPS,tenpy MPO, Length)\n",
    "                      method='BFGS',\n",
    "                     )\n",
    "tf = time.time()\n",
    "# set parameters to previously optimized values\n",
    "thermal_opt_vals = thermal_opt_result.x\n",
    "thermal_opt_params = dict(zip(psi.param_list,thermal_opt_vals))\n",
    "F_tp = thermal_opt_result.fun\n",
    "print('Optimization done, elapsed time: {}'.format(tf-t0))\n",
    "print('Optimized free-energy = {}'.format(F_tp))\n",
    "print('Optimized parameters')\n",
    "print(thermal_opt_params)\n",
    "\n",
    "therm_results[T] = thermal_opt_result # store for various T in dictionary"
   ]
  },
  {
   "cell_type": "markdown",
   "id": "checked-individual",
   "metadata": {},
   "source": [
    "# Dynamics"
   ]
  },
  {
   "cell_type": "code",
   "execution_count": null,
   "id": "convertible-marshall",
   "metadata": {},
   "outputs": [],
   "source": []
  }
 ],
 "metadata": {
  "kernelspec": {
   "display_name": "Python 3",
   "language": "python",
   "name": "python3"
  },
  "language_info": {
   "codemirror_mode": {
    "name": "ipython",
    "version": 3
   },
   "file_extension": ".py",
   "mimetype": "text/x-python",
   "name": "python",
   "nbconvert_exporter": "python",
   "pygments_lexer": "ipython3",
   "version": "3.9.1"
  },
  "toc": {
   "base_numbering": 1,
   "nav_menu": {},
   "number_sections": true,
   "sideBar": true,
   "skip_h1_title": false,
   "title_cell": "Table of Contents",
   "title_sidebar": "Contents",
   "toc_cell": true,
   "toc_position": {},
   "toc_section_display": true,
   "toc_window_display": true
  }
 },
 "nbformat": 4,
 "nbformat_minor": 5
}
