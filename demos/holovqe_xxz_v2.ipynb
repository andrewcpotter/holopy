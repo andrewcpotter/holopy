{
 "cells": [
  {
   "cell_type": "markdown",
   "id": "liked-japan",
   "metadata": {
    "toc": true
   },
   "source": [
    "<h1>Table of Contents<span class=\"tocSkip\"></span></h1>\n",
    "<div class=\"toc\"><ul class=\"toc-item\"><li><span><a href=\"#Tenpy-optimization\" data-toc-modified-id=\"Tenpy-optimization-1\"><span class=\"toc-item-num\">1&nbsp;&nbsp;</span>Tenpy optimization</a></span><ul class=\"toc-item\"><li><span><a href=\"#Model-definitions\" data-toc-modified-id=\"Model-definitions-1.1\"><span class=\"toc-item-num\">1.1&nbsp;&nbsp;</span>Model definitions</a></span><ul class=\"toc-item\"><li><span><a href=\"#Def.-XXZ-MPO\" data-toc-modified-id=\"Def.-XXZ-MPO-1.1.1\"><span class=\"toc-item-num\">1.1.1&nbsp;&nbsp;</span>Def. XXZ MPO</a></span></li></ul></li><li><span><a href=\"#Setup-variational-circuit-ansatz\" data-toc-modified-id=\"Setup-variational-circuit-ansatz-1.2\"><span class=\"toc-item-num\">1.2&nbsp;&nbsp;</span>Setup variational circuit ansatz</a></span></li><li><span><a href=\"#Optimize-the-variational-parameters\" data-toc-modified-id=\"Optimize-the-variational-parameters-1.3\"><span class=\"toc-item-num\">1.3&nbsp;&nbsp;</span>Optimize the variational parameters</a></span><ul class=\"toc-item\"><li><span><a href=\"#Compare-to-DMRG-results-at-same-bond-dimension\" data-toc-modified-id=\"Compare-to-DMRG-results-at-same-bond-dimension-1.3.1\"><span class=\"toc-item-num\">1.3.1&nbsp;&nbsp;</span>Compare to DMRG results at same bond-dimension</a></span></li><li><span><a href=\"#Look-at-correlation-functions\" data-toc-modified-id=\"Look-at-correlation-functions-1.3.2\"><span class=\"toc-item-num\">1.3.2&nbsp;&nbsp;</span>Look at correlation functions</a></span></li></ul></li><li><span><a href=\"#Optimize-bond-prep-circuit\" data-toc-modified-id=\"Optimize-bond-prep-circuit-1.4\"><span class=\"toc-item-num\">1.4&nbsp;&nbsp;</span>Optimize bond-prep circuit</a></span></li></ul></li><li><span><a href=\"#Simulate-in-Qiskit\" data-toc-modified-id=\"Simulate-in-Qiskit-2\"><span class=\"toc-item-num\">2&nbsp;&nbsp;</span>Simulate in Qiskit</a></span><ul class=\"toc-item\"><li><span><a href=\"#Simulate-implementation-in-qiskit-(without-noise)\" data-toc-modified-id=\"Simulate-implementation-in-qiskit-(without-noise)-2.1\"><span class=\"toc-item-num\">2.1&nbsp;&nbsp;</span>Simulate implementation in qiskit (without noise)</a></span><ul class=\"toc-item\"><li><span><a href=\"#Setup-simulations\" data-toc-modified-id=\"Setup-simulations-2.1.1\"><span class=\"toc-item-num\">2.1.1&nbsp;&nbsp;</span>Setup simulations</a></span></li><li><span><a href=\"#Run-Sims-(Noiseless)\" data-toc-modified-id=\"Run-Sims-(Noiseless)-2.1.2\"><span class=\"toc-item-num\">2.1.2&nbsp;&nbsp;</span>Run Sims (Noiseless)</a></span></li></ul></li><li><span><a href=\"#Compare-Qiskit-and-Tenpy-results\" data-toc-modified-id=\"Compare-Qiskit-and-Tenpy-results-2.2\"><span class=\"toc-item-num\">2.2&nbsp;&nbsp;</span>Compare Qiskit and Tenpy results</a></span></li><li><span><a href=\"#Correlation-functions\" data-toc-modified-id=\"Correlation-functions-2.3\"><span class=\"toc-item-num\">2.3&nbsp;&nbsp;</span>Correlation functions</a></span></li><li><span><a href=\"#Noisy-Qiskit-Simulations\" data-toc-modified-id=\"Noisy-Qiskit-Simulations-2.4\"><span class=\"toc-item-num\">2.4&nbsp;&nbsp;</span>Noisy Qiskit Simulations</a></span><ul class=\"toc-item\"><li><span><a href=\"#Noise-model\" data-toc-modified-id=\"Noise-model-2.4.1\"><span class=\"toc-item-num\">2.4.1&nbsp;&nbsp;</span>Noise model</a></span></li><li><span><a href=\"#Run-Simulation\" data-toc-modified-id=\"Run-Simulation-2.4.2\"><span class=\"toc-item-num\">2.4.2&nbsp;&nbsp;</span>Run Simulation</a></span></li></ul></li></ul></li><li><span><a href=\"#Thermal-state\" data-toc-modified-id=\"Thermal-state-3\"><span class=\"toc-item-num\">3&nbsp;&nbsp;</span>Thermal state</a></span></li><li><span><a href=\"#Dynamics\" data-toc-modified-id=\"Dynamics-4\"><span class=\"toc-item-num\">4&nbsp;&nbsp;</span>Dynamics</a></span></li></ul></div>"
   ]
  },
  {
   "cell_type": "code",
   "execution_count": 1,
   "id": "personal-banks",
   "metadata": {},
   "outputs": [],
   "source": [
    "%load_ext autoreload\n",
    "%reload_ext autoreload\n",
    "%autoreload 2"
   ]
  },
  {
   "cell_type": "code",
   "execution_count": 85,
   "id": "patient-security",
   "metadata": {},
   "outputs": [],
   "source": [
    "import sys\n",
    "sys.path.append(\"..\") # import one subdirectory up in files\n",
    "#sys.path.append(\"..\") # import one subdirectory up in files\n",
    "#os.chdir(\"../holopy/\")\n",
    "\n",
    "# standard imports\n",
    "import numpy as np\n",
    "from scipy.optimize import minimize\n",
    "import scipy.linalg as la\n",
    "import matplotlib.pyplot as plt\n",
    "import matplotlib\n",
    "import time as time\n",
    "#import json\n",
    "import pickle\n",
    "\n",
    "# 3rd party packages\n",
    "import qiskit as qk\n",
    "import qiskit.providers.aer.noise as noise\n",
    "import tenpy as tp\n",
    "\n",
    "## custom things\n",
    "from networks.networks import IsoMPS\n",
    "from networks.isonetwork import QKParamCircuit, IsoTensor\n",
    "import circuits.basic_circuits as circuits\n",
    "import mps.mps as mps\n",
    "\n"
   ]
  },
  {
   "cell_type": "markdown",
   "id": "hindu-vietnam",
   "metadata": {},
   "source": [
    "# Tenpy optimization\n",
    "## Model definitions\n",
    "Define some functions to create tenpy MPO for xxz model"
   ]
  },
  {
   "cell_type": "markdown",
   "id": "whole-airport",
   "metadata": {},
   "source": [
    "### Def. XXZ MPO"
   ]
  },
  {
   "cell_type": "code",
   "execution_count": 50,
   "id": "automatic-reader",
   "metadata": {},
   "outputs": [],
   "source": [
    "## TENPY FUNCTION DEFINITIONS ##\n",
    "\n",
    "from tenpy.models.model import CouplingMPOModel, NearestNeighborModel\n",
    "from tenpy.tools.params import asConfig\n",
    "from tenpy.networks.site import SpinHalfSite\n",
    "from tenpy.networks.mps import MPS\n",
    "\n",
    "__all__ = ['XXZModel', 'XXChain']\n",
    "class XXZModel(CouplingMPOModel):\n",
    "    def init_sites(self, model_params):\n",
    "        conserve = model_params.get('conserve', 'parity')\n",
    "        assert conserve != 'Sz'\n",
    "        if conserve == 'best':\n",
    "            conserve = 'parity'\n",
    "            if self.verbose >= 1.:\n",
    "                print(self.name + \": set conserve to\", conserve)\n",
    "        site = SpinHalfSite(conserve=conserve)\n",
    "        return site\n",
    "    def init_terms(self, model_params):\n",
    "        J = np.asarray(model_params.get('J', 1.))\n",
    "        d = np.asarray(model_params.get('d', 1.))\n",
    "        for u1, u2, dx in self.lat.pairs['nearest_neighbors']:\n",
    "            self.add_coupling(J, u1, 'Sigmax', u2, 'Sigmax', dx)\n",
    "            self.add_coupling(J, u1, 'Sigmay', u2, 'Sigmay', dx)\n",
    "            self.add_coupling(J*d, u1, 'Sigmaz', u2, 'Sigmaz', dx)\n",
    "        # done\n",
    "class XXZChain(XXZModel, NearestNeighborModel):\n",
    "    def __init__(self, model_params):\n",
    "        model_params = asConfig(model_params, self.__class__.__name__)\n",
    "        model_params.setdefault('lattice', \"Chain\")\n",
    "        CouplingMPOModel.__init__(self, model_params)\n",
    "        \n",
    "def DMRG_xxz_infinite(J,Delta,chi_max = 4, verbose=False):\n",
    "    model_params = dict(L=2, J=J, d=Delta, bc_MPS='infinite', conserve=None, verbose=verbose)\n",
    "    M = XXZChain(model_params)\n",
    "    product_state = [\"down\"] * M.lat.N_sites\n",
    "    psi = MPS.from_product_state(M.lat.mps_sites(), product_state, bc=M.lat.bc_MPS)\n",
    "    dmrg_params = {\n",
    "        'mixer': True,  # setting this to True helps to escape local minima\n",
    "        'trunc_params': {\n",
    "            'chi_max': chi_max,\n",
    "            'svd_min': 1.e-6\n",
    "        },\n",
    "        'max_E_err': 1.e-6,\n",
    "        'verbose': verbose,\n",
    "    }\n",
    "    # Sometimes, we want to call a 'DMRG engine' explicitly\n",
    "    eng = tp.algorithms.dmrg.TwoSiteDMRGEngine(psi, M, dmrg_params)\n",
    "    E, psi = eng.run()  # equivalent to dmrg.run() up to the return parameters.\n",
    "    print(\"E = {E:.13f}\".format(E=E))\n",
    "    print(\"final bond dimensions: \", psi.chi)\n",
    "    mag_x = np.mean(psi.expectation_value(\"Sigmax\"))\n",
    "    mag_z = np.mean(psi.expectation_value(\"Sigmaz\"))\n",
    "    print(\"<sigma_x> = {mag_x:.5f}\".format(mag_x=mag_x))\n",
    "    print(\"<sigma_z> = {mag_z:.5f}\".format(mag_z=mag_z))\n",
    "    print(\"correlation length:\", psi.correlation_length())\n",
    "    return E, psi, M\n",
    "\n",
    "def xxz_mpo(J,Delta,hz=0):\n",
    "    model_params = dict(J=J, d=Delta, bc_MPS='infinite', conserve=None, verbose=False)\n",
    "    return XXZChain(model_params).H_MPO\n",
    "\n",
    "#def xxz_mpo(J, Delta, hz, N=1, bc='infinite'):\n",
    "#    site = tp.networks.site.SpinHalfSite(None)\n",
    "#    Id, Sp, Sm, Sz = site.Id, site.Sp, site.Sm, 2*site.Sz\n",
    "#    W_bulk = [[Id, Sp, Sm, Sz, -hz * Sz],\n",
    "#              [None, None, None, None, 0.5 * J * Sm],\n",
    "#              [None, None, None, None, 0.5 * J * Sp],\n",
    "#              [None, None, None, None, J * Delta * Sz],\n",
    "#              [None, None, None, None, Id]]\n",
    "#    H = tp.networks.mpo.MPO.from_grids([site], [W_bulk], bc, IdL=0, IdR=-1) # (probably leave the IdL,IdR)\n",
    "#    return H\n",
    "\n",
    "#def xxz_mpo(J, Delta, hz, N=1, bc='infinite'):\n",
    "#    site = tp.networks.site.SpinHalfSite(None)\n",
    "#    Id, Sp, Sm, Sz = site.Id, site.Sp, site.Sm, 2*site.Sz\n",
    "#    W_bulk = [[Id, Sp, Sm, Sz, -hz * Sz],\n",
    "#              [None, None, None, None, 0.5 * J * Sm],\n",
    "#              [None, None, None, None, 0.5 * J * Sp],\n",
    "#              [None, None, None, None, J * Delta * Sz],\n",
    "#              [None, None, None, None, Id]]\n",
    "    #W_first = [W_bulk[0]]  # first row\n",
    "    #W_last = [[row[-1]] for row in W_bulk]  # last column\n",
    "    #Ws = [W_first] + [W_bulk]*(N - 2) + [W_last]\n",
    "#    H = tp.networks.mpo.MPO.from_grids([site]*N, [W_bulk]*N, bc, IdL=0, IdR=-1) # (probably leave the IdL,IdR)\n",
    "#    return H\n",
    "\n",
    "# tenpy energy calculator\n",
    "def energy_tp(param_vals,*args):\n",
    "    \"\"\"\n",
    "    function to calculate energy using MPO/MPS contraction in tenpy\n",
    "    inputs:\n",
    "        - param_vals = dict {parameter:value}\n",
    "        - *args, \n",
    "            args[0] should be psi: state as IsoMPS\n",
    "            args[1] should be H_mpo: Hamiltonian as MPO\n",
    "        (input made this way to be compatible w/ scipy.optimize)\n",
    "    outputs:\n",
    "        - float, <psi|H|psi> computed w/ tenpy\n",
    "    \"\"\"\n",
    "    # parse inputs\n",
    "    psi=args[0] # state as isoMPS    \n",
    "    H_mpo = args[1] # Hamiltonian as tenpy MPO\n",
    "    param_dict = dict(zip(psi.param_list,param_vals))\n",
    "    \n",
    "    # convert state from holoPy isoMPS to tenpy MPS\n",
    "    psi_tp = psi.to_tenpy(param_dict,L=np.inf)\n",
    "    \n",
    "    # compute energy\n",
    "    E = (H_mpo.expectation_value(psi_tp)).real\n",
    "    return E\n",
    "\n",
    "def energy_tp_corr(param_vals,*args):\n",
    "    psi=args[0]\n",
    "    J,Delta,h = args[1]\n",
    "    psi_tp=psi.to_tenpy(opt_params,L=np.inf)\n",
    "    Cxx_tp = np.mean([4*psi_tp.correlation_function(\"Sx\", \"Sx\", \n",
    "                                                 sites1=[j], \n",
    "                                                 sites2=[j+1],\n",
    "                                                 opstr=None, str_on_first=False, hermitian=False, autoJW=False)\n",
    "                      for j in range(l_uc)])\n",
    "    Cyy_tp = np.mean([4*psi_tp.correlation_function(\"Sy\", \"Sy\", \n",
    "                                                 sites1=[j], \n",
    "                                                 sites2=[j+1],\n",
    "                                                 opstr=None, str_on_first=False, hermitian=False, autoJW=False)\n",
    "                      for j in range(l_uc)])\n",
    "    Czz_tp = np.mean([4*psi_tp.correlation_function(\"Sz\", \"Sz\", \n",
    "                                                 sites1=[j], \n",
    "                                                 sites2=[j+1],\n",
    "                                                 opstr=None, str_on_first=False, hermitian=False, autoJW=False)\n",
    "                      for j in range(l_uc)])\n",
    "    return J*(Cxx_tp+Cyy_tp+Delta*Czz_tp)"
   ]
  },
  {
   "cell_type": "markdown",
   "id": "orange-dodge",
   "metadata": {},
   "source": [
    "## Setup variational circuit ansatz\n",
    "Setup variational circuit ansatz\n",
    "Strategy: two-site unit-cell, with star-circuit of xxz-gates:\n",
    "\n",
    "$$U_{xxz}(\\theta,\\phi) = \\exp[-i\\theta/2 (X_1X_2+Y_1Y_2) - i\\phi/2(Z_1Z_2)] $$\n",
    "\n",
    "and initial state for qubits alternates between $|\\uparrow\\rangle$, $|\\downarrow\\rangle$ on even/odd sites of the unit-cell\n",
    "\n",
    "First, define the parameters of the model and circuit:"
   ]
  },
  {
   "cell_type": "code",
   "execution_count": 33,
   "id": "smaller-chocolate",
   "metadata": {},
   "outputs": [],
   "source": [
    "## HYPERPARAMETERS ##\n",
    "# model (xxz)\n",
    "J = 1.0 # spin-exchange\n",
    "Delta = 1.25 # Ising-anisotropy\n",
    "hz = 0.0 # z-field\n",
    "\n",
    "# ansatz parameters\n",
    "nb = 2 # number of bond-qubits \n",
    "L = 1 # number of unit cells\n",
    "l_uc = 2 # number of sites in unit cell\n",
    "n_site_param = 2*nb # number of circuit parameters per site\n"
   ]
  },
  {
   "cell_type": "markdown",
   "id": "random-working",
   "metadata": {},
   "source": [
    "Next, setup the circuit as a parameterized circuit in qiskit (which we package as a QKParamCircuit, and create a holopy IsoMPS object from)\n",
    "\n",
    "Note: here, I haven't setup the bond-qubit initialization circuit (bond_prep_circ): this doesn't effect tenpy-part which computes for infinite boundary conditions.\n",
    "\n",
    "To-do: optimize bond-qubit initialization circuit to minimize required burn-in"
   ]
  },
  {
   "cell_type": "code",
   "execution_count": 41,
   "id": "answering-consultancy",
   "metadata": {},
   "outputs": [
    {
     "name": "stdout",
     "output_type": "stream",
     "text": [
      "circuits for each site in uc:\n"
     ]
    },
    {
     "data": {
      "text/plain": [
       "[<networks.isonetwork.QKParamCircuit at 0x138656040>,\n",
       " <networks.isonetwork.QKParamCircuit at 0x138c640d0>]"
      ]
     },
     "execution_count": 41,
     "metadata": {},
     "output_type": "execute_result"
    }
   ],
   "source": [
    "## CREATE ISOMPS FROM PARAMETERIZED CIRCUIT ANSATZ ##\n",
    "# initialize registers\n",
    "preg = qk.QuantumRegister(1,'p') # physical qubits\n",
    "breg = qk.QuantumRegister(nb,'b') # bond qubits\n",
    "#creg = qk.ClassicalRegister(L*l_uc+nb,'m') # classical register to hold measurement outcomes\n",
    "\n",
    "## Site Circuits ##\n",
    "site_pcircs=[]\n",
    "\n",
    "# create list of circuits, one for each site in the unit cell (uc)\n",
    "site_circs = [qk.QuantumCircuit(preg,breg) for j in range(l_uc)]\n",
    "# create a list of parameter-lists, (one list of parameters per site in uc)\n",
    "site_circ_params = [[qk.circuit.Parameter('s'+str(j)+'_'+str(k))\n",
    "                     for k in range(n_site_param)] \n",
    "                    for j in range(l_uc)]\n",
    "site_pcircs=[] # list of QKParamCirc's for each site in uc\n",
    "for j in range(l_uc):\n",
    "    if j%2==0: site_circs[j].x(preg[0]) # alternating 10101010... for physical qubit\n",
    "    \n",
    "    # star circuit of xxz-type 2-qubit gates\n",
    "    for k in range(nb): \n",
    "        circuits.add_xxz_circ(site_circs[j], \n",
    "                              preg[0], breg[k], \n",
    "                              site_circ_params[j][2*k:2*(k+1)])\n",
    "    # combine into parameterized circuit\n",
    "    site_pcircs += [QKParamCircuit(site_circs[j], site_circ_params[j])]\n",
    "\n",
    "# create holopy isoMPS \n",
    "#(without boundary circuit for now, since we'll optimize energy as iMPS)\n",
    "psi = IsoMPS(preg,breg,site_pcircs,L=1)#,boundary_circuit=bond_prep_pcirc,L=1)\n",
    "\n",
    "print('circuits for each site in uc:')\n",
    "#site_circs[1].draw('mpl')"
   ]
  },
  {
   "cell_type": "markdown",
   "id": "comprehensive-breast",
   "metadata": {},
   "source": [
    "## Optimize the variational parameters \n",
    "Minmize the variational energy using scipy.optimize"
   ]
  },
  {
   "cell_type": "code",
   "execution_count": 46,
   "id": "residential-calculation",
   "metadata": {
    "scrolled": true
   },
   "outputs": [
    {
     "name": "stdout",
     "output_type": "stream",
     "text": [
      "Optimization done, elapsed time: 45.22960591316223\n",
      "Optimized energy = -1.9172926259538656\n",
      "Optimized parameters\n",
      "{Parameter(s0_0): -1.7227723010373663, Parameter(s0_1): -2.3327977061441725e-06, Parameter(s0_2): -2.0846931086176532, Parameter(s0_3): 3.1415969345145833, Parameter(s1_0): 1.722771035515811, Parameter(s1_1): 1.1028917974615312e-06, Parameter(s1_2): 4.198491009651507, Parameter(s1_3): -3.141593605562331}\n"
     ]
    }
   ],
   "source": [
    "## OPTIMIZE CIRCUIT PARAMETERS CLASSICALLY IN TENPY ##\n",
    "# create tenpy mpo\n",
    "H_mpo = xxz_mpo(J=J,hz=hz,Delta=Delta)\n",
    "\n",
    "\n",
    "x0 = np.pi*np.random.randn(psi.n_params) # starting point for parameters\n",
    "t0 = time.time()\n",
    "opt_result = minimize(energy_tp, # function to minimize\n",
    "                      x0, # starting point for parameters \n",
    "                      args=(psi,H_mpo), # must take form (isoMPS,tenpy MPO, Length)\n",
    "                      method='BFGS'\n",
    "                     )\n",
    "tf = time.time()\n",
    "# set parameters to previously optimized values\n",
    "opt_vals = opt_result.x\n",
    "opt_params = dict(zip(psi.param_list,opt_vals))\n",
    "E_gs_tp = opt_result.fun\n",
    "print('Optimization done, elapsed time: {}'.format(tf-t0))\n",
    "print('Optimized energy = {}'.format(E_gs_tp))\n",
    "print('Optimized parameters')\n",
    "print(opt_params)"
   ]
  },
  {
   "cell_type": "code",
   "execution_count": 45,
   "id": "downtown-retrieval",
   "metadata": {},
   "outputs": [
    {
     "name": "stdout",
     "output_type": "stream",
     "text": [
      "{Parameter(s0_0): 5.02386822264784, Parameter(s0_1): -3.141593636016085, Parameter(s0_2): 1.6072005448057548e-06, Parameter(s0_3): 2.0689286880694553, Parameter(s1_0): 8.165461220334308, Parameter(s1_1): -3.3741142830550807e-06, Parameter(s1_2): -2.4915800442713733e-06, Parameter(s1_3): -1.0726672647583526}\n"
     ]
    }
   ],
   "source": [
    "## good variational parameters for nb=2=l_uc\n",
    "# saved from previous optimization run\n",
    "## chosen from a couple of runs based on matching dmrg\n",
    "good_param_vals = np.array([-5.47986438,-2.98024345, -1.18519139,\n",
    "                            1.19707353, -1.48805789,  3.45880091,\n",
    "                            2.43144225,  3.66370337])\n",
    "#if use_bond_prep:\n",
    "#    good_param_vals = np.concatenate((np.zeros(n_bond_params),good_param_vals))\n",
    "#opt_params = dict(zip(psi.param_list,good_param_vals))\n",
    "print(opt_params)"
   ]
  },
  {
   "cell_type": "markdown",
   "id": "eligible-fitting",
   "metadata": {},
   "source": [
    "### Compare to DMRG results at same bond-dimension"
   ]
  },
  {
   "cell_type": "code",
   "execution_count": 12,
   "id": "comprehensive-clear",
   "metadata": {
    "scrolled": true
   },
   "outputs": [
    {
     "name": "stdout",
     "output_type": "stream",
     "text": [
      "Reading 'bc_MPS'='infinite' for config XXZChain\n",
      "Reading 'conserve'=None for config XXZChain\n",
      "Reading 'L'=2 for config XXZChain\n",
      "Reading 'J'=1.0 for config XXZChain\n",
      "Reading 'd'=1.25 for config XXZChain\n",
      "Subconfig 'trunc_params'=Config(<3 options>, 'trunc_params') for config TwoSiteDMRGEngine\n",
      "Initial sweeps...\n",
      "Updating environment\n",
      ".\n",
      "Reading 'max_E_err'=1e-06 for config TwoSiteDMRGEngine\n",
      "Reading 'mixer'=True for config TwoSiteDMRGEngine\n",
      "Updating environment\n",
      ".....\n",
      "================================================================================\n",
      "sweep 10, age = 128\n",
      "Energy = -1.9128677841849466, S = nan, norm_err = 2.9e-05\n",
      "Current memory usage 202288.0 MB, time elapsed: 1.9 s\n",
      "Delta E = nan, Delta S = 0.0000e+00 (per sweep)\n",
      "max_trunc_err = 2.6159e-03, max_E_trunc = 1.4462e-02\n",
      "MPS bond dimensions: [4, 4]\n",
      "disable mixer after 15 sweeps, final amplitude 3.05e-10\n",
      "Updating environment\n",
      ".....\n",
      "================================================================================\n",
      "sweep 20, age = 248\n",
      "Energy = -1.9128693727109720, S = 0.5971810004699853, norm_err = 3.8e-09\n",
      "Current memory usage 202292.0 MB, time elapsed: 2.9 s\n",
      "Delta E = -1.5885e-07, Delta S = nan (per sweep)\n",
      "max_trunc_err = 1.3090e-03, max_E_trunc = 1.4472e-02\n",
      "MPS bond dimensions: [4, 4]\n",
      "Updating environment\n",
      ".....\n",
      "================================================================================\n",
      "sweep 30, age = 368\n",
      "Energy = -1.9128693727109862, S = 0.5971810004704703, norm_err = 4.1e-11\n",
      "Current memory usage 202312.0 MB, time elapsed: 3.6 s\n",
      "Delta E = -1.4211e-15, Delta S = 4.8495e-14 (per sweep)\n",
      "max_trunc_err = 1.3090e-03, max_E_trunc = 1.4472e-02\n",
      "MPS bond dimensions: [4, 4]\n",
      "================================================================================\n",
      "DMRG finished after 30 sweeps.\n",
      "total size = 368, maximum chi = 4\n",
      "================================================================================\n",
      "E = -1.9128693727110\n",
      "final bond dimensions:  [4, 4]\n",
      "<sigma_x> = -0.00000\n",
      "<sigma_z> = -0.00000\n",
      "correlation length: 4.055304862029468\n",
      "\n",
      "-- done --\n",
      "DMRG GS energy = -1.91\n"
     ]
    },
    {
     "name": "stderr",
     "output_type": "stream",
     "text": [
      "/Users/acpotter/anaconda3/envs/tenpy/lib/python3.9/site-packages/tenpy/tools/params.py:225: UserWarning: unused option ['P_tol'] for config lanczos_params\n",
      "\n",
      "  warnings.warn(msg.format(keys=sorted(unused), name=self.name))\n"
     ]
    },
    {
     "ename": "NameError",
     "evalue": "name 'E_gs_tp' is not defined",
     "output_type": "error",
     "traceback": [
      "\u001b[0;31m---------------------------------------------------------------------------\u001b[0m",
      "\u001b[0;31mNameError\u001b[0m                                 Traceback (most recent call last)",
      "\u001b[0;32m<ipython-input-12-900a1b17190d>\u001b[0m in \u001b[0;36m<module>\u001b[0;34m\u001b[0m\n\u001b[1;32m      6\u001b[0m \u001b[0mprint\u001b[0m\u001b[0;34m(\u001b[0m\u001b[0;34m'-- done --'\u001b[0m\u001b[0;34m)\u001b[0m\u001b[0;34m\u001b[0m\u001b[0;34m\u001b[0m\u001b[0m\n\u001b[1;32m      7\u001b[0m \u001b[0mprint\u001b[0m\u001b[0;34m(\u001b[0m\u001b[0;34m'DMRG GS energy = {:0.2F}'\u001b[0m\u001b[0;34m.\u001b[0m\u001b[0mformat\u001b[0m\u001b[0;34m(\u001b[0m\u001b[0mE_dmrg\u001b[0m\u001b[0;34m)\u001b[0m\u001b[0;34m)\u001b[0m\u001b[0;34m\u001b[0m\u001b[0;34m\u001b[0m\u001b[0m\n\u001b[0;32m----> 8\u001b[0;31m \u001b[0mprint\u001b[0m\u001b[0;34m(\u001b[0m\u001b[0;34m'Tenpy-vqe GS energy = {:0.2F}'\u001b[0m\u001b[0;34m.\u001b[0m\u001b[0mformat\u001b[0m\u001b[0;34m(\u001b[0m\u001b[0mE_gs_tp\u001b[0m\u001b[0;34m)\u001b[0m\u001b[0;34m)\u001b[0m\u001b[0;34m\u001b[0m\u001b[0;34m\u001b[0m\u001b[0m\n\u001b[0m\u001b[1;32m      9\u001b[0m \u001b[0mprint\u001b[0m\u001b[0;34m(\u001b[0m\u001b[0;34m'Relative percent error = {:0.2F}%'\u001b[0m\u001b[0;34m.\u001b[0m\u001b[0mformat\u001b[0m\u001b[0;34m(\u001b[0m\u001b[0;36m100\u001b[0m\u001b[0;34m*\u001b[0m\u001b[0;34m(\u001b[0m\u001b[0;36m1\u001b[0m\u001b[0;34m-\u001b[0m\u001b[0mE_gs_tp\u001b[0m\u001b[0;34m/\u001b[0m\u001b[0mE_dmrg\u001b[0m\u001b[0;34m)\u001b[0m\u001b[0;34m)\u001b[0m\u001b[0;34m)\u001b[0m\u001b[0;34m\u001b[0m\u001b[0;34m\u001b[0m\u001b[0m\n",
      "\u001b[0;31mNameError\u001b[0m: name 'E_gs_tp' is not defined"
     ]
    }
   ],
   "source": [
    "chi = 2**nb # DMRG w/ same bond-dimension as vqe\n",
    "#chi = 32 # DMRG w/ larger bond dimension (\"exact\")\n",
    "E_dmrg,psi_dmrg,H_mpo = DMRG_xxz_infinite(J,Delta,chi_max = chi, verbose=True)\n",
    "\n",
    "print()\n",
    "print('-- done --')\n",
    "print('DMRG GS energy = {:0.2F}'.format(E_dmrg))\n",
    "print('Tenpy-vqe GS energy = {:0.2F}'.format(E_gs_tp))\n",
    "print('Relative percent error = {:0.2F}%'.format(100*(1-E_gs_tp/E_dmrg)))"
   ]
  },
  {
   "cell_type": "markdown",
   "id": "quick-member",
   "metadata": {},
   "source": [
    "### Look at correlation functions"
   ]
  },
  {
   "cell_type": "code",
   "execution_count": 47,
   "id": "unlimited-physiology",
   "metadata": {
    "scrolled": true
   },
   "outputs": [
    {
     "data": {
      "image/png": "[encoded data removed]",
      "text/plain": [
       "<Figure size 1080x288 with 3 Axes>"
      ]
     },
     "metadata": {
      "needs_background": "light"
     },
     "output_type": "display_data"
    }
   ],
   "source": [
    "sites1 = [0]\n",
    "sites2 = [j for j in range(1,20)]\n",
    "\n",
    "# Correlators from DMRG\n",
    "C_dmrg = {}\n",
    "C_dmrg['x'] = 4*psi_dmrg.correlation_function(\"Sx\", \"Sx\",sites1=sites1,sites2=sites2)\n",
    "C_dmrg['y'] = 4*psi_dmrg.correlation_function(\"Sx\", \"Sx\",sites1=sites1,sites2=sites2)\n",
    "C_dmrg['z'] = 4*psi_dmrg.correlation_function(\"Sz\", \"Sz\",sites1=sites1,sites2=sites2)\n",
    "\n",
    "# correlators from qMPS/vqe\n",
    "psi_tp=psi.to_tenpy(opt_params,L=np.inf)\n",
    "C_tpvqe = {}\n",
    "C_tpvqe['x'] = 4*psi_tp.correlation_function(\"Sx\", \"Sx\",sites1=sites1,sites2=sites2)\n",
    "C_tpvqe['y'] = 4*psi_tp.correlation_function(\"Sx\", \"Sx\",sites1=sites1,sites2=sites2)\n",
    "C_tpvqe['z'] = 4*psi_tp.correlation_function(\"Sz\", \"Sz\",sites1=sites1,sites2=sites2)\n",
    "\n",
    "plt.figure(figsize=(15,4))\n",
    "for j,b in enumerate(['x','y','z']):\n",
    "    plt.subplot(1,3,j+1)\n",
    "    plt.plot(C_dmrg[b][0],'--')\n",
    "    plt.plot(C_tpvqe[b][0],'.-')\n",
    "    plt.legend(['dmrg $\\chi$={}'.format(chi),'vqe (tenpy)'])\n",
    "    plt.title('DMRG results: $C_'+b+'(0,r)$ correlators, r=0')\n",
    "    plt.ylim([-1,1])\n",
    "    plt.xlabel('r')"
   ]
  },
  {
   "cell_type": "markdown",
   "id": "impaired-marine",
   "metadata": {},
   "source": [
    "## Optimize bond-prep circuit"
   ]
  },
  {
   "cell_type": "code",
   "execution_count": 146,
   "id": "resident-chain",
   "metadata": {},
   "outputs": [],
   "source": [
    "## Create Bond-Prep circuit\n",
    "if nb==1: n_bond_params=3\n",
    "elif nb==2: n_bond_params=15 \n",
    "    \n",
    "# setup parameters\n",
    "bond_prep_params = [qk.circuit.Parameter('bp_'+str(j)) \n",
    "                    for j in range(n_bond_params)]\n",
    "bond_prep_circ = qk.QuantumCircuit(breg)\n",
    "# use arbitrary one or two-qubit gates for \n",
    "if nb==1: circuits.add_1q_circ(bond_prep_circ, breg[0], bond_prep_params) \n",
    "elif nb==2: circuits.add_su4_circ(bond_prep_circ, breg[0],breg[1], bond_prep_params) \n",
    "\n",
    "# turn into custom parameterized circuit object\n",
    "bond_prep_pcirc = QKParamCircuit(bond_prep_circ,bond_prep_params)\n",
    "\n",
    "# create isoMPS with boundary circuit\n",
    "psi_bdry = IsoMPS(preg,breg,site_pcircs,L=1,boundary_circuit = bond_prep_pcirc)\n",
    "bdry_node = psi_bdry.nodes[0]\n",
    "bdry_param_list = psi_bdry.param_assignments[bdry_node]"
   ]
  },
  {
   "cell_type": "code",
   "execution_count": 160,
   "id": "passive-annex",
   "metadata": {},
   "outputs": [
    {
     "name": "stdout",
     "output_type": "stream",
     "text": [
      "Boundary Optimization done, elapsed time: 1.83s\n",
      "Optimized infidelity = 0.0117\n",
      "Optimized parameters:\n",
      "{Parameter(bp_0): -0.18222845349903474, Parameter(bp_1): 0.19473223086018568, Parameter(bp_2): -0.06143788882511384, Parameter(bp_3): 1.1120582137043713, Parameter(bp_4): 0.28297433340226114, Parameter(bp_5): 0.8575838860891173, Parameter(bp_6): 0.23352187686877837, Parameter(bp_7): 0.7646034974530109, Parameter(bp_8): -0.4789540748649527, Parameter(bp_9): -0.16528693878443215, Parameter(bp_10): 1.2061369145132375, Parameter(bp_11): 0.8550776107889785, Parameter(bp_12): 0.6765300199323719, Parameter(bp_13): 0.7228419606669703, Parameter(bp_14): 0.5346640863561701}\n"
     ]
    }
   ],
   "source": [
    "## Extract transfer matrix and bond-steady-state from optimized mps ##\n",
    "psi_mps = psi.as_mps(opt_params,include_left_bdry=False) # psi_mps as custom mps object\n",
    "tmat = psi_mps.transfer_matrix() # transfer matrix for unit cell\n",
    "vals,vecs = la.eig(tmat) # eigenvalues\n",
    "rho_ss = vecs[:,0].reshape(2**nb,2**nb) # steady state\n",
    "\n",
    "## Optimize overlap with steady state\n",
    "x0 = np.random.rand(len(bond_prep_params))\n",
    "\n",
    "def compute_infidelity(x,*args):\n",
    "    psi = args[0]\n",
    "    rho_ss = args[1] # target steady state \n",
    "    bdry_node = psi.nodes[0] # 0th node is bdry vector node\n",
    "    bond_prep_params = psi.param_assignments[bdry_node]\n",
    "    \n",
    "    bond_params = dict(zip(bond_prep_params,x))\n",
    "    u = bdry_node.unitary(bond_params)\n",
    "    bond_state = u[0,:] # (pure) state of bonds\n",
    "    overlap = bond_state.conj().T @ rho_ss @ bond_state\n",
    "    return 1-np.real(overlap)\n",
    "\n",
    "t0 = time.time()\n",
    "bdry_opt_result = minimize(compute_infidelity, # function to minimize\n",
    "                      x0, # starting point for parameters \n",
    "                      args=(psi_bdry,rho_ss), # must take form (isoMPS,tenpy MPO, Length)\n",
    "                      method='BFGS'\n",
    "                     )\n",
    "tf = time.time()\n",
    "bdry_opt_vals = bdry_opt_result.x\n",
    "bdry_opt_params = dict(zip(bdry_param_list,bdry_opt_vals))\n",
    "infidelity = bdry_opt_result.fun\n",
    "print('Boundary Optimization done, elapsed time: {:0.2f}s'.format(tf-t0))\n",
    "print('Optimized infidelity = {:0.4f}'.format(infidelity))\n",
    "print('Optimized parameters:')\n",
    "print(bdry_opt_params)"
   ]
  },
  {
   "cell_type": "code",
   "execution_count": 92,
   "id": "invalid-spice",
   "metadata": {},
   "outputs": [
    {
     "data": {
      "text/plain": [
       "[QuantumRegister(2, 'b')]"
      ]
     },
     "execution_count": 92,
     "metadata": {},
     "output_type": "execute_result"
    }
   ],
   "source": [
    "psi.nodes[0].qregs"
   ]
  },
  {
   "cell_type": "markdown",
   "id": "conservative-rates",
   "metadata": {},
   "source": [
    "# Simulate in Qiskit\n",
    "## Simulate implementation in qiskit (without noise)"
   ]
  },
  {
   "cell_type": "code",
   "execution_count": null,
   "id": "treated-copper",
   "metadata": {},
   "outputs": [],
   "source": [
    "## POSTPROCESSING FUNCTIONS ##\n",
    "def counts_to_correlators(counts,shots):\n",
    "    \"\"\"\n",
    "    converts qiskit-style counts result \n",
    "    to NxN numpy array of 2-point correlatrs\n",
    "    w/ N = # of sites in isoMPS = L*l_uc\n",
    "    \"\"\"\n",
    "    # number of sites (compute from input dictionary shape)\n",
    "    N = len(list(counts.keys())[0].split(\" \")) \n",
    "    C = np.zeros((N,N))\n",
    "    # loop over each measurement outcome\n",
    "    for k in counts.keys(): \n",
    "        split_list = k.split(\" \")[:] # split bits from each register\n",
    "        # note that qiskit typically orders in reverse order \n",
    "        # NOTE: WILL NEED TO REVISIT CREG ORDERING IF WE HAVE OTHER CREGs\n",
    "\n",
    "        # compute up all pairs of correlators\n",
    "        for x in range(N):\n",
    "            for y in range(x+1,N): # use symmetry C[x,y]=C[y,x] to only compute 1/2 of entries\n",
    "               C[x,y] += counts[k] * (2.0*(split_list[x]==split_list[y])-1.0)\n",
    "    C /= shots # normalize\n",
    "    C += C.T + np.eye(N) # we've constructed only the upper-right triangular part\n",
    "    return C\n",
    "\n",
    "def counts_to_mean(counts,shots):\n",
    "    \"\"\"\n",
    "    converts qiskit-type counts result to \n",
    "    one point correlator (mean spin component)\n",
    "    on each site\n",
    "    \"\"\"\n",
    "    N = len(list(counts.keys())[0].split(\" \"))\n",
    "    m = np.zeros(N)\n",
    "    for k in counts.keys(): \n",
    "        split_array = np.array(k.split(\" \")[:]) # split bits from each register\n",
    "        m += 2.0*(split_array=='1')-1.0\n",
    "    m /= shots\n",
    "    return m"
   ]
  },
  {
   "cell_type": "markdown",
   "id": "crucial-brother",
   "metadata": {},
   "source": [
    "### Setup simulations"
   ]
  },
  {
   "cell_type": "code",
   "execution_count": null,
   "id": "powerful-farmer",
   "metadata": {},
   "outputs": [],
   "source": [
    "## QISKIT SIMULATION ##\n",
    "L=20 # length of chain to simulate\n",
    "shots = 400 # number of shots for each measurement\n",
    "\n",
    "# list of Pauli strings to measure\n",
    "# example format for L = 3, l_uc = 4: [['xxxy'],['zzzz'],['yzxz']]\n",
    "measurement_strings = [['x'*l_uc]*L,\n",
    "                       ['y'*l_uc]*L,\n",
    "                       ['z'*l_uc]*L] \n",
    "\n",
    "# Create meta-data\n",
    "model_data = {'type':'xxz',\n",
    "              'J':J,\n",
    "              'Delta':Delta,\n",
    "              'hz':hz,\n",
    "              'L':L,\n",
    "              'shots':shots,\n",
    "             }\n",
    "vqe_data = {'architecture':'xxz_star',\n",
    "                'nb':nb,\n",
    "                'params':opt_params}"
   ]
  },
  {
   "cell_type": "markdown",
   "id": "reverse-sailing",
   "metadata": {},
   "source": [
    "### Run Sims (Noiseless)"
   ]
  },
  {
   "cell_type": "code",
   "execution_count": null,
   "id": "prompt-employee",
   "metadata": {},
   "outputs": [],
   "source": [
    "# loop through measurement strings, and create list of jobs to run\n",
    "jobs = []\n",
    "for m in measurement_strings:\n",
    "    psi_curr = IsoMPS(preg,breg,\n",
    "                      site_pcircs,\n",
    "                      boundary_circuit=bond_prep_pcirc,\n",
    "                     L=L,\n",
    "                     bases=m)\n",
    "    circ_curr = psi_curr.construct_circuit(opt_params)\n",
    "    jobs += [{'name':'xxz_xxzstar_hz{}'.format(hz)+'_basis_'+m[0],\n",
    "              'isoMPS':psi_curr,\n",
    "              'vqe_data':vqe_data,\n",
    "              'qiskit_circuit':circ_curr,\n",
    "              'qasm':circ_curr.qasm(),\n",
    "              'model':model_data,\n",
    "              'basis':m,\n",
    "              'shots':shots,\n",
    "              'job_id':None, # job-id when submitted to honeywell\n",
    "              'qiskit_results':None, # qiskit simultor results\n",
    "              'results':None # Honeywell results\n",
    "              }]    \n",
    "    \n",
    "# setup qiskit simulator\n",
    "simulator = qk.Aer.get_backend('qasm_simulator')\n",
    "for job in jobs:\n",
    "    shots = job['shots']\n",
    "    job['qiskit_results'] = qk.execute(job['qiskit_circuit'], \n",
    "                               simulator, \n",
    "                               shots=shots#,noise_model=noise_model\n",
    "                                      ).result()\n",
    "    \n",
    "# compute two-point correlators from counts\n",
    "Cs = {} # dictionary of 2-point correlators\n",
    "ms = {} # dictionary of 1-spin correlators ('magnetizations')\n",
    "for job in jobs:\n",
    "    print(job['basis'][0])\n",
    "    counts = job['qiskit_results'].get_counts()\n",
    "    key = job['basis'][0][0] #'x','y',or'z' (assumes measurements are same type on each bond)\n",
    "    Cs[key] = counts_to_correlators(counts,job['shots'])\n",
    "    ms[key] = counts_to_mean(counts,job['shots'])\n",
    "N = len(list(counts.keys())[0].split(\" \"))\n",
    "\n",
    "# estimate <H>\n",
    "burn_in = l_uc*L//4 # number of sites to \"burn in\" MPS channel before measuring\n",
    "sites = np.arange(burn_in,L*l_uc-1) # remaining sites\n",
    "E = 0\n",
    "Cxx_qk = np.mean([Cs['x'][j,j+1] for j in sites])\n",
    "Cyy_qk = np.mean([Cs['y'][j,j+1] for j in sites])\n",
    "Czz_qk = np.mean([Cs['z'][j,j+1] for j in sites])\n",
    "mz_qk = np.mean(ms['z'])\n",
    "\n",
    "#for j in sites:    \n",
    "#    E += job['model']['J']*(Cs['x'][j,j+1]+Cs['y'][j,j+1])\n",
    "#    E += job['model']['J'] * job['model']['Delta']*Cs['z'][j,j+1]\n",
    "#E += job['model']['hz'] * np.sum(ms['z'])\n",
    "#E = E/sites.size # convert to energy density\n",
    "E_gs_qk = job['model']['J']*(Cxx_qk+Cyy_qk+job['model']['Delta']*Czz_qk)+job['model']['hz']*mz_qk\n",
    "print('Qiskit Energy density - estimate = {}'.format(E_gs_qk))\n",
    "print('Tenpy Optimized energy = {}'.format(E_gs_tp))"
   ]
  },
  {
   "cell_type": "markdown",
   "id": "french-scene",
   "metadata": {},
   "source": [
    "## Compare Qiskit and Tenpy results\n",
    "Compute: $$\\langle X_iX_{i+1} \\rangle ,~\\langle Y_iY_{i+1} \\rangle ,~\\langle Z_iZ_{i+1} \\rangle $$ and use them to compute $$\\langle H_{xxz}\\rangle$$\n",
    "\n",
    "Since we have a two-site unit-cell, it's important to average the energy density over the unit cell"
   ]
  },
  {
   "cell_type": "code",
   "execution_count": null,
   "id": "psychological-chain",
   "metadata": {},
   "outputs": [],
   "source": [
    "## compare correlators to tenpy version\n",
    "psi_tp=psi.to_tenpy(opt_params,L=np.inf)\n",
    "Cxx_tp = np.mean([4*psi_tp.correlation_function(\"Sx\", \"Sx\", \n",
    "                                             sites1=[j], \n",
    "                                             sites2=[j+1],\n",
    "                                             opstr=None, str_on_first=False, hermitian=False, autoJW=False)\n",
    "                  for j in range(l_uc)])\n",
    "Cyy_tp = np.mean([4*psi_tp.correlation_function(\"Sy\", \"Sy\", \n",
    "                                             sites1=[j], \n",
    "                                             sites2=[j+1],\n",
    "                                             opstr=None, str_on_first=False, hermitian=False, autoJW=False)\n",
    "                  for j in range(l_uc)])\n",
    "Czz_tp = np.mean([4*psi_tp.correlation_function(\"Sz\", \"Sz\", \n",
    "                                             sites1=[j], \n",
    "                                             sites2=[j+1],\n",
    "                                             opstr=None, str_on_first=False, hermitian=False, autoJW=False)\n",
    "                  for j in range(l_uc)])\n",
    "\n",
    "print('Correlators')\n",
    "print('Tenpy: (<xx>,<yy>,<zz>)={}'.format((Cxx_tp,Cyy_tp,Czz_tp)))\n",
    "print('Qiskit: (<xx>,<yy>,<zz>)={}'.format((Cxx_qk,Cyy_qk,Czz_qk)))\n",
    "\n",
    "print('Energies')\n",
    "print('Qiskit Energy density - estimate = {}'.format(E_gs_qk))\n",
    "print('Tenpy Optimized energy (mpo calculation) = {}'.format(E_gs_tp))\n",
    "\n",
    "E_gs_tp_corr = job['model']['J']*(Cxx_tp+Cyy_tp+job['model']['Delta']*Czz_tp)#+job['model']['hz']*mz_tp\n",
    "print('Tenpy energy (correlator calculation): {}'.format(E_gs_tp_corr))"
   ]
  },
  {
   "cell_type": "markdown",
   "id": "binary-bottle",
   "metadata": {},
   "source": [
    "## Correlation functions\n",
    "Plot $$C_\\alpha(r,r') = \\langle \\sigma^\\alpha_{r}\\sigma^\\alpha_{r'}\\rangle$$ for $\\alpha \\in \\{x,y,z\\}$ from qiskit results"
   ]
  },
  {
   "cell_type": "code",
   "execution_count": null,
   "id": "ecological-cardiff",
   "metadata": {},
   "outputs": [],
   "source": [
    "## Plot Correlations\n",
    "basis_names = ['x','y','z']\n",
    "plt.figure(figsize=(15,4))\n",
    "\n",
    "\n",
    "r = l_uc*L//4\n",
    "x_pts_dmrg = [j for j in range(r+1,r+1+len(C_dmrg[b][0]))]\n",
    "for j,b in enumerate(['x','y','z']):\n",
    "    plt.subplot(1,3,j+1)\n",
    "    plt.plot(Cs[b][r,:],'.-')\n",
    "    plt.plot(x_pts_dmrg,C_dmrg[b][0],'--')\n",
    "    #plt.plot(Cs_noise[b][r,:])\n",
    "    plt.legend(['no-noise','DMRG'])\n",
    "    plt.title('$C_'+b+'(r,r\\')$ correlators, r={}'.format(r))\n",
    "    plt.xlabel('r\\'')\n",
    "    \n",
    "    \n",
    "#plt.legend(['x','y','z'])\n",
    "plt.show()\n"
   ]
  },
  {
   "cell_type": "markdown",
   "id": "mighty-administration",
   "metadata": {},
   "source": [
    "## Noisy Qiskit Simulations\n",
    "Next, simulate with some realistic noise to see how it impacts energy estimates\n",
    "\n",
    "Note: it's crucial to limit L to minimal possible (otherwise result degrades by about 15%)"
   ]
  },
  {
   "cell_type": "markdown",
   "id": "impressive-treat",
   "metadata": {},
   "source": [
    "### Noise model"
   ]
  },
  {
   "cell_type": "code",
   "execution_count": null,
   "id": "violent-privilege",
   "metadata": {},
   "outputs": [],
   "source": [
    "## Define Noise Model ##\n",
    "# errors (simulation)\n",
    "perr_1q = 0.0005 # 1-qubit gate error\n",
    "perr_2q = 0.005 # 2-qubit gate error\n",
    "# depolarizaing errors\n",
    "depol_1q = noise.depolarizing_error(perr_1q, 1)\n",
    "depol_2q = noise.depolarizing_error(perr_2q, 2)\n",
    "noise_model = noise.NoiseModel()\n",
    "noise_model.add_all_qubit_quantum_error(depol_1q, ['u1', 'u2', 'u3','rx','ry','rz'])\n",
    "noise_model.add_all_qubit_quantum_error(depol_2q, ['cx','cz','rxx'])"
   ]
  },
  {
   "cell_type": "markdown",
   "id": "cooperative-windows",
   "metadata": {},
   "source": [
    "### Run Simulation"
   ]
  },
  {
   "cell_type": "code",
   "execution_count": null,
   "id": "closing-conservative",
   "metadata": {},
   "outputs": [],
   "source": [
    "## QISKIT SIMULATION ##\n",
    "L=20 # length of chain to simulate\n",
    "burn_in = 2 # number of sites to \"burn in\" MPS channel before measuring\n",
    "shots = 400 # number of shots for each measurement\n",
    "\n",
    "# list of Pauli strings to measure\n",
    "# example format for L = 3, l_uc = 4: [['xxxy'],['zzzz'],['yzxz']]\n",
    "measurement_strings = [['x'*l_uc]*L,\n",
    "                       ['y'*l_uc]*L,\n",
    "                       ['z'*l_uc]*L] \n",
    "\n",
    "# Create meta-data\n",
    "model_data = {'type':'xxz',\n",
    "              'J':J,\n",
    "              'Delta':Delta,\n",
    "              'hz':hz,\n",
    "              'L':L,\n",
    "              'shots':shots,\n",
    "             }\n",
    "vqe_data = {'architecture':'su4_star',\n",
    "                'nb':nb,\n",
    "                'params':opt_params}\n",
    "\n",
    "# loop through measurement strings, and create list of jobs to run\n",
    "jobs_noise = []\n",
    "for m in measurement_strings:\n",
    "    psi_curr = IsoMPS(preg,breg,\n",
    "                      site_pcircs,\n",
    "                      boundary_circuit=bond_prep_pcirc,\n",
    "                     L=L,\n",
    "                     bases=m)\n",
    "    circ_curr = psi_curr.construct_circuit(opt_params)\n",
    "    jobs_noise += [{'name':'xxz_xxzstar_hz{}'.format(hz)+'_basis_'+m[0],\n",
    "              'isoMPS':psi_curr,\n",
    "              'vqe_data':vqe_data,\n",
    "              'qiskit_circuit':circ_curr,\n",
    "              'qasm':circ_curr.qasm(),\n",
    "              'model':model_data,\n",
    "              'basis':m,\n",
    "              'shots':shots,\n",
    "              'job_id':None, # job-id when submitted to honeywell\n",
    "              'qiskit_results':None, # qiskit simultor results\n",
    "              'results':None # Honeywell results\n",
    "              }]    \n",
    "    \n",
    "# setup qiskit simulator\n",
    "simulator = qk.Aer.get_backend('qasm_simulator')\n",
    "for job in jobs_noise:\n",
    "    shots = job['shots']\n",
    "    job['qiskit_results'] = qk.execute(job['qiskit_circuit'], \n",
    "                               simulator, \n",
    "                               shots=shots,\n",
    "                               noise_model=noise_model).result()\n",
    "    \n",
    "# compute two-point correlators from counts\n",
    "Cs_noise = {} # dictionary of 2-point correlators\n",
    "ms_noise = {} # dictionary of 1-spin correlators ('magnetizations')\n",
    "for job in jobs_noise:\n",
    "    print(job['basis'][0])\n",
    "    counts = job['qiskit_results'].get_counts()\n",
    "    key = job['basis'][0][0] #'x','y',or'z' (assumes measurements are same type on each bond)\n",
    "    Cs_noise[key] = counts_to_correlators(counts,job['shots'])\n",
    "    ms_noise[key] = counts_to_mean(counts,job['shots'])\n",
    "N = len(list(counts.keys())[0].split(\" \"))\n",
    "\n",
    "# estimate <H>\n",
    "sites = np.arange(burn_in,L*l_uc-1) # remaining sites\n",
    "E = 0\n",
    "Cxx_qk_noise = np.mean([Cs_noise['x'][j,j+1] for j in sites])\n",
    "Cyy_qk_noise = np.mean([Cs_noise['y'][j,j+1] for j in sites])\n",
    "Czz_qk_noise = np.mean([Cs_noise['z'][j,j+1] for j in sites])\n",
    "mz_qk_noise = np.mean(ms_noise['z'])\n",
    "\n",
    "#for j in sites:    \n",
    "#    E += job['model']['J']*(Cs['x'][j,j+1]+Cs['y'][j,j+1])\n",
    "#    E += job['model']['J'] * job['model']['Delta']*Cs['z'][j,j+1]\n",
    "#E += job['model']['hz'] * np.sum(ms['z'])\n",
    "#E = E/sites.size # convert to energy density\n",
    "E_gs_qk_noise = job['model']['J']*(Cxx_qk_noise+Cyy_qk_noise+job['model']['Delta']*Czz_qk_noise)+job['model']['hz']*mz_qk\n",
    "print('Qiskit Energy density (noiseless,noisy) = {}'.format((E_gs_qk,E_gs_qk_noise)))\n",
    "print('Rel. Error from noise: {:+.2f}%'.format((1-E_gs_qk_noise/E_gs_qk)*100))\n",
    "print('Tenpy Optimized energy = {:+.2f}'.format(E_gs_tp))\n",
    "\n",
    "## Plot Correlations\n",
    "basis_names = ['x','y','z']\n",
    "plt.figure(figsize=(15,4))\n",
    "r = burn_in+1#l_uc*L//2\n",
    "for j,b in enumerate(['x','y','z']):\n",
    "    plt.subplot(1,3,j+1)\n",
    "    plt.plot(Cs[b][r,:],'--')\n",
    "    plt.plot(Cs_noise[b][r,:])\n",
    "    plt.legend(['perfect','w/ noise'])\n",
    "    plt.title('$C_'+b+'(r,r\\')$ correlators, r={}'.format(r))\n",
    "    plt.xlabel('r\\'')\n",
    "    \n",
    "#plt.legend(['x','y','z'])\n",
    "plt.show()\n",
    "\n",
    "## Plot Correlations\n",
    "basis_names = ['x','y','z']\n",
    "plt.figure(figsize=(15,4))\n",
    "r = l_uc*L//2\n",
    "for j,b in enumerate(['x','y','z']):\n",
    "    plt.subplot(1,3,j+1)\n",
    "    plt.plot(Cs[b][r,:],'--')\n",
    "    plt.plot(Cs_noise[b][r,:])\n",
    "    plt.legend(['perfect','w/ noise'])\n",
    "    plt.title('$C_'+b+'(r,r\\')$ correlators, r={}'.format(r))\n",
    "    plt.xlabel('r\\'')\n",
    "    \n",
    "#plt.legend(['x','y','z'])\n",
    "plt.show()"
   ]
  },
  {
   "cell_type": "markdown",
   "id": "distinct-classic",
   "metadata": {},
   "source": [
    "From the above correlator plots, you can see that the correlations for spins early in the chain (top row) are much more accurate than those in the middle of the chain (though errors do seem to saturate deep in the chain)"
   ]
  },
  {
   "cell_type": "markdown",
   "id": "nasty-thompson",
   "metadata": {},
   "source": [
    "# Thermal state"
   ]
  },
  {
   "cell_type": "markdown",
   "id": "reported-petersburg",
   "metadata": {},
   "source": [
    "# Dynamics"
   ]
  },
  {
   "cell_type": "code",
   "execution_count": null,
   "id": "progressive-ability",
   "metadata": {},
   "outputs": [],
   "source": []
  }
 ],
 "metadata": {
  "kernelspec": {
   "display_name": "Python 3",
   "language": "python",
   "name": "python3"
  },
  "language_info": {
   "codemirror_mode": {
    "name": "ipython",
    "version": 3
   },
   "file_extension": ".py",
   "mimetype": "text/x-python",
   "name": "python",
   "nbconvert_exporter": "python",
   "pygments_lexer": "ipython3",
   "version": "3.9.1"
  },
  "toc": {
   "base_numbering": 1,
   "nav_menu": {},
   "number_sections": true,
   "sideBar": true,
   "skip_h1_title": false,
   "title_cell": "Table of Contents",
   "title_sidebar": "Contents",
   "toc_cell": true,
   "toc_position": {},
   "toc_section_display": true,
   "toc_window_display": true
  }
 },
 "nbformat": 4,
 "nbformat_minor": 5
}
