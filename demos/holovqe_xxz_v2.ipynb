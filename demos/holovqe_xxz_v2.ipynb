{
 "cells": [
  {
   "cell_type": "code",
   "execution_count": 1,
   "id": "formal-voluntary",
   "metadata": {},
   "outputs": [],
   "source": [
    "import sys\n",
    "sys.path.append(\"..\") # import one subdirectory up in files\n",
    "#sys.path.append(\"..\") # import one subdirectory up in files\n",
    "#os.chdir(\"../holopy/\")\n",
    "\n",
    "# standard imports\n",
    "import numpy as np\n",
    "from scipy.optimize import minimize\n",
    "import matplotlib.pyplot as plt\n",
    "import time as time\n",
    "#import json\n",
    "import pickle\n",
    "\n",
    "# 3rd party packages\n",
    "import qiskit as qk\n",
    "import qiskit.providers.aer.noise as noise\n",
    "import tenpy as tp\n",
    "\n",
    "## custom things\n",
    "from networks.networks import IsoMPS\n",
    "from networks.isonetwork import QKParamCircuit\n",
    "import circuits.basic_circuits as circuits"
   ]
  },
  {
   "cell_type": "code",
   "execution_count": 2,
   "id": "clear-opinion",
   "metadata": {},
   "outputs": [],
   "source": [
    "## TENPY FUNCTION DEFINITIONS ##\n",
    "def xxz_mpo(J=1.0, Delta=1.0, hz=0.0, N=1, bc='infinite'):\n",
    "    site = tp.networks.site.SpinHalfSite(None)\n",
    "    Id, Sp, Sm, Sz = site.Id, site.Sp, site.Sm, 2*site.Sz\n",
    "    W_bulk = [[Id, Sp, Sm, Sz, -hz * Sz],\n",
    "              [None, None, None, None, 0.5 * J * Sm],\n",
    "              [None, None, None, None, 0.5 * J * Sp],\n",
    "              [None, None, None, None, J * Delta * Sz],\n",
    "              [None, None, None, None, Id]]\n",
    "    #W_first = [W_bulk[0]]  # first row\n",
    "    #W_last = [[row[-1]] for row in W_bulk]  # last column\n",
    "    #Ws = [W_first] + [W_bulk]*(N - 2) + [W_last]\n",
    "    #H = tp.networks.mpo.MPO.from_grids([site]*N, Ws, bc, IdL=0, IdR=-1) # (probably leave the IdL,IdR)\n",
    "    H = tp.networks.mpo.MPO.from_grids([site], [W_bulk], bc, IdL=0, IdR=-1) # (probably leave the IdL,IdR)\n",
    "    return H\n",
    "\n",
    "# tenpy energy calculator\n",
    "def energy_tp(param_vals,*args):\n",
    "    \"\"\"\n",
    "    function to calculate energy using MPO/MPS contraction in tenpy\n",
    "    inputs:\n",
    "        - param_vals = dict {parameter:value}\n",
    "        - *args, \n",
    "            args[0] should be psi: state as IsoMPS\n",
    "            args[1] should be H_mpo: Hamiltonian as MPO\n",
    "        (input made this way to be compatible w/ scipy.optimize)\n",
    "    outputs:\n",
    "        - float, <psi|H|psi> computed w/ tenpy\n",
    "    \"\"\"\n",
    "    # parse inputs\n",
    "    psi=args[0] # state as isoMPS    \n",
    "    H_mpo = args[1] # Hamiltonian as tenpy MPO\n",
    "    param_dict = dict(zip(psi.param_list,param_vals))\n",
    "    \n",
    "    # convert state from holoPy isoMPS to tenpy MPS\n",
    "    psi_tp = psi.to_tenpy(param_dict,L=np.inf)\n",
    "    \n",
    "    # compute energy\n",
    "    E = (H_mpo.expectation_value(psi_tp)).real\n",
    "    return E"
   ]
  },
  {
   "cell_type": "code",
   "execution_count": 3,
   "id": "narrow-coordinator",
   "metadata": {},
   "outputs": [],
   "source": [
    "## HYPERPARAMETERS ##\n",
    "# model (xxz)\n",
    "J = 1.0 # spin-exchange\n",
    "Delta = 1.5 # Ising-anisotropy\n",
    "hz = 0.0 # z-field\n",
    "\n",
    "# ansatz parameters\n",
    "nb = 1 # number of bond-qubits \n",
    "L = 1 # number of unit cells\n",
    "l_uc = 2 # number of sites in unit cell\n",
    "n_site_param = 2*nb # number of circuit parameters per site\n",
    "# number of bond circuit parameters\n",
    "if nb==1: n_bond_params=3\n",
    "elif nb==2: n_bond_params=15 "
   ]
  },
  {
   "cell_type": "code",
   "execution_count": 4,
   "id": "compliant-theme",
   "metadata": {},
   "outputs": [
    {
     "name": "stdout",
     "output_type": "stream",
     "text": [
      "example site circuit:\n"
     ]
    },
    {
     "data": {
      "image/png": "[encoded data removed]",
      "text/plain": [
       "<Figure size 929.252x144.48 with 1 Axes>"
      ]
     },
     "execution_count": 4,
     "metadata": {},
     "output_type": "execute_result"
    }
   ],
   "source": [
    "## CREATE ISOMPS FROM PARAMETERIZED CIRCUIT ANSATZ ##\n",
    "# initialize registers\n",
    "preg = qk.QuantumRegister(1,'p') # physical qubits\n",
    "breg = qk.QuantumRegister(nb,'b') # bond qubits\n",
    "#creg = qk.ClassicalRegister(L*l_uc+nb,'m') # classical register to hold measurement outcomes\n",
    "\n",
    "## Bond-state prep-circuit ##\n",
    "bond_prep_params = [qk.circuit.Parameter('bp_'+str(j)) \n",
    "                    for j in range(n_bond_params)]\n",
    "bond_prep_circ = qk.QuantumCircuit(breg)\n",
    "if nb==1: circuits.add_1q_circ(bond_prep_circ, breg[0], bond_prep_params) \n",
    "elif nb==2: circuits.add_su4_circ(bond_prep_circ, breg[0],breg[1], bond_prep_params) \n",
    "\n",
    "# turn into custom parameterized circuit object\n",
    "bond_prep_pcirc = QKParamCircuit(bond_prep_circ,bond_prep_params)\n",
    "\n",
    "\n",
    "## Site Circuits ##\n",
    "# create list of circuits, one for each site in the unit cell (uc)\n",
    "site_circs = [qk.QuantumCircuit(preg,breg) for j in range(l_uc)]\n",
    "# create a list of parameter-lists, (one list of parameters per site in uc)\n",
    "site_circ_params = [[qk.circuit.Parameter('s'+str(j)+'_'+str(k))\n",
    "                     for k in range(n_site_param)] \n",
    "                    for j in range(l_uc)]\n",
    "site_pcircs=[] # list of QKParamCirc's for each site in uc\n",
    "for j in range(l_uc):\n",
    "    if j%2==0: site_circs[j].x(preg[0]) # alternating 10101010... for physical qubit\n",
    "    \n",
    "    # star circuit of xxz-type 2-qubit gates\n",
    "    for k in range(nb): \n",
    "        circuits.add_xxz_circ(site_circs[j], \n",
    "                              preg[0], breg[k], \n",
    "                              site_circ_params[j][2*k:2*(k+1)])\n",
    "    # combine into parameterized circuit\n",
    "    site_pcircs += [QKParamCircuit(site_circs[j], site_circ_params[j])]\n",
    "\n",
    "# create holopy isoMPS\n",
    "psi = IsoMPS(preg,breg,site_pcircs,boundary_circuit=bond_prep_pcirc)\n",
    "\n",
    "print('example site circuit:')\n",
    "site_circs[0].draw('mpl')"
   ]
  },
  {
   "cell_type": "code",
   "execution_count": 5,
   "id": "initial-building",
   "metadata": {},
   "outputs": [
    {
     "name": "stdout",
     "output_type": "stream",
     "text": [
      "Optimization done, elapsed time: 18.529865980148315\n",
      "Optimized energy = -1.9999999999922387\n"
     ]
    }
   ],
   "source": [
    "## OPTIMIZE CIRCUIT PARAMETERS CLASSICALLY IN TENPY ##\n",
    "# create tenpy mpo\n",
    "H_mpo = xxz_mpo(J=J,hz=hz,Delta=Delta,N=1)\n",
    "\n",
    "\n",
    "x0 = 0.03*np.random.randn(psi.n_params) # starting point for parameters\n",
    "t0 = time.time()\n",
    "opt_result = minimize(energy_tp, # function to minimize\n",
    "                      x0, # starting point for parameters \n",
    "                      args=(psi,H_mpo), # must take form (isoMPS,tenpy MPO)\n",
    "                      method='BFGS'\n",
    "                     )\n",
    "tf = time.time()\n",
    "# set parameters to previously optimized values\n",
    "opt_vals = opt_result.x\n",
    "opt_params = dict(zip(psi.param_list,opt_vals))\n",
    "\n",
    "print('Optimization done, elapsed time: {}'.format(tf-t0))\n",
    "print('Optimized energy = {}'.format(opt_result.fun))"
   ]
  },
  {
   "cell_type": "code",
   "execution_count": null,
   "id": "nearby-canal",
   "metadata": {},
   "outputs": [],
   "source": []
  }
 ],
 "metadata": {
  "kernelspec": {
   "display_name": "Python 3",
   "language": "python",
   "name": "python3"
  },
  "language_info": {
   "codemirror_mode": {
    "name": "ipython",
    "version": 3
   },
   "file_extension": ".py",
   "mimetype": "text/x-python",
   "name": "python",
   "nbconvert_exporter": "python",
   "pygments_lexer": "ipython3",
   "version": "3.9.1"
  }
 },
 "nbformat": 4,
 "nbformat_minor": 5
}
