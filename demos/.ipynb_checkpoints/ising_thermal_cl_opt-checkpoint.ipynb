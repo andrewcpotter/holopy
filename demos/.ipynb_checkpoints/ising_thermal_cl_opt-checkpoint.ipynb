{
 "cells": [
  {
   "cell_type": "code",
   "execution_count": null,
   "id": "useful-packet",
   "metadata": {},
   "outputs": [],
   "source": [
    "import sys\n",
    "sys.path.append(\"..\") # import one subdirectory up in files\n",
    "\n",
    "# standard imports\n",
    "import numpy as np\n",
    "from scipy.optimize import minimize\n",
    "import matplotlib.pyplot as plt\n",
    "import time as time\n",
    "import pickle\n",
    "import random\n",
    "\n",
    "# 3rd party packages\n",
    "import qiskit as qk\n",
    "import qiskit.providers.aer.noise as noise\n",
    "#import networkx as nx\n",
    "import tenpy as tp\n",
    "\n",
    "# custom\n",
    "from networks.networks import IsoMPS\n",
    "from networks.isonetwork import QKParamCircuit\n",
    "import circuits.basic_circuits as circuits"
   ]
  },
  {
   "cell_type": "code",
   "execution_count": 1,
   "id": "mighty-walnut",
   "metadata": {},
   "outputs": [],
   "source": [
    "## Define model \n",
    "def ising_mpo(Jzz, hx):\n",
    "    \"\"\"\n",
    "    Unit-cell matrix product operator for Ising model Hamiltonian. \n",
    "    Based on TenPy (github.com/tenpy/tenpy/blob/master/toycodes/b_model.py)\n",
    "    \"\"\"\n",
    "    # Pauli matrices and spin operators\n",
    "    sigmax = np.array([[0., 1], [1, 0.]])\n",
    "    sigmay = np.array([[0., -1j], [1j, 0.]])\n",
    "    sigmaz = np.array([[1, 0.], [0., -1]])\n",
    "    #Sx, Sy, Sz = 0.5*sigmax, 0.5*sigmay, 0.5*sigmaz\n",
    "    id = np.eye(2)\n",
    "    \n",
    "    # structure of Ising model MPO unit cell\n",
    "    H = np.zeros((3, 3, d, d), dtype=np.float)\n",
    "    H[0, 0] = H[2, 2] = id\n",
    "    H[0, 1] = sigmax\n",
    "    H[0, 2] = -hx * sigmaz\n",
    "    H[1, 2] = -Jzz * sigmax\n",
    "    return H"
   ]
  },
  {
   "cell_type": "code",
   "execution_count": null,
   "id": "enormous-bristol",
   "metadata": {},
   "outputs": [],
   "source": []
  }
 ],
 "metadata": {
  "kernelspec": {
   "display_name": "Python 3",
   "language": "python",
   "name": "python3"
  },
  "language_info": {
   "codemirror_mode": {
    "name": "ipython",
    "version": 3
   },
   "file_extension": ".py",
   "mimetype": "text/x-python",
   "name": "python",
   "nbconvert_exporter": "python",
   "pygments_lexer": "ipython3",
   "version": "3.9.1"
  }
 },
 "nbformat": 4,
 "nbformat_minor": 5
}
