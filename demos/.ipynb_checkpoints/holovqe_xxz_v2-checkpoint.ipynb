{
 "cells": [
  {
   "cell_type": "code",
   "execution_count": 1,
   "id": "patient-security",
   "metadata": {},
   "outputs": [],
   "source": [
    "import sys\n",
    "sys.path.append(\"..\") # import one subdirectory up in files\n",
    "#sys.path.append(\"..\") # import one subdirectory up in files\n",
    "#os.chdir(\"../holopy/\")\n",
    "\n",
    "# standard imports\n",
    "import numpy as np\n",
    "from scipy.optimize import minimize\n",
    "import matplotlib.pyplot as plt\n",
    "import matplotlib\n",
    "import time as time\n",
    "#import json\n",
    "import pickle\n",
    "\n",
    "# 3rd party packages\n",
    "import qiskit as qk\n",
    "import qiskit.providers.aer.noise as noise\n",
    "import tenpy as tp\n",
    "\n",
    "## custom things\n",
    "from networks.networks import IsoMPS\n",
    "from networks.isonetwork import QKParamCircuit\n",
    "import circuits.basic_circuits as circuits"
   ]
  },
  {
   "cell_type": "code",
   "execution_count": 51,
   "id": "automatic-reader",
   "metadata": {},
   "outputs": [],
   "source": [
    "## TENPY FUNCTION DEFINITIONS ##\n",
    "\n",
    "from tenpy.models.model import CouplingMPOModel, NearestNeighborModel\n",
    "from tenpy.tools.params import asConfig\n",
    "from tenpy.networks.site import SpinHalfSite\n",
    "__all__ = ['XXZModel', 'XXChain']\n",
    "class XXZModel(CouplingMPOModel):\n",
    "    def init_sites(self, model_params):\n",
    "        conserve = model_params.get('conserve', 'parity')\n",
    "        assert conserve != 'Sz'\n",
    "        if conserve == 'best':\n",
    "            conserve = 'parity'\n",
    "            if self.verbose >= 1.:\n",
    "                print(self.name + \": set conserve to\", conserve)\n",
    "        site = SpinHalfSite(conserve=conserve)\n",
    "        return site\n",
    "    def init_terms(self, model_params):\n",
    "        J = np.asarray(model_params.get('J', 1.))\n",
    "        d = np.asarray(model_params.get('d', 1.))\n",
    "        for u1, u2, dx in self.lat.pairs['nearest_neighbors']:\n",
    "            self.add_coupling(-J, u1, 'Sigmax', u2, 'Sigmax', dx)\n",
    "            self.add_coupling(-J, u1, 'Sigmay', u2, 'Sigmay', dx)\n",
    "            self.add_coupling(-J*d, u1, 'Sigmaz', u2, 'Sigmaz', dx)\n",
    "        # done\n",
    "class XXZChain(XXZModel, NearestNeighborModel):\n",
    "    def __init__(self, model_params):\n",
    "        model_params = asConfig(model_params, self.__class__.__name__)\n",
    "        model_params.setdefault('lattice', \"Chain\")\n",
    "        CouplingMPOModel.__init__(self, model_params)\n",
    "\n",
    "def xxz_mpo(J,Delta,hz=0):\n",
    "    model_params = dict(L=10, J=J, d=Delta, bc_MPS='infinite', conserve=None, verbose=False)\n",
    "    return XXZChain(model_params)\n",
    "\n",
    "#def xxz_mpo(J, Delta, hz, N=1, bc='infinite'):\n",
    "#    site = tp.networks.site.SpinHalfSite(None)\n",
    "#    Id, Sp, Sm, Sz = site.Id, site.Sp, site.Sm, 2*site.Sz\n",
    "#    W_bulk = [[Id, Sp, Sm, Sz, -hz * Sz],\n",
    "#              [None, None, None, None, 0.5 * J * Sm],\n",
    "#              [None, None, None, None, 0.5 * J * Sp],\n",
    "#              [None, None, None, None, J * Delta * Sz],\n",
    "#              [None, None, None, None, Id]]\n",
    "#    H = tp.networks.mpo.MPO.from_grids([site], [W_bulk], bc, IdL=0, IdR=-1) # (probably leave the IdL,IdR)\n",
    "#    return H\n",
    "\n",
    "#def xxz_mpo(J, Delta, hz, N=1, bc='infinite'):\n",
    "#    site = tp.networks.site.SpinHalfSite(None)\n",
    "#    Id, Sp, Sm, Sz = site.Id, site.Sp, site.Sm, 2*site.Sz\n",
    "#    W_bulk = [[Id, Sp, Sm, Sz, -hz * Sz],\n",
    "#              [None, None, None, None, 0.5 * J * Sm],\n",
    "#              [None, None, None, None, 0.5 * J * Sp],\n",
    "#              [None, None, None, None, J * Delta * Sz],\n",
    "#              [None, None, None, None, Id]]\n",
    "    #W_first = [W_bulk[0]]  # first row\n",
    "    #W_last = [[row[-1]] for row in W_bulk]  # last column\n",
    "    #Ws = [W_first] + [W_bulk]*(N - 2) + [W_last]\n",
    "#    H = tp.networks.mpo.MPO.from_grids([site]*N, [W_bulk]*N, bc, IdL=0, IdR=-1) # (probably leave the IdL,IdR)\n",
    "#    return H\n",
    "\n",
    "# tenpy energy calculator\n",
    "def energy_tp(param_vals,*args):\n",
    "    \"\"\"\n",
    "    function to calculate energy using MPO/MPS contraction in tenpy\n",
    "    inputs:\n",
    "        - param_vals = dict {parameter:value}\n",
    "        - *args, \n",
    "            args[0] should be psi: state as IsoMPS\n",
    "            args[1] should be H_mpo: Hamiltonian as MPO\n",
    "        (input made this way to be compatible w/ scipy.optimize)\n",
    "    outputs:\n",
    "        - float, <psi|H|psi> computed w/ tenpy\n",
    "    \"\"\"\n",
    "    # parse inputs\n",
    "    psi=args[0] # state as isoMPS    \n",
    "    H_mpo = args[1] # Hamiltonian as tenpy MPO\n",
    "    param_dict = dict(zip(psi.param_list,param_vals))\n",
    "    \n",
    "    # convert state from holoPy isoMPS to tenpy MPS\n",
    "    psi_tp = psi.to_tenpy(param_dict,L=np.inf)\n",
    "    \n",
    "    # compute energy\n",
    "    E = (H_mpo.expectation_value(psi_tp)).real\n",
    "    return E\n",
    "\n",
    "def energy_tp_corr(param_vals,*args):\n",
    "    psi=args[0]\n",
    "    J,Delta,h = args[1]\n",
    "    psi_tp=psi.to_tenpy(opt_params,L=np.inf)\n",
    "    Cxx_tp = np.mean([4*psi_tp.correlation_function(\"Sx\", \"Sx\", \n",
    "                                                 sites1=[j], \n",
    "                                                 sites2=[j+1],\n",
    "                                                 opstr=None, str_on_first=False, hermitian=False, autoJW=False)\n",
    "                      for j in range(l_uc)])\n",
    "    Cyy_tp = np.mean([4*psi_tp.correlation_function(\"Sy\", \"Sy\", \n",
    "                                                 sites1=[j], \n",
    "                                                 sites2=[j+1],\n",
    "                                                 opstr=None, str_on_first=False, hermitian=False, autoJW=False)\n",
    "                      for j in range(l_uc)])\n",
    "    Czz_tp = np.mean([4*psi_tp.correlation_function(\"Sz\", \"Sz\", \n",
    "                                                 sites1=[j], \n",
    "                                                 sites2=[j+1],\n",
    "                                                 opstr=None, str_on_first=False, hermitian=False, autoJW=False)\n",
    "                      for j in range(l_uc)])\n",
    "    return J*(Cxx_tp+Cyy_tp+Delta*Czz_tp)"
   ]
  },
  {
   "cell_type": "code",
   "execution_count": 20,
   "id": "smaller-chocolate",
   "metadata": {},
   "outputs": [],
   "source": [
    "## HYPERPARAMETERS ##\n",
    "# model (xxz)\n",
    "J = 1.0 # spin-exchange\n",
    "Delta = 1.5 # Ising-anisotropy\n",
    "hz = 0.0 # z-field\n",
    "\n",
    "# ansatz parameters\n",
    "nb = 1 # number of bond-qubits \n",
    "L = 1 # number of unit cells\n",
    "l_uc = 2 # number of sites in unit cell\n",
    "n_site_param = 2*nb # number of circuit parameters per site\n",
    "# number of bond circuit parameters\n",
    "use_bond_prep = False\n",
    "\n",
    "if use_bond_prep:\n",
    "    if nb==1: n_bond_params=3\n",
    "    elif nb==2: n_bond_params=15 \n",
    "else:\n",
    "    n_bond_params=0 "
   ]
  },
  {
   "cell_type": "code",
   "execution_count": 27,
   "id": "answering-consultancy",
   "metadata": {},
   "outputs": [
    {
     "name": "stdout",
     "output_type": "stream",
     "text": [
      "circuits for each site in uc:\n"
     ]
    },
    {
     "data": {
      "image/png": "[encoded data removed]",
      "text/plain": [
       "<Figure size 568.052x144.48 with 1 Axes>"
      ]
     },
     "execution_count": 27,
     "metadata": {},
     "output_type": "execute_result"
    }
   ],
   "source": [
    "## CREATE ISOMPS FROM PARAMETERIZED CIRCUIT ANSATZ ##\n",
    "# initialize registers\n",
    "preg = qk.QuantumRegister(1,'p') # physical qubits\n",
    "breg = qk.QuantumRegister(nb,'b') # bond qubits\n",
    "#creg = qk.ClassicalRegister(L*l_uc+nb,'m') # classical register to hold measurement outcomes\n",
    "\n",
    "## Bond-state prep-circuit ##\n",
    "bond_prep_params = [qk.circuit.Parameter('bp_'+str(j)) \n",
    "                    for j in range(n_bond_params)]\n",
    "bond_prep_circ = qk.QuantumCircuit(breg)\n",
    "if use_bond_prep:\n",
    "    if nb==1: circuits.add_1q_circ(bond_prep_circ, breg[0], bond_prep_params) \n",
    "    elif nb==2: circuits.add_su4_circ(bond_prep_circ, breg[0],breg[1], bond_prep_params) \n",
    "else:\n",
    "    bond_prep_circ.ry(0.234,breg)\n",
    "\n",
    "# turn into custom parameterized circuit object\n",
    "bond_prep_pcirc = QKParamCircuit(bond_prep_circ,bond_prep_params)\n",
    "\n",
    "\n",
    "## Site Circuits ##\n",
    "# create list of circuits, one for each site in the unit cell (uc)\n",
    "site_circs = [qk.QuantumCircuit(preg,breg) for j in range(l_uc)]\n",
    "# create a list of parameter-lists, (one list of parameters per site in uc)\n",
    "site_circ_params = [[qk.circuit.Parameter('s'+str(j)+'_'+str(k))\n",
    "                     for k in range(n_site_param)] \n",
    "                    for j in range(l_uc)]\n",
    "site_pcircs=[] # list of QKParamCirc's for each site in uc\n",
    "for j in range(l_uc):\n",
    "    if j%2==0: site_circs[j].x(preg[0]) # alternating 10101010... for physical qubit\n",
    "    \n",
    "    # star circuit of xxz-type 2-qubit gates\n",
    "    for k in range(nb): \n",
    "        circuits.add_xxz_circ(site_circs[j], \n",
    "                              preg[0], breg[k], \n",
    "                              site_circ_params[j][2*k:2*(k+1)])\n",
    "    # combine into parameterized circuit\n",
    "    site_pcircs += [QKParamCircuit(site_circs[j], site_circ_params[j])]\n",
    "\n",
    "# create holopy isoMPS\n",
    "psi = IsoMPS(preg,breg,site_pcircs,boundary_circuit=bond_prep_pcirc,L=1)\n",
    "\n",
    "print('circuits for each site in uc:')\n",
    "site_circs[1].draw('mpl')"
   ]
  },
  {
   "cell_type": "code",
   "execution_count": 49,
   "id": "residential-calculation",
   "metadata": {
    "scrolled": true
   },
   "outputs": [
    {
     "name": "stdout",
     "output_type": "stream",
     "text": [
      "Optimization done, elapsed time: 7.038043260574341\n",
      "Optimized energy = -1.999999999996675\n",
      "Optimized parameters\n",
      "{Parameter(s0_0): -3.9269920319215488, Parameter(s0_1): -0.028875486622373835, Parameter(s1_0): 1.5707961013168, Parameter(s1_1): 3.1415900697818984}\n"
     ]
    }
   ],
   "source": [
    "## OPTIMIZE CIRCUIT PARAMETERS CLASSICALLY IN TENPY ##\n",
    "# create tenpy mpo\n",
    "H_mpo = xxz_mpo(J=J,hz=hz,Delta=Delta)\n",
    "\n",
    "\n",
    "x0 = np.pi*np.random.randn(psi.n_params) # starting point for parameters\n",
    "t0 = time.time()\n",
    "opt_result = minimize(energy_tp, # function to minimize\n",
    "                      x0, # starting point for parameters \n",
    "                      args=(psi,H_mpo), # must take form (isoMPS,tenpy MPO, Length)\n",
    "                      method='BFGS'\n",
    "                     )\n",
    "tf = time.time()\n",
    "# set parameters to previously optimized values\n",
    "opt_vals = opt_result.x\n",
    "opt_params = dict(zip(psi.param_list,opt_vals))\n",
    "E_gs_tp = opt_result.fun\n",
    "print('Optimization done, elapsed time: {}'.format(tf-t0))\n",
    "print('Optimized energy = {}'.format(E_gs_tp))\n",
    "print('Optimized parameters')\n",
    "print(opt_params)"
   ]
  },
  {
   "cell_type": "code",
   "execution_count": 36,
   "id": "treated-copper",
   "metadata": {},
   "outputs": [],
   "source": [
    "## POSTPROCESSING FUNCTIONS ##\n",
    "def counts_to_correlators(counts,shots):\n",
    "    \"\"\"\n",
    "    converts qiskit-style counts result \n",
    "    to NxN numpy array of 2-point correlatrs\n",
    "    w/ N = # of sites in isoMPS = L*l_uc\n",
    "    \"\"\"\n",
    "    # number of sites (compute from input dictionary shape)\n",
    "    N = len(list(counts.keys())[0].split(\" \")) \n",
    "    C = np.zeros((N,N))\n",
    "    # loop over each measurement outcome\n",
    "    for k in counts.keys(): \n",
    "        split_list = k.split(\" \")[:] # split bits from each register\n",
    "        # note that qiskit typically orders in reverse order \n",
    "        # NOTE: WILL NEED TO REVISIT CREG ORDERING IF WE HAVE OTHER CREGs\n",
    "\n",
    "        # compute up all pairs of correlators\n",
    "        for x in range(N):\n",
    "            for y in range(x+1,N): # use symmetry C[x,y]=C[y,x] to only compute 1/2 of entries\n",
    "               C[x,y] += counts[k] * (2.0*(split_list[x]==split_list[y])-1.0)\n",
    "    C /= shots # normalize\n",
    "    C += C.T + np.eye(N) # we've constructed only the upper-right triangular part\n",
    "    return C\n",
    "\n",
    "def counts_to_mean(counts,shots):\n",
    "    \"\"\"\n",
    "    converts qiskit-type counts result to \n",
    "    one point correlator (mean spin component)\n",
    "    on each site\n",
    "    \"\"\"\n",
    "    N = len(list(counts.keys())[0].split(\" \"))\n",
    "    m = np.zeros(N)\n",
    "    for k in counts.keys(): \n",
    "        split_array = np.array(k.split(\" \")[:]) # split bits from each register\n",
    "        m += 2.0*(split_array=='1')-1.0\n",
    "    m /= shots\n",
    "    return m"
   ]
  },
  {
   "cell_type": "code",
   "execution_count": 37,
   "id": "powerful-farmer",
   "metadata": {},
   "outputs": [],
   "source": [
    "## QISKIT SIMULATION ##\n",
    "L=30 # length of chain to simulate\n",
    "shots = 400 # number of shots for each measurement\n",
    "\n",
    "# list of Pauli strings to measure\n",
    "# example format for L = 3, l_uc = 4: [['xxxy'],['zzzz'],['yzxz']]\n",
    "measurement_strings = [['x'*l_uc]*L,\n",
    "                       ['y'*l_uc]*L,\n",
    "                       ['z'*l_uc]*L] \n",
    "\n",
    "# Create meta-data\n",
    "model_data = {'type':'xxz',\n",
    "              'J':J,\n",
    "              'Delta':Delta,\n",
    "              'hz':hz,\n",
    "              'L':L,\n",
    "              'shots':shots,\n",
    "             }\n",
    "vqe_data = {'architecture':'su4_star',\n",
    "                'nb':nb,\n",
    "                'params':opt_params}\n",
    "\n",
    "## Define Noise Model ##\n",
    "# errors (simulation)\n",
    "perr_1q = 0.000 # 1-qubit gate error\n",
    "perr_2q = 0.00 # 2-qubit gate error\n",
    "# depolarizaing errors\n",
    "depol_1q = noise.depolarizing_error(perr_1q, 1)\n",
    "depol_2q = noise.depolarizing_error(perr_2q, 2)\n",
    "noise_model = noise.NoiseModel()\n",
    "noise_model.add_all_qubit_quantum_error(depol_1q, ['u1', 'u2', 'u3'])\n",
    "noise_model.add_all_qubit_quantum_error(depol_2q, ['cx','cz'])"
   ]
  },
  {
   "cell_type": "code",
   "execution_count": 38,
   "id": "prompt-employee",
   "metadata": {},
   "outputs": [
    {
     "name": "stdout",
     "output_type": "stream",
     "text": [
      "xx\n",
      "yy\n",
      "zz\n",
      "Qiskit Energy density - estimate = -1.7395192307692307\n",
      "Tenpy Optimized energy = -1.9999999999994775\n"
     ]
    }
   ],
   "source": [
    "# loop through measurement strings, and create list of jobs to run\n",
    "jobs = []\n",
    "for m in measurement_strings:\n",
    "    psi_curr = IsoMPS(preg,breg,\n",
    "                      site_pcircs,\n",
    "                      boundary_circuit=bond_prep_pcirc,\n",
    "                     L=L,\n",
    "                     bases=m)\n",
    "    circ_curr = psi_curr.construct_circuit(opt_params)\n",
    "    jobs += [{'name':'xxz_xxzstar_hz{}'.format(hz)+'_basis_'+m[0],\n",
    "              'isoMPS':psi_curr,\n",
    "              'vqe_data':vqe_data,\n",
    "              'qiskit_circuit':circ_curr,\n",
    "              'qasm':circ_curr.qasm(),\n",
    "              'model':model_data,\n",
    "              'basis':m,\n",
    "              'shots':shots,\n",
    "              'job_id':None, # job-id when submitted to honeywell\n",
    "              'qiskit_results':None, # qiskit simultor results\n",
    "              'results':None # Honeywell results\n",
    "              }]    \n",
    "    \n",
    "# setup qiskit simulator\n",
    "simulator = qk.Aer.get_backend('qasm_simulator')\n",
    "for job in jobs:\n",
    "    shots = job['shots']\n",
    "    job['qiskit_results'] = qk.execute(job['qiskit_circuit'], \n",
    "                               simulator, \n",
    "                               shots=shots#,noise_model=noise_model\n",
    "                                      ).result()\n",
    "    \n",
    "# compute two-point correlators from counts\n",
    "Cs = {} # dictionary of 2-point correlators\n",
    "ms = {} # dictionary of 1-spin correlators ('magnetizations')\n",
    "for job in jobs:\n",
    "    print(job['basis'][0])\n",
    "    counts = job['qiskit_results'].get_counts()\n",
    "    key = job['basis'][0][0] #'x','y',or'z' (assumes measurements are same type on each bond)\n",
    "    Cs[key] = counts_to_correlators(counts,job['shots'])\n",
    "    ms[key] = counts_to_mean(counts,job['shots'])\n",
    "N = len(list(counts.keys())[0].split(\" \"))\n",
    "\n",
    "# estimate <H>\n",
    "burn_in = L//4 # number of sites to \"burn in\" MPS channel before measuring\n",
    "sites = np.arange(burn_in,L*l_uc-1) # remaining sites\n",
    "E = 0\n",
    "Cxx_qk = np.mean([Cs['x'][j,j+1] for j in sites])\n",
    "Cyy_qk = np.mean([Cs['y'][j,j+1] for j in sites])\n",
    "Czz_qk = np.mean([Cs['z'][j,j+1] for j in sites])\n",
    "mz_qk = np.mean(ms['z'])\n",
    "\n",
    "#for j in sites:    \n",
    "#    E += job['model']['J']*(Cs['x'][j,j+1]+Cs['y'][j,j+1])\n",
    "#    E += job['model']['J'] * job['model']['Delta']*Cs['z'][j,j+1]\n",
    "#E += job['model']['hz'] * np.sum(ms['z'])\n",
    "#E = E/sites.size # convert to energy density\n",
    "E_gs_qk = job['model']['J']*(Cxx_qk+Cyy_qk+job['model']['Delta']*Czz_qk)+job['model']['hz']*mz_qk\n",
    "print('Qiskit Energy density - estimate = {}'.format(E_gs_qk))\n",
    "print('Tenpy Optimized energy = {}'.format(E_gs_tp))"
   ]
  },
  {
   "cell_type": "code",
   "execution_count": 39,
   "id": "breathing-falls",
   "metadata": {},
   "outputs": [
    {
     "name": "stdout",
     "output_type": "stream",
     "text": [
      "Correlators\n",
      "Tenpy: (<xx>,<yy>,<zz>)=(-0.5000000161766464, -0.5000000000008298, -0.5000000161766464)\n",
      "Qiskit: (<xx>,<yy>,<zz>)=(-0.49749999999999994, -0.49951923076923077, -0.495)\n",
      "Energies\n",
      "Qiskit Energy density - estimate = -1.7395192307692307\n",
      "Tenpy Optimized energy (mpo calculation) = -1.9999999999994775\n",
      "Tenpy energy (correlator calculation): -1.7500000404424458\n"
     ]
    }
   ],
   "source": [
    "## compare correlators to tenpy version\n",
    "psi_tp=psi.to_tenpy(opt_params,L=np.inf)\n",
    "Czz_tp = np.mean([4*psi_tp.correlation_function(\"Sx\", \"Sx\", \n",
    "                                             sites1=[j], \n",
    "                                             sites2=[j+1],\n",
    "                                             opstr=None, str_on_first=False, hermitian=False, autoJW=False)\n",
    "                  for j in range(l_uc)])\n",
    "Cxx_tp = np.mean([4*psi_tp.correlation_function(\"Sy\", \"Sy\", \n",
    "                                             sites1=[j], \n",
    "                                             sites2=[j+1],\n",
    "                                             opstr=None, str_on_first=False, hermitian=False, autoJW=False)\n",
    "                  for j in range(l_uc)])\n",
    "Cyy_tp = np.mean([4*psi_tp.correlation_function(\"Sz\", \"Sz\", \n",
    "                                             sites1=[j], \n",
    "                                             sites2=[j+1],\n",
    "                                             opstr=None, str_on_first=False, hermitian=False, autoJW=False)\n",
    "                  for j in range(l_uc)])\n",
    "\n",
    "print('Correlators')\n",
    "print('Tenpy: (<xx>,<yy>,<zz>)={}'.format((Cxx_tp,Cyy_tp,Czz_tp)))\n",
    "print('Qiskit: (<xx>,<yy>,<zz>)={}'.format((Cxx_qk,Cyy_qk,Czz_qk)))\n",
    "\n",
    "print('Energies')\n",
    "print('Qiskit Energy density - estimate = {}'.format(E_gs_qk))\n",
    "print('Tenpy Optimized energy (mpo calculation) = {}'.format(E_gs_tp))\n",
    "\n",
    "E_gs_tp_corr = job['model']['J']*(Cxx_tp+Cyy_tp+job['model']['Delta']*Czz_tp)#+job['model']['hz']*mz_tp\n",
    "print('Tenpy energy (correlator calculation): {}'.format(E_gs_tp_corr))"
   ]
  },
  {
   "cell_type": "code",
   "execution_count": 40,
   "id": "ecological-cardiff",
   "metadata": {},
   "outputs": [
    {
     "data": {
      "image/png": "[encoded data removed]",
      "text/plain": [
       "<Figure size 432x288 with 1 Axes>"
      ]
     },
     "metadata": {
      "needs_background": "light"
     },
     "output_type": "display_data"
    },
    {
     "data": {
      "image/png": "[encoded data removed]",
      "text/plain": [
       "<Figure size 432x288 with 1 Axes>"
      ]
     },
     "metadata": {
      "needs_background": "light"
     },
     "output_type": "display_data"
    },
    {
     "data": {
      "image/png": "[encoded data removed]",
      "text/plain": [
       "<Figure size 432x288 with 1 Axes>"
      ]
     },
     "metadata": {
      "needs_background": "light"
     },
     "output_type": "display_data"
    }
   ],
   "source": [
    "for j in ['x','y','z']:\n",
    "    plt.figure()\n",
    "    plt.plot(Cs[j][6,:])\n",
    "    plt.title(j)\n",
    "#plt.legend(['x','y','z'])\n",
    "    plt.show()\n",
    "    "
   ]
  },
  {
   "cell_type": "code",
   "execution_count": 41,
   "id": "generous-growth",
   "metadata": {},
   "outputs": [
    {
     "data": {
      "text/plain": [
       "-0.5000000000008298"
      ]
     },
     "execution_count": 41,
     "metadata": {},
     "output_type": "execute_result"
    }
   ],
   "source": [
    "Czz_tp = np.mean([4*psi_tp.correlation_function(\"Sz\", \"Sz\", \n",
    "                                             sites1=[j], \n",
    "                                             sites2=[j+1],\n",
    "                                             opstr=None, str_on_first=False, hermitian=False, autoJW=False)\n",
    "                  for j in range(2)])\n",
    "Czz_tp"
   ]
  },
  {
   "cell_type": "code",
   "execution_count": null,
   "id": "welsh-factory",
   "metadata": {},
   "outputs": [],
   "source": []
  },
  {
   "cell_type": "code",
   "execution_count": 42,
   "id": "cultural-demonstration",
   "metadata": {},
   "outputs": [
    {
     "data": {
      "text/plain": [
       "-0.5000000161766464"
      ]
     },
     "execution_count": 42,
     "metadata": {},
     "output_type": "execute_result"
    }
   ],
   "source": [
    "Cxx_tp"
   ]
  },
  {
   "cell_type": "code",
   "execution_count": null,
   "id": "subsequent-strike",
   "metadata": {},
   "outputs": [],
   "source": []
  }
 ],
 "metadata": {
  "kernelspec": {
   "display_name": "Python 3",
   "language": "python",
   "name": "python3"
  },
  "language_info": {
   "codemirror_mode": {
    "name": "ipython",
    "version": 3
   },
   "file_extension": ".py",
   "mimetype": "text/x-python",
   "name": "python",
   "nbconvert_exporter": "python",
   "pygments_lexer": "ipython3",
   "version": "3.9.1"
  }
 },
 "nbformat": 4,
 "nbformat_minor": 5
}
