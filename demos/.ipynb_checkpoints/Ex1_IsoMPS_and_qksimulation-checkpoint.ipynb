{
 "cells": [
  {
   "cell_type": "markdown",
   "id": "becoming-effect",
   "metadata": {
    "toc": true
   },
   "source": [
    "<h1>Table of Contents<span class=\"tocSkip\"></span></h1>\n",
    "<div class=\"toc\"><ul class=\"toc-item\"><li><span><a href=\"#Setup-the-circuit-ansatz\" data-toc-modified-id=\"Setup-the-circuit-ansatz-1\"><span class=\"toc-item-num\">1&nbsp;&nbsp;</span>Setup the circuit ansatz</a></span><ul class=\"toc-item\"><li><span><a href=\"#Create-a-qiskit-circuit\" data-toc-modified-id=\"Create-a-qiskit-circuit-1.1\"><span class=\"toc-item-num\">1.1&nbsp;&nbsp;</span>Create a qiskit circuit</a></span></li><li><span><a href=\"#Create-IsoMPS-Object-from-list-of-parameterized-circuits\" data-toc-modified-id=\"Create-IsoMPS-Object-from-list-of-parameterized-circuits-1.2\"><span class=\"toc-item-num\">1.2&nbsp;&nbsp;</span>Create IsoMPS Object from list of parameterized circuits</a></span></li></ul></li><li><span><a href=\"#Simulation\" data-toc-modified-id=\"Simulation-2\"><span class=\"toc-item-num\">2&nbsp;&nbsp;</span>Simulation</a></span><ul class=\"toc-item\"><li><span><a href=\"#Define-a-Noise-model-in-qiskit\" data-toc-modified-id=\"Define-a-Noise-model-in-qiskit-2.1\"><span class=\"toc-item-num\">2.1&nbsp;&nbsp;</span>Define a Noise model in qiskit</a></span></li><li><span><a href=\"#Specify-Measurement\" data-toc-modified-id=\"Specify-Measurement-2.2\"><span class=\"toc-item-num\">2.2&nbsp;&nbsp;</span>Specify Measurement</a></span></li><li><span><a href=\"#Run-Qiskit-simulation\" data-toc-modified-id=\"Run-Qiskit-simulation-2.3\"><span class=\"toc-item-num\">2.3&nbsp;&nbsp;</span>Run Qiskit simulation</a></span></li></ul></li></ul></div>"
   ]
  },
  {
   "cell_type": "code",
   "execution_count": 1,
   "id": "printable-sperm",
   "metadata": {},
   "outputs": [],
   "source": [
    "import sys\n",
    "sys.path.append(\"..\") # import one subdirectory up in files\n",
    "#sys.path.append(\"..\") # import one subdirectory up in files\n",
    "#os.chdir(\"../holopy/\")\n",
    "\n",
    "# standard imports\n",
    "import numpy as np\n",
    "from scipy.optimize import minimize\n",
    "import scipy.linalg as la\n",
    "import matplotlib.pyplot as plt\n",
    "import matplotlib\n",
    "import time as time\n",
    "#import json\n",
    "import pickle\n",
    "\n",
    "# 3rd party packages\n",
    "import qiskit as qk\n",
    "import qiskit.providers.aer.noise as noise\n",
    "import tenpy as tp\n",
    "\n",
    "## custom things\n",
    "from networks.networks import IsoMPS\n",
    "from networks.isonetwork import QKParamCircuit, IsoTensor\n",
    "import circuits.basic_circuits as circuits\n",
    "import mps.mps as mps"
   ]
  },
  {
   "cell_type": "markdown",
   "id": "protective-depression",
   "metadata": {},
   "source": [
    "# Setup the circuit ansatz\n",
    "## Create a qiskit circuit\n",
    "(using a function from circuits.basic_circuits)"
   ]
  },
  {
   "cell_type": "code",
   "execution_count": 2,
   "id": "looking-gentleman",
   "metadata": {},
   "outputs": [
    {
     "data": {
      "image/png": "[encoded data removed]",
      "text/plain": [
       "<Figure size 628.252x144.48 with 1 Axes>"
      ]
     },
     "execution_count": 2,
     "metadata": {},
     "output_type": "execute_result"
    }
   ],
   "source": [
    "# Create a circuit\n",
    "preg = qk.QuantumRegister(1,'p') # physical qubits\n",
    "breg = qk.QuantumRegister(1,'b') # bond qubits\n",
    "circ = qk.QuantumCircuit(preg,breg) # circuit\n",
    "\n",
    "# make a u4 circuit in qiskit\n",
    "num_params = 16\n",
    "params = [qk.circuit.Parameter(str(j)) for j in range(num_params)] \n",
    "circuits.add_u4_circ(circ,preg[0],breg[0],params)\n",
    "circ.draw(output='mpl',scale=1.0) # draw circuit "
   ]
  },
  {
   "cell_type": "markdown",
   "id": "breeding-heart",
   "metadata": {},
   "source": [
    "## Create IsoMPS Object from list of parameterized circuits\n",
    "steps:\n",
    "1) wrap the circuit(s) and parameters into QKParamCircuit objects\n",
    "\n",
    "2) make a list of QKParamCircuit's of len = length of unit cell = l_uc for MPS (here l_uc=1)\n",
    "\n",
    "3) create psi of length L, which just repeats the unit cell structure L times (L can be infinity for classical simulations, obviously has to be finite for qiskit simulations)\n"
   ]
  },
  {
   "cell_type": "code",
   "execution_count": 13,
   "id": "parental-spell",
   "metadata": {},
   "outputs": [],
   "source": [
    "# create length-10 IsoMPS object from circuit\n",
    "L=5\n",
    "# create list of parameterized circuit objects \n",
    "# (just qiskit circuits wrapped w/ their parameters)\n",
    "#from which to create qMPS\n",
    "pcircs = [QKParamCircuit(circ, params)]\n",
    "psi = IsoMPS(preg,\n",
    "             breg,\n",
    "             pcircs,\n",
    "             L=L)\n",
    "\n",
    "\n",
    "# example ways to get tensors and unitaries from psi\n",
    "param_dict = dict(zip(psi.param_list,np.random.randn(len(psi.param_list)))) # choose some random parameter values\n",
    "tensors = psi.tensors(param_dict) # list of tensors for each site, index order: physical, bond-out, bond-in\n",
    "unitaries = psi.unitaries(param_dict) # list of unitaries, index order: p-out, b-out, p-in, b-in\n",
    "psi_tenpy = psi.to_tenpy(param_dict,L=L) # convert to tenpy MPS"
   ]
  },
  {
   "cell_type": "markdown",
   "id": "architectural-quilt",
   "metadata": {},
   "source": [
    "# Simulation\n",
    "## Define a Noise model in qiskit\n",
    "(see qiskit docs for other options, we've just been using the simplest option of depolarizing noise with different one qubit (1q) and two qubit (2q) error rates)"
   ]
  },
  {
   "cell_type": "code",
   "execution_count": 4,
   "id": "familiar-director",
   "metadata": {},
   "outputs": [],
   "source": [
    "## Define Noise Model ##\n",
    "# errors (simulation)\n",
    "perr_1q = 0.0005 # 1-qubit gate error\n",
    "perr_2q = 0.005 # 2-qubit gate error\n",
    "# depolarizaing errors\n",
    "depol_1q = noise.depolarizing_error(perr_1q, 1)\n",
    "depol_2q = noise.depolarizing_error(perr_2q, 2)\n",
    "noise_model = noise.NoiseModel()\n",
    "noise_model.add_all_qubit_quantum_error(depol_1q, ['u1', 'u2', 'u3','rx','ry','rz'])\n",
    "noise_model.add_all_qubit_quantum_error(depol_2q, ['cx','cz','rxx'])\n"
   ]
  },
  {
   "cell_type": "markdown",
   "id": "bound-russia",
   "metadata": {},
   "source": [
    "## Specify Measurement\n",
    "Measurements are specified by list of strings with the following structure\n",
    "For MPS with 1-site unit cell ['x','z','x',...] would measure first qubit in x-basis, second in z and so on\n",
    "For MPS with 2-site unit cell ['xz',xx',...] would measure 1st qubit in 1st unit cell in x, 2nd qubit in 1st unit cell in z, etc...\n",
    "\n",
    "Right now, one needs to re-create the psi-object for each different measurement string \n",
    "(\"set_basis\" method is on to-do list...)"
   ]
  },
  {
   "cell_type": "code",
   "execution_count": 14,
   "id": "exotic-speech",
   "metadata": {},
   "outputs": [],
   "source": [
    "measurement_string = ['x']*L\n",
    "psi = IsoMPS(preg,\n",
    "             breg,\n",
    "             pcircs,\n",
    "             L=L,\n",
    "             bases=measurement_string)"
   ]
  },
  {
   "cell_type": "markdown",
   "id": "transparent-jewel",
   "metadata": {},
   "source": [
    "## Run Qiskit simulation"
   ]
  },
  {
   "cell_type": "code",
   "execution_count": 16,
   "id": "frozen-wholesale",
   "metadata": {},
   "outputs": [
    {
     "name": "stdout",
     "output_type": "stream",
     "text": [
      "{'00000': 10, '00001': 12, '10000': 7, '10001': 17, '10010': 7, '10011': 36, '10100': 19, '10101': 37, '10110': 13, '10111': 37, '11000': 14, '11001': 8, '11010': 16, '11011': 75, '11100': 25, '11101': 81, '11110': 10, '11111': 224, '00010': 12, '00011': 28, '00100': 8, '00101': 15, '00110': 2, '00111': 12, '01000': 19, '01001': 6, '01010': 15, '01011': 66, '01100': 17, '01101': 41, '01110': 10, '01111': 101}\n"
     ]
    }
   ],
   "source": [
    "simulator = qk.Aer.get_backend('qasm_simulator')\n",
    "job = qk.execute(psi.construct_circuit(param_dict), \n",
    "                simulator, \n",
    "                shots=1000,\n",
    "                noise_model=noise_model)\n",
    "result = job.result()\n",
    "\n",
    "# prints dict of {measurement-outcome: number of times that outcome appeared}\n",
    "print(result.get_counts()) "
   ]
  },
  {
   "cell_type": "code",
   "execution_count": null,
   "id": "alpha-albania",
   "metadata": {},
   "outputs": [],
   "source": []
  }
 ],
 "metadata": {
  "kernelspec": {
   "display_name": "Python 3",
   "language": "python",
   "name": "python3"
  },
  "language_info": {
   "codemirror_mode": {
    "name": "ipython",
    "version": 3
   },
   "file_extension": ".py",
   "mimetype": "text/x-python",
   "name": "python",
   "nbconvert_exporter": "python",
   "pygments_lexer": "ipython3",
   "version": "3.9.1"
  },
  "toc": {
   "base_numbering": 1,
   "nav_menu": {},
   "number_sections": true,
   "sideBar": true,
   "skip_h1_title": false,
   "title_cell": "Table of Contents",
   "title_sidebar": "Contents",
   "toc_cell": true,
   "toc_position": {},
   "toc_section_display": true,
   "toc_window_display": true
  }
 },
 "nbformat": 4,
 "nbformat_minor": 5
}
