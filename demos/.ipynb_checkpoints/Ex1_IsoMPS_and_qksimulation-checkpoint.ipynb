{
 "cells": [
  {
   "cell_type": "markdown",
   "id": "defined-advertising",
   "metadata": {
    "toc": true
   },
   "source": [
    "<h1>Table of Contents<span class=\"tocSkip\"></span></h1>\n",
    "<div class=\"toc\"><ul class=\"toc-item\"></ul></div>"
   ]
  },
  {
   "cell_type": "code",
   "execution_count": 1,
   "id": "enhanced-preserve",
   "metadata": {},
   "outputs": [],
   "source": [
    "import sys\n",
    "sys.path.append(\"..\") # import one subdirectory up in files\n",
    "#sys.path.append(\"..\") # import one subdirectory up in files\n",
    "#os.chdir(\"../holopy/\")\n",
    "\n",
    "# standard imports\n",
    "import numpy as np\n",
    "from scipy.optimize import minimize\n",
    "import scipy.linalg as la\n",
    "import matplotlib.pyplot as plt\n",
    "import matplotlib\n",
    "import time as time\n",
    "#import json\n",
    "import pickle\n",
    "\n",
    "# 3rd party packages\n",
    "import qiskit as qk\n",
    "import qiskit.providers.aer.noise as noise\n",
    "import tenpy as tp\n",
    "\n",
    "## custom things\n",
    "from networks.networks import IsoMPS\n",
    "from networks.isonetwork import QKParamCircuit, IsoTensor\n",
    "import circuits.basic_circuits as circuits\n",
    "import mps.mps as mps"
   ]
  },
  {
   "cell_type": "code",
   "execution_count": 11,
   "id": "dutch-avatar",
   "metadata": {},
   "outputs": [],
   "source": [
    "# Create a circuit\n",
    "preg = qk.QuantumRegister(1,'p') # physical qubits\n",
    "breg = qk.QuantumRegister(1,'b') # bond qubits\n",
    "circ = qk.QuantumCircuit(preg,breg) # circuit\n",
    "\n",
    "# make a u4 circuit in qiskit\n",
    "num_params = 16\n",
    "params = [qk.circuit.Parameter(str(j)) for j in range(num_params)] \n",
    "circuits.add_u4_circ(circ,preg[0],breg[0],params)\n",
    "circ.draw(output='mpl',scale=1.0) # draw circuit \n",
    "\n",
    "# create length-10 IsoMPS object from circuit\n",
    "L=10\n",
    "site_pcircs = [QKParamCircuit(circ, params) for j in range(L)] \n",
    "# create list of parameterized circuit objects (just qiskit circuits wrapped w/ their parameters)\n",
    "#from which to create qMPS\n",
    "psi = IsoMPS(preg,breg,site_pcircs,L=L)"
   ]
  },
  {
   "cell_type": "code",
   "execution_count": 12,
   "id": "attached-prediction",
   "metadata": {},
   "outputs": [],
   "source": [
    "## Define Noise Model ##\n",
    "# errors (simulation)\n",
    "perr_1q = 0.0005 # 1-qubit gate error\n",
    "perr_2q = 0.005 # 2-qubit gate error\n",
    "# depolarizaing errors\n",
    "depol_1q = noise.depolarizing_error(perr_1q, 1)\n",
    "depol_2q = noise.depolarizing_error(perr_2q, 2)\n",
    "noise_model = noise.NoiseModel()\n",
    "noise_model.add_all_qubit_quantum_error(depol_1q, ['u1', 'u2', 'u3','rx','ry','rz'])\n",
    "noise_model.add_all_qubit_quantum_error(depol_2q, ['cx','cz','rxx'])"
   ]
  },
  {
   "cell_type": "code",
   "execution_count": null,
   "id": "latest-purchase",
   "metadata": {},
   "outputs": [],
   "source": [
    "measurement_string = ['x']*L"
   ]
  }
 ],
 "metadata": {
  "kernelspec": {
   "display_name": "Python 3",
   "language": "python",
   "name": "python3"
  },
  "language_info": {
   "codemirror_mode": {
    "name": "ipython",
    "version": 3
   },
   "file_extension": ".py",
   "mimetype": "text/x-python",
   "name": "python",
   "nbconvert_exporter": "python",
   "pygments_lexer": "ipython3",
   "version": "3.9.1"
  },
  "toc": {
   "base_numbering": 1,
   "nav_menu": {},
   "number_sections": true,
   "sideBar": true,
   "skip_h1_title": false,
   "title_cell": "Table of Contents",
   "title_sidebar": "Contents",
   "toc_cell": true,
   "toc_position": {},
   "toc_section_display": true,
   "toc_window_display": true
  }
 },
 "nbformat": 4,
 "nbformat_minor": 5
}
