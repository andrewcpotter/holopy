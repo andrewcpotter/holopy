{
 "cells": [
  {
   "cell_type": "markdown",
   "metadata": {
    "toc": true
   },
   "source": [
    "<h1>Table of Contents<span class=\"tocSkip\"></span></h1>\n",
    "<div class=\"toc\"><ul class=\"toc-item\"><li><span><a href=\"#Thermal-state-prep\" data-toc-modified-id=\"Thermal-state-prep-1\"><span class=\"toc-item-num\">1&nbsp;&nbsp;</span>Thermal state prep</a></span><ul class=\"toc-item\"><li><span><a href=\"#HoloPy-demo:-spin-chain\" data-toc-modified-id=\"HoloPy-demo:-spin-chain-1.1\"><span class=\"toc-item-num\">1.1&nbsp;&nbsp;</span>HoloPy demo: spin-chain</a></span></li><li><span><a href=\"#1.-Compute-energy-by-exporting-to-tenpy\" data-toc-modified-id=\"1.-Compute-energy-by-exporting-to-tenpy-1.2\"><span class=\"toc-item-num\">1.2&nbsp;&nbsp;</span>1. Compute energy by exporting to tenpy</a></span></li><li><span><a href=\"#Define-the-Model\" data-toc-modified-id=\"Define-the-Model-1.3\"><span class=\"toc-item-num\">1.3&nbsp;&nbsp;</span>Define the Model</a></span><ul class=\"toc-item\"><li><span><a href=\"#classically-optimize-the-variational-circuit-using-Shahin's-code\" data-toc-modified-id=\"classically-optimize-the-variational-circuit-using-Shahin's-code-1.3.1\"><span class=\"toc-item-num\">1.3.1&nbsp;&nbsp;</span>classically optimize the variational circuit using Shahin's code</a></span></li></ul></li><li><span><a href=\"#2.-Qiskit-simulations\" data-toc-modified-id=\"2.-Qiskit-simulations-1.4\"><span class=\"toc-item-num\">1.4&nbsp;&nbsp;</span>2. Qiskit simulations</a></span><ul class=\"toc-item\"><li><span><a href=\"#Qiskit-Simulation\" data-toc-modified-id=\"Qiskit-Simulation-1.4.1\"><span class=\"toc-item-num\">1.4.1&nbsp;&nbsp;</span>Qiskit Simulation</a></span></li></ul></li></ul></li><li><span><a href=\"#Post-processing\" data-toc-modified-id=\"Post-processing-2\"><span class=\"toc-item-num\">2&nbsp;&nbsp;</span>Post-processing</a></span><ul class=\"toc-item\"><li><ul class=\"toc-item\"><li><span><a href=\"#(Note-that,-this-will-have-to-be-adjusted-depending-on-the-structure-of-registers-in-the-circuit)\" data-toc-modified-id=\"(Note-that,-this-will-have-to-be-adjusted-depending-on-the-structure-of-registers-in-the-circuit)-2.0.1\"><span class=\"toc-item-num\">2.0.1&nbsp;&nbsp;</span>(Note that, this will have to be adjusted depending on the structure of registers in the circuit)</a></span></li><li><span><a href=\"#Example:-Compute-E-from-correlators\" data-toc-modified-id=\"Example:-Compute-E-from-correlators-2.0.2\"><span class=\"toc-item-num\">2.0.2&nbsp;&nbsp;</span>Example: Compute E from correlators</a></span></li></ul></li></ul></li></ul></div>"
   ]
  },
  {
   "cell_type": "markdown",
   "metadata": {},
   "source": [
    "# Thermal state prep\n",
    "Parts (to do)\n",
    "1. Classical VQE Optimization of thermal state \n",
    "    - adapt Shahin's code\n",
    "    - add bond-circuit prepr optimization\n",
    "2. Qiskit simulation\n",
    "3. Honeywell submission code"
   ]
  },
  {
   "cell_type": "code",
   "execution_count": 184,
   "metadata": {},
   "outputs": [],
   "source": [
    "# standard imports\n",
    "import numpy as np\n",
    "from scipy.optimize import minimize\n",
    "import matplotlib.pyplot as plt\n",
    "import time as time\n",
    "#import json\n",
    "import pickle\n",
    "\n",
    "# 3rd party packages\n",
    "import qiskit as qk\n",
    "import qiskit.providers.aer.noise as noise\n",
    "import networkx as nx\n",
    "import tenpy as tp\n",
    "\n",
    "## custom things\n",
    "from networks.networks import IsoMPS\n",
    "from networks.isonetwork import QKParamCircuit\n",
    "import circuits.basic_circuits as circuits"
   ]
  },
  {
   "cell_type": "markdown",
   "metadata": {},
   "source": [
    "## HoloPy demo: spin-chain\n",
    "XXZ: $$H_\\text{XXZ}=\\sum_{i}J\\left(\\sigma^x_{i}\\sigma^x_{i+1}+\\sigma^y_{i}\\sigma^y_{i+1} + \\Delta \\sigma^z_i\\sigma^z_{i+1}\\right)+h_z\\sigma^z_i$$"
   ]
  },
  {
   "cell_type": "code",
   "execution_count": 185,
   "metadata": {},
   "outputs": [],
   "source": [
    "# ansatz parameters\n",
    "nb = 2 # number of bond-qubits \n",
    "L = 1 # number of unit cells\n",
    "l_uc = 1 # number of sites in unit cell"
   ]
  },
  {
   "cell_type": "markdown",
   "metadata": {},
   "source": [
    "## 1. Compute energy by exporting to tenpy"
   ]
  },
  {
   "cell_type": "markdown",
   "metadata": {},
   "source": [
    "## Define the Model"
   ]
  },
  {
   "cell_type": "markdown",
   "metadata": {},
   "source": [
    "### classically optimize the variational circuit using Shahin's code"
   ]
  },
  {
   "cell_type": "markdown",
   "metadata": {},
   "source": [
    "## 2. Qiskit simulations\n",
    "Now, compute the energy for the optimized parameter values in qiskit"
   ]
  },
  {
   "cell_type": "code",
   "execution_count": 191,
   "metadata": {},
   "outputs": [],
   "source": [
    "## Specify hyperparameters ##\n",
    "L=10 # length of chain to simulate\n",
    "shots = 1000 # number of shots for each measurement\n",
    "\n",
    "# list of Pauli strings to measure\n",
    "# example format for L = 3, l_uc = 4: [['xxxy'],['zzzz'],['yzxz']]\n",
    "measurement_strings = [['x']*L,\n",
    "                       ['y']*L,\n",
    "                       ['z']*L] \n",
    "\n",
    "\n",
    "# Create meta-data\n",
    "model_data = {'type':'xxz',\n",
    "              'J':J,\n",
    "              'Delta':Delta,\n",
    "              'hz':hz,\n",
    "              'L':L,\n",
    "              'shots':shots,\n",
    "             }\n",
    "vqe_data = {'architecture':'su4_star',\n",
    "                'nb':nb,\n",
    "                'params':opt_params}"
   ]
  },
  {
   "cell_type": "code",
   "execution_count": 192,
   "metadata": {},
   "outputs": [],
   "source": [
    "## Create jobs ##\n",
    "# loop through measurement strings, and create list of jobs to run\n",
    "jobs = []\n",
    "for m in measurement_strings:\n",
    "    psi_curr = IsoMPS(preg,breg,circs,bases=m,L=L)\n",
    "    circ_curr = psi_curr.construct_circuit(opt_params)\n",
    "    jobs += [{'name':'xxz_xxzstar_hz{}'.format(hz)+'_basis_'+m[0],\n",
    "              'isoMPS':psi_curr,\n",
    "              'vqe_data':vqe_data,\n",
    "              'qiskit_circuit':circ_curr,\n",
    "              'qasm':circ_curr.qasm(),\n",
    "              'model':model_data,\n",
    "              'basis':m,\n",
    "              'shots':shots,\n",
    "              'job_id':None, # job-id when submitted to honeywell\n",
    "              'qiskit_results':None, # qiskit simultor results\n",
    "              'results':None # Honeywell results\n",
    "              }]\n",
    "\n",
    "# save jobs dict to pickle file\n",
    "file = open(subdir+'/' + filename, 'wb') \n",
    "pickle.dump(jobs, file)                      \n",
    "file.close() "
   ]
  },
  {
   "cell_type": "markdown",
   "metadata": {},
   "source": [
    "### Qiskit Simulation"
   ]
  },
  {
   "cell_type": "code",
   "execution_count": 193,
   "metadata": {},
   "outputs": [],
   "source": [
    "## Define Noise Model ##\n",
    "# errors (simulation)\n",
    "perr_1q = 0.000 # 1-qubit gate error\n",
    "perr_2q = 0.00 # 2-qubit gate error\n",
    "# depolarizaing errors\n",
    "depol_1q = noise.depolarizing_error(perr_1q, 1)\n",
    "depol_2q = noise.depolarizing_error(perr_2q, 2)\n",
    "noise_model = noise.NoiseModel()\n",
    "noise_model.add_all_qubit_quantum_error(depol_1q, ['u1', 'u2', 'u3'])\n",
    "noise_model.add_all_qubit_quantum_error(depol_2q, ['cx','cz'])"
   ]
  },
  {
   "cell_type": "code",
   "execution_count": 194,
   "metadata": {},
   "outputs": [],
   "source": [
    "## Run Jobs (qiskit version) ##\n",
    "# load job files\n",
    "file = open(subdir+'/' + filename, 'rb') \n",
    "jobs = pickle.load(file)\n",
    "file.close() \n",
    "\n",
    "# setup qiskit simulator\n",
    "simulator = qk.Aer.get_backend('qasm_simulator')\n",
    "for job in jobs:\n",
    "    shots = job['shots']\n",
    "    job['qiskit_results'] = qk.execute(job['qiskit_circuit'], \n",
    "                               simulator, \n",
    "                               shots=shots,\n",
    "                               noise_model=noise_model).result()\n",
    "\n",
    "# save jobs dict to pickle file\n",
    "file = open(subdir+'/' + filename, 'wb') \n",
    "pickle.dump(jobs, file)                      \n",
    "file.close()     "
   ]
  },
  {
   "cell_type": "markdown",
   "metadata": {},
   "source": [
    "# Post-processing\n",
    "\n",
    "First define some functions to extract one- and two- point correlators from counts dictionary\n",
    "\n",
    "### (Note that, this will have to be adjusted depending on the structure of registers in the circuit)"
   ]
  },
  {
   "cell_type": "code",
   "execution_count": 195,
   "metadata": {},
   "outputs": [],
   "source": [
    "def counts_to_correlators(counts,shots):\n",
    "    \"\"\"\n",
    "    converts qiskit-style counts result \n",
    "    to NxN numpy array of 2-point correlatrs\n",
    "    w/ N = # of sites in isoMPS = L*l_uc\n",
    "    \"\"\"\n",
    "    # number of sites (compute from input dictionary shape)\n",
    "    N = len(list(counts.keys())[0].split(\" \")) \n",
    "    C = np.zeros((N,N))\n",
    "    # loop over each measurement outcome\n",
    "    for k in counts.keys(): \n",
    "        split_list = k.split(\" \")[::-1] # split bits from each register\n",
    "        # note that qiskit typically orders in reverse order \n",
    "        # NOTE: WILL NEED TO REVISIT CREG ORDERING IF WE HAVE OTHER CREGs\n",
    "        \n",
    "        # compute up all pairs of correlators\n",
    "        for x in range(N):\n",
    "            for y in range(x+1,N): # use symmetry C[x,y]=C[y,x] to only compute 1/2 of entries\n",
    "               C[x,y] += counts[k] * (2.0*(split_list[x]==split_list[y])-1.0)\n",
    "    C /= shots # normalize\n",
    "    C += C.T + np.eye(N) # we've constructed only the upper-right triangular part\n",
    "    return C\n",
    "\n",
    "def counts_to_mean(counts,shots):\n",
    "    \"\"\"\n",
    "    converts qiskit-type counts result to \n",
    "    one point correlator (mean spin component)\n",
    "    on each site\n",
    "    \"\"\"\n",
    "    N = len(list(counts.keys())[0].split(\" \"))\n",
    "    m = np.zeros(N)\n",
    "    for k in counts.keys(): \n",
    "        split_array = np.array(k.split(\" \")[::-1]) # split bits from each register\n",
    "        m += 2.0*(split_array=='1')-1.0\n",
    "    m /= shots\n",
    "    return m"
   ]
  },
  {
   "cell_type": "markdown",
   "metadata": {},
   "source": [
    "### Example: Compute E from correlators"
   ]
  },
  {
   "cell_type": "code",
   "execution_count": 196,
   "metadata": {},
   "outputs": [
    {
     "name": "stdout",
     "output_type": "stream",
     "text": [
      "Energy density - estimate = -1.329\n"
     ]
    }
   ],
   "source": [
    "## Post-process results ##\n",
    "# load job files\n",
    "file = open(subdir+'/' + filename, 'rb') \n",
    "jobs = pickle.load(file)\n",
    "file.close() \n",
    "\n",
    "# compute two-point correlators from counts\n",
    "Cs = {} # dictionary of 2-point correlators\n",
    "ms = {} # dictionary of 1-spin correlators ('magnetizations')\n",
    "for job in jobs:\n",
    "    counts = job['qiskit_results'].get_counts()\n",
    "    key = job['basis'][0] #'x','y',or'z' (assumes measurements are same type on each bond)\n",
    "    Cs[key] = counts_to_correlators(counts,job['shots'])\n",
    "    ms[key] = counts_to_mean(counts,job['shots'])\n",
    "N = len(list(counts.keys())[0].split(\" \"))\n",
    "\n",
    "\n",
    "# estimate <H>\n",
    "burn_in = 4 # number of sites to \"burn in\" MPS channel before measuring\n",
    "sites = np.arange(burn_in,L*l_uc-1) # remaining sites\n",
    "E = 0\n",
    "for j in sites:\n",
    "    E += job['model']['J']*(Cs['x'][j,j+1]+Cs['y'][j,j+1])\n",
    "    E += job['model']['J'] * job['model']['Delta']*Cs['z'][j,j+1]\n",
    "E += job['model']['hz'] * np.sum(ms['z'])\n",
    "E = E/sites.size # convert to energy density\n",
    "print('Energy density - estimate = {}'.format(E))\n",
    "\n",
    "# save jobs dict to pickle file\n",
    "#file = open(subdir+'/' + filename, 'wb') \n",
    "#pickle.dump(jobs, file)                      \n",
    "#file.close()  "
   ]
  },
  {
   "cell_type": "code",
   "execution_count": 197,
   "metadata": {},
   "outputs": [],
   "source": [
    "## Plot results ##\n"
   ]
  },
  {
   "cell_type": "code",
   "execution_count": null,
   "metadata": {},
   "outputs": [],
   "source": []
  }
 ],
 "metadata": {
  "kernelspec": {
   "display_name": "Python 3",
   "language": "python",
   "name": "python3"
  },
  "language_info": {
   "codemirror_mode": {
    "name": "ipython",
    "version": 3
   },
   "file_extension": ".py",
   "mimetype": "text/x-python",
   "name": "python",
   "nbconvert_exporter": "python",
   "pygments_lexer": "ipython3",
   "version": "3.9.1"
  },
  "toc": {
   "base_numbering": 1,
   "nav_menu": {},
   "number_sections": true,
   "sideBar": true,
   "skip_h1_title": false,
   "title_cell": "Table of Contents",
   "title_sidebar": "Contents",
   "toc_cell": true,
   "toc_position": {},
   "toc_section_display": true,
   "toc_window_display": true
  }
 },
 "nbformat": 4,
 "nbformat_minor": 4
}
