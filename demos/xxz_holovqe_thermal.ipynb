{
 "cells": [
  {
   "cell_type": "markdown",
   "id": "unable-maine",
   "metadata": {
    "toc": true
   },
   "source": [
    "<h1>Table of Contents<span class=\"tocSkip\"></span></h1>\n",
    "<div class=\"toc\"><ul class=\"toc-item\"><li><ul class=\"toc-item\"><li><span><a href=\"#Imports\" data-toc-modified-id=\"Imports-0.1\"><span class=\"toc-item-num\">0.1&nbsp;&nbsp;</span>Imports</a></span></li></ul></li><li><span><a href=\"#Classical-Optimization\" data-toc-modified-id=\"Classical-Optimization-1\"><span class=\"toc-item-num\">1&nbsp;&nbsp;</span>Classical Optimization</a></span></li><li><span><a href=\"#Qiskit-Simulation\" data-toc-modified-id=\"Qiskit-Simulation-2\"><span class=\"toc-item-num\">2&nbsp;&nbsp;</span>Qiskit Simulation</a></span></li><li><span><a href=\"#Honeywell-Job-Submission\" data-toc-modified-id=\"Honeywell-Job-Submission-3\"><span class=\"toc-item-num\">3&nbsp;&nbsp;</span>Honeywell Job Submission</a></span></li></ul></div>"
   ]
  },
  {
   "cell_type": "markdown",
   "id": "brave-purchase",
   "metadata": {},
   "source": [
    "## Imports"
   ]
  },
  {
   "cell_type": "code",
   "execution_count": 1,
   "id": "vocal-learning",
   "metadata": {},
   "outputs": [],
   "source": [
    "import sys\n",
    "sys.path.append(\"..\") # import one subdirectory up in files\n",
    "#sys.path.append(\"..\") # import one subdirectory up in files\n",
    "#os.chdir(\"../holopy/\")\n",
    "\n",
    "# standard imports\n",
    "import numpy as np\n",
    "from scipy.optimize import minimize\n",
    "import scipy.linalg as la\n",
    "import matplotlib.pyplot as plt\n",
    "import matplotlib\n",
    "import time as time\n",
    "#import json\n",
    "import pickle\n",
    "\n",
    "# 3rd party packages\n",
    "import qiskit as qk\n",
    "import qiskit.providers.aer.noise as noise\n",
    "import tenpy as tp\n",
    "\n",
    "## custom things\n",
    "from networks.networks import IsoMPS\n",
    "from networks.isonetwork import QKParamCircuit, IsoTensor\n",
    "import circuits.basic_circuits as circuits\n",
    "import mps.mps as mps"
   ]
  },
  {
   "cell_type": "markdown",
   "id": "choice-candidate",
   "metadata": {},
   "source": [
    "# Classical Optimization"
   ]
  },
  {
   "cell_type": "code",
   "execution_count": null,
   "id": "engaged-square",
   "metadata": {},
   "outputs": [],
   "source": [
    "## Hyper parameters ##"
   ]
  },
  {
   "cell_type": "code",
   "execution_count": null,
   "id": "offshore-furniture",
   "metadata": {},
   "outputs": [],
   "source": [
    "## HYPERPARAMETERS ##\n",
    "# model (xxz)\n",
    "J = 1.0 # spin-exchange\n",
    "Delta = 1.25 # Ising-anisotropy\n",
    "hz = 0.0 # z-field\n",
    "\n",
    "# ansatz parameters\n",
    "nb = 2 # number of bond-qubits \n",
    "L = 1 # number of unit cells\n",
    "l_uc = 2 # number of sites in unit cell\n",
    "n_site_param = 2*nb # number of circuit parameters per site"
   ]
  },
  {
   "cell_type": "markdown",
   "id": "frank-billion",
   "metadata": {},
   "source": [
    "# Qiskit Simulation"
   ]
  },
  {
   "cell_type": "markdown",
   "id": "fallen-advantage",
   "metadata": {},
   "source": [
    "# Honeywell Job Submission"
   ]
  },
  {
   "cell_type": "code",
   "execution_count": null,
   "id": "lasting-chase",
   "metadata": {},
   "outputs": [],
   "source": []
  }
 ],
 "metadata": {
  "kernelspec": {
   "display_name": "Python 3",
   "language": "python",
   "name": "python3"
  },
  "language_info": {
   "codemirror_mode": {
    "name": "ipython",
    "version": 3
   },
   "file_extension": ".py",
   "mimetype": "text/x-python",
   "name": "python",
   "nbconvert_exporter": "python",
   "pygments_lexer": "ipython3",
   "version": "3.9.1"
  },
  "toc": {
   "base_numbering": 1,
   "nav_menu": {},
   "number_sections": true,
   "sideBar": true,
   "skip_h1_title": false,
   "title_cell": "Table of Contents",
   "title_sidebar": "Contents",
   "toc_cell": true,
   "toc_position": {},
   "toc_section_display": true,
   "toc_window_display": true
  }
 },
 "nbformat": 4,
 "nbformat_minor": 5
}
